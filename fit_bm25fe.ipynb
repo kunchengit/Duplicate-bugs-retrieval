{
 "cells": [
  {
   "cell_type": "code",
   "execution_count": 126,
   "metadata": {
    "collapsed": false
   },
   "outputs": [],
   "source": [
    "import MySQLdb\n",
    "import pandas\n",
    "import itertools\n",
    "import numpy as np\n",
    "import bm25fe\n",
    "import pickle"
   ]
  },
  {
   "cell_type": "code",
   "execution_count": 112,
   "metadata": {
    "collapsed": false
   },
   "outputs": [
    {
     "name": "stdout",
     "output_type": "stream",
     "text": [
      "128\n"
     ]
    }
   ],
   "source": [
    "conn = MySQLdb.connect(host='10.117.8.41', port=3306, user='root', passwd='vmware', db='bugfeature')\n",
    "cur = conn.cursor()\n",
    "\n",
    "sql = '''SELECT dup_of, dup\n",
    "FROM dups_cpdplatform left join bugs_cpdplatform as b1 on dups_cpdplatform.dup=b1.bug_id left join bugs_cpdplatform as b2 on dups_cpdplatform.dup_of=b2.bug_id where b1.long_desc != '' and b2.long_desc != '' '''\n",
    "\n",
    "cur.execute(sql)\n",
    "dups = cur.fetchall()\n",
    "\n",
    "dups_train = dups[:128]\n",
    "print len(dups_train)\n",
    "\n",
    "dupset = set(itertools.chain(*dups))"
   ]
  },
  {
   "cell_type": "code",
   "execution_count": 113,
   "metadata": {
    "collapsed": false
   },
   "outputs": [],
   "source": [
    "conn = MySQLdb.connect(host='10.117.8.41', port=3306, user='root', passwd='vmware', db='bugfeature')\n",
    "cur = conn.cursor()\n",
    "\n",
    "sql = '''SELECT bug_id, short_desc, long_desc\n",
    "FROM bugs_cpdplatform'''\n",
    "\n",
    "# bugs = pandas.io.sql.read_sql(sql, conn).set_index(['bug_id'])\n",
    "bugs = pandas.io.sql.read_sql(sql, conn)\n",
    "\n",
    "# bugs_filtered = bugs[(not bugs['bug_id'] in dupset) & (len(bugs['long_desc'])>0)]\n",
    "criterion1 = bugs['bug_id'].map(lambda x:  not x in dupset)\n",
    "criterion2 = bugs['long_desc'].map(lambda x:  len(x)>0)\n",
    "bugs_filtered = bugs[ criterion1 & criterion2]"
   ]
  },
  {
   "cell_type": "code",
   "execution_count": 114,
   "metadata": {
    "collapsed": false
   },
   "outputs": [
    {
     "name": "stdout",
     "output_type": "stream",
     "text": [
      "1280\n"
     ]
    }
   ],
   "source": [
    "train = []\n",
    "bugs_filtered.sample(random_state=0)\n",
    "for item in dups_train:\n",
    "    train += list(bugs_filtered.sample(n=10)['bug_id'].map(lambda x: (item[0], item[1], x)))\n",
    "\n",
    "print len(train)"
   ]
  },
  {
   "cell_type": "code",
   "execution_count": 115,
   "metadata": {
    "collapsed": true
   },
   "outputs": [],
   "source": [
    "bugset = set(itertools.chain(*train))\n",
    "criterion = bugs['bug_id'].map(lambda x: x in bugset)\n",
    "bugs_train = bugs[criterion]\n",
    "n = bugs_train.shape[0]\n",
    "texts = list(bugs_train['short_desc']) + list(bugs_train['long_desc'])"
   ]
  },
  {
   "cell_type": "code",
   "execution_count": 116,
   "metadata": {
    "collapsed": false
   },
   "outputs": [],
   "source": [
    "# print n\n",
    "# print len(texts)\n",
    "# print len(bugset)\n",
    "# print train\n",
    "# print bugs_filtered.shape\n",
    "# print criterion\n",
    "# print bugset\n",
    "# print bugs.shape\n",
    "# print type(criterion1)"
   ]
  },
  {
   "cell_type": "code",
   "execution_count": 117,
   "metadata": {
    "collapsed": false
   },
   "outputs": [],
   "source": [
    "from sklearn.feature_extraction.text import CountVectorizer\n",
    "vectorizer = CountVectorizer(analyzer = \"word\",ngram_range=(1, 1), tokenizer = None, preprocessor = None,\n",
    "                             stop_words = None, lowercase = False, \n",
    "                             max_df = 0.9, min_df = 10, max_features = 100000)\n",
    "\n",
    "vectors = vectorizer.fit_transform(texts).toarray()\n",
    "vectors_sd = np.array(vectors[:n])\n",
    "vectors_ld = np.array(vectors[n:])\n",
    "\n",
    "bug_feature = pandas.DataFrame({'bug_id':bugs_train['bug_id'], 'short_desc':list(vectors_sd), 'long_desc':list(vectors_ld)}).set_index(['bug_id'])\n",
    "\n",
    "appearance = (vectors_sd + vectors_ld)>0\n",
    "df = appearance.sum(0)\n",
    "idf = np.log(n/df)\n",
    "avgfl = np.array([vectors_sd.sum(1).mean(), vectors_ld.sum(1).mean()])"
   ]
  },
  {
   "cell_type": "code",
   "execution_count": 118,
   "metadata": {
    "collapsed": false
   },
   "outputs": [],
   "source": [
    "# print type(vectors[:n])\n",
    "# print vectors[0]\n",
    "# print len(vectorizer.vocabulary_)\n",
    "# print bug_feature.iloc[0,1]\n",
    "# print list(vectors_sd)[0]\n",
    "# print vectors_sd.sum(1).mean()"
   ]
  },
  {
   "cell_type": "code",
   "execution_count": 119,
   "metadata": {
    "collapsed": false
   },
   "outputs": [],
   "source": [
    "def costfunc (params, train, bug_feature, idf, avgfl):\n",
    "    scorer = bm25fe.bm25fe(K1=params[0], d_B=(params[1], params[2]), d_W = (params[3], params[4]), K3=params[5], q_B=(params[6], params[7]), q_W=(params[8], params[9]))\n",
    "    cost = 0\n",
    "    for item in train:\n",
    "        cost += np.log(1+np.exp(scorer.score(idf, avgfl, [bug_feature.loc[item[2],'short_desc'], bug_feature.loc[item[2],'long_desc']],\n",
    "                                            [bug_feature.loc[item[0],'short_desc'], bug_feature.loc[item[0],'long_desc']])-\n",
    "                                scorer.score(idf, avgfl, [bug_feature.loc[item[1],'short_desc'], bug_feature.loc[item[1],'long_desc']],\n",
    "                                            [bug_feature.loc[item[0],'short_desc'], bug_feature.loc[item[0],'long_desc']])))\n",
    "    return cost"
   ]
  },
  {
   "cell_type": "code",
   "execution_count": 120,
   "metadata": {
    "collapsed": false
   },
   "outputs": [],
   "source": [
    "def costfunc_der (params, train, bug_feature, idf, avgfl):\n",
    "    scorer = bm25fe.bm25fe(K1=params[0], d_B=(params[1], params[2]), d_W = (params[3], params[4]), K3=params[5], q_B=(params[6], params[7]), q_W=(params[8], params[9]))\n",
    "    der = np.zeros(params.size)\n",
    "    for item in train:\n",
    "        differ = (scorer.score(idf, avgfl, [bug_feature.loc[item[2],'short_desc'], bug_feature.loc[item[2],'long_desc']],\n",
    "                               [bug_feature.loc[item[0],'short_desc'], bug_feature.loc[item[0],'long_desc']])-\n",
    "                  scorer.score(idf, avgfl, [bug_feature.loc[item[1],'short_desc'], bug_feature.loc[item[1],'long_desc']],\n",
    "                               [bug_feature.loc[item[0],'short_desc'], bug_feature.loc[item[0],'long_desc']]))\n",
    "        der += np.exp(differ)/(1+np.exp(differ))*(scorer.derivative(idf, avgfl, [bug_feature.loc[item[2],'short_desc'], bug_feature.loc[item[2],'long_desc']],\n",
    "                                                             [bug_feature.loc[item[0],'short_desc'], bug_feature.loc[item[0],'long_desc']])-\n",
    "                                                  scorer.derivative(idf, avgfl, [bug_feature.loc[item[1],'short_desc'], bug_feature.loc[item[1],'long_desc']],\n",
    "                                                               [bug_feature.loc[item[0],'short_desc'], bug_feature.loc[item[0],'long_desc']]))\n",
    "    return der"
   ]
  },
  {
   "cell_type": "code",
   "execution_count": 121,
   "metadata": {
    "collapsed": false
   },
   "outputs": [],
   "source": [
    "# bm25fe = reload(bm25fe)"
   ]
  },
  {
   "cell_type": "code",
   "execution_count": 122,
   "metadata": {
    "collapsed": false
   },
   "outputs": [
    {
     "name": "stdout",
     "output_type": "stream",
     "text": [
      "  status: 2\n",
      " success: False\n",
      "    nfev: 215\n",
      "     fun: nan\n",
      "       x: array([  1.09256319e+02,   7.48227365e-01,   1.00000000e+00,\n",
      "         6.49770392e-01,   1.16469720e-02,   5.94334749e-03,\n",
      "         4.52067286e-01,   6.87237714e-02,   1.00000000e+00,\n",
      "         6.78361624e-03])\n",
      " message: 'ABNORMAL_TERMINATION_IN_LNSRCH'\n",
      "     jac: array([ -1.85300073e-03,  -2.18933100e+00,  -2.61350943e+03,\n",
      "        -3.28470353e+00,  -5.36421347e+01,   4.68261575e+01,\n",
      "         9.17508896e-03,  -4.33347455e-01,  -4.58505307e-02,\n",
      "        -3.68698798e+01])\n",
      "     nit: 107\n"
     ]
    }
   ],
   "source": [
    "from scipy import optimize\n",
    "params0 = [1.2, 0.75, 0.75, 0.5, 0.5, 1.2, 0.75, 0.75, 0.5, 0.5]\n",
    "bounds = ((0, None), (0, 1), (0, 1), (0, 1), (0, 1), (0, None), (0, 1), (0, 1), (0, 1), (0, 1))\n",
    "\n",
    "result = optimize.minimize(costfunc, params0, args=(train, bug_feature, idf, avgfl), jac=costfunc_der, bounds=bounds)\n",
    "\n",
    "print result"
   ]
  },
  {
   "cell_type": "code",
   "execution_count": 124,
   "metadata": {
    "collapsed": false
   },
   "outputs": [
    {
     "name": "stdout",
     "output_type": "stream",
     "text": [
      "<type 'numpy.ndarray'>\n"
     ]
    }
   ],
   "source": [
    "print type(result.x)"
   ]
  },
  {
   "cell_type": "code",
   "execution_count": 127,
   "metadata": {
    "collapsed": false
   },
   "outputs": [],
   "source": [
    "with open('params.txt', 'wb') as f:\n",
    "    pickle.dump(result.x, f)\n",
    "    f.close()"
   ]
  },
  {
   "cell_type": "code",
   "execution_count": 90,
   "metadata": {
    "collapsed": false
   },
   "outputs": [
    {
     "name": "stdout",
     "output_type": "stream",
     "text": [
      "False\n",
      "3498\n",
      "(3498, 3)\n"
     ]
    }
   ],
   "source": [
    "# print train\n",
    "# print str(915183) in bugset\n",
    "# print bugset\n",
    "# print len(bugset)\n",
    "# print bugs_train.shape"
   ]
  },
  {
   "cell_type": "code",
   "execution_count": null,
   "metadata": {
    "collapsed": true
   },
   "outputs": [],
   "source": []
  }
 ],
 "metadata": {
  "kernelspec": {
   "display_name": "Python 2",
   "language": "python",
   "name": "python2"
  },
  "language_info": {
   "codemirror_mode": {
    "name": "ipython",
    "version": 2
   },
   "file_extension": ".py",
   "mimetype": "text/x-python",
   "name": "python",
   "nbconvert_exporter": "python",
   "pygments_lexer": "ipython2",
   "version": "2.7.8"
  }
 },
 "nbformat": 4,
 "nbformat_minor": 0
}
