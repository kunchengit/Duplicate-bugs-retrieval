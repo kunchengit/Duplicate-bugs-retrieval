{
 "cells": [
  {
   "cell_type": "code",
   "execution_count": 6,
   "metadata": {
    "collapsed": false
   },
   "outputs": [],
   "source": [
    "import MySQLdb\n",
    "import pandas\n",
    "import itertools\n",
    "import numpy as np\n",
    "import bm25fe\n",
    "import pickle"
   ]
  },
  {
   "cell_type": "code",
   "execution_count": 7,
   "metadata": {
    "collapsed": true
   },
   "outputs": [],
   "source": [
    "conn = MySQLdb.connect(host='10.117.8.41', port=3306, user='root', passwd='vmware', db='bugfeature')\n",
    "cur = conn.cursor()\n",
    "\n",
    "sql = '''SELECT bug_id, short_desc, long_desc\n",
    "FROM bugs_cpdplatform'''\n",
    "\n",
    "# bugs = pandas.io.sql.read_sql(sql, conn).set_index(['bug_id'])\n",
    "bugs = pandas.io.sql.read_sql(sql, conn)"
   ]
  },
  {
   "cell_type": "code",
   "execution_count": 8,
   "metadata": {
    "collapsed": false
   },
   "outputs": [],
   "source": [
    "with open('train100.txt', 'rb') as f:\n",
    "    train = pickle.load(f)\n",
    "\n",
    "bugset = []\n",
    "for item in train:\n",
    "    bugset.append(item['query'])\n",
    "    bugset.append(item['rel'])\n",
    "    bugset += item['irrel']\n",
    "\n",
    "bugset = set(bugset)\n",
    "# bugset = set(itertools.chain(*train))\n",
    "\n",
    "criterion = bugs['bug_id'].map(lambda x: x in bugset)\n",
    "bugs_train = bugs[criterion]"
   ]
  },
  {
   "cell_type": "code",
   "execution_count": 9,
   "metadata": {
    "collapsed": false
   },
   "outputs": [
    {
     "name": "stdout",
     "output_type": "stream",
     "text": [
      "8647\n"
     ]
    },
    {
     "name": "stderr",
     "output_type": "stream",
     "text": [
      "/root/.virtualenvs/dup_bug_retrieval/lib/python2.7/site-packages/pandas/core/indexing.py:415: SettingWithCopyWarning: \n",
      "A value is trying to be set on a copy of a slice from a DataFrame.\n",
      "Try using .loc[row_indexer,col_indexer] = value instead\n",
      "\n",
      "See the the caveats in the documentation: http://pandas.pydata.org/pandas-docs/stable/indexing.html#indexing-view-versus-copy\n",
      "  self.obj[item] = s\n"
     ]
    }
   ],
   "source": [
    "from gensim import corpora\n",
    "from gensim import matutils\n",
    "\n",
    "# dictionary = corpora.Dictionary(list(bugs_train['text']))\n",
    "# dictionary.filter_extremes(no_below = 10, no_above = 0.9, keep_n = 100000)\n",
    "dictionary = corpora.Dictionary.load_from_text('dictionary.txt')\n",
    "num_terms = len(dictionary)\n",
    "print num_terms\n",
    "bugs_train.loc[:,'short_desc'] = bugs_train['short_desc'].map(lambda x: matutils.corpus2dense([dictionary.doc2bow(x.split())], num_terms, 1)[:,0])\n",
    "bugs_train.loc[:,'long_desc'] = bugs_train['long_desc'].map(lambda x: matutils.corpus2dense([dictionary.doc2bow(x.split())], num_terms, 1)[:,0])"
   ]
  },
  {
   "cell_type": "code",
   "execution_count": 10,
   "metadata": {
    "collapsed": true
   },
   "outputs": [],
   "source": [
    "idf = np.log(bugs_train.shape[0]/np.array(dictionary.dfs.values()))\n",
    "avgfl = np.array([np.array(list(bugs_train['short_desc'])).sum(1).mean(), np.array(list(bugs_train['long_desc'])).sum(1).mean()])\n",
    "\n",
    "bugs_train = bugs_train.set_index(['bug_id'])"
   ]
  },
  {
   "cell_type": "code",
   "execution_count": null,
   "metadata": {
    "collapsed": true
   },
   "outputs": [],
   "source": [
    "def cost(bm, bugs, train, idf, avgfl):\n",
    "    cost = 0\n",
    "    for item in train:\n",
    "        for bug in item['irrel']:\n",
    "            differ = (bm.score(idf, avgfl, [bugs.loc[bug,'short_desc'], bugs.loc[bug,'long_desc']], [bugs.loc[item['query'],'short_desc'], bugs.loc[item['query'],'long_desc']])-\n",
    "                      bm.score(idf, avgfl, [bugs.loc[item['rel'],'short_desc'], bugs.loc[item['rel'],'long_desc']], [bugs.loc[item['query'],'short_desc'], bugs.loc[item['query'],'long_desc']]))\n",
    "            cost += np.log(1+np.exp(differ))\n",
    "    return cost"
   ]
  },
  {
   "cell_type": "code",
   "execution_count": null,
   "metadata": {
    "collapsed": false
   },
   "outputs": [],
   "source": [
    "params = np.array([1.2, 0.75, 0.75, 2, 1, 1.2, 0.75, 0.75, 2, 1])\n",
    "step = 1e-6\n",
    "beta = 0.8\n",
    "for i in xrange(24):\n",
    "    for item in train:\n",
    "        bm = bm25fe.bm25fe(K1=params[0], d_B=(params[1], params[2]), d_W = (params[3], params[4]), K3=params[5], q_B=(params[6], params[7]), q_W=(params[8], params[9]))\n",
    "        der = np.zeros(params.size)\n",
    "        for bug in item['irrel']:\n",
    "            differ = (bm.score(idf, avgfl, [bugs_train.loc[bug,'short_desc'], bugs_train.loc[bug,'long_desc']], [bugs_train.loc[item['query'],'short_desc'], bugs_train.loc[item['query'],'long_desc']])-\n",
    "                      bm.score(idf, avgfl, [bugs_train.loc[item['rel'],'short_desc'], bugs_train.loc[item['rel'],'long_desc']], [bugs_train.loc[item['query'],'short_desc'], bugs_train.loc[item['query'],'long_desc']]))\n",
    "            der += np.exp(differ)/(1+np.exp(differ))*(bm.derivative(idf, avgfl, [bugs_train.loc[bug,'short_desc'], bugs_train.loc[bug,'long_desc']],[bugs_train.loc[item['query'],'short_desc'], bugs_train.loc[item['query'],'long_desc']])-\n",
    "                                                      bm.derivative(idf, avgfl, [bugs_train.loc[item['rel'],'short_desc'], bugs_train.loc[item['rel'],'long_desc']],[bugs_train.loc[item['query'],'short_desc'], bugs_train.loc[item['query'],'long_desc']]))\n",
    "        while 1:\n",
    "            inner = params - der*step\n",
    "            bm_inner = bm25fe.bm25fe(K1=inner[0], d_B=(inner[1], inner[2]), d_W = (inner[3], inner[4]), K3=inner[5], q_B=(inner[6], inner[7]), q_W=(inner[8], inner[9]))\n",
    "            if cost(bm_inner, bugs_train, train, idf, avgfl) < cost(bm, bugs_train, train, idf, avgfl):\n",
    "                break\n",
    "            step = beta*step\n",
    "        params = inner\n",
    "            \n",
    "print params"
   ]
  },
  {
   "cell_type": "code",
   "execution_count": 118,
   "metadata": {
    "collapsed": false
   },
   "outputs": [],
   "source": [
    "# print type(vectors[:n])\n",
    "# print vectors[0]\n",
    "# print len(vectorizer.vocabulary_)\n",
    "# print bug_feature.iloc[0,1]\n",
    "# print list(vectors_sd)[0]\n",
    "# print vectors_sd.sum(1).mean()"
   ]
  },
  {
   "cell_type": "code",
   "execution_count": 90,
   "metadata": {
    "collapsed": false
   },
   "outputs": [
    {
     "name": "stdout",
     "output_type": "stream",
     "text": [
      "False\n",
      "3498\n",
      "(3498, 3)\n"
     ]
    }
   ],
   "source": [
    "# print train\n",
    "# print str(915183) in bugset\n",
    "# print bugset\n",
    "# print len(bugset)\n",
    "# print bugs_train.shape"
   ]
  },
  {
   "cell_type": "code",
   "execution_count": null,
   "metadata": {
    "collapsed": true
   },
   "outputs": [],
   "source": []
  }
 ],
 "metadata": {
  "kernelspec": {
   "display_name": "Python 2",
   "language": "python",
   "name": "python2"
  }
 },
 "nbformat": 4,
 "nbformat_minor": 0
}
