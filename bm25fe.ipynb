{
 "cells": [
  {
   "cell_type": "code",
   "execution_count": 2,
   "metadata": {
    "collapsed": true
   },
   "outputs": [],
   "source": [
    "import numpy as np\n",
    "\n",
    "class BM25Fe():\n",
    "    \"\"\"Implements the BM25F scoring algorithm.\n",
    "    \"\"\"\n",
    " \n",
    "    def __init__(self, K1=1.2, d_B=(0.75, 0.75), d_W = (1, 1), K3=1.2, q_B=(0.75, 0.75), q_W=(1, 1)):\n",
    "        \"\"\"\n",
    "        \n",
    "        :param B: free parameter, see the BM25 literature. Keyword arguments of\n",
    "            the form ``fieldname_B`` (for example, ``body_B``) set field-\n",
    "            specific values for B.\n",
    "        :param K1: free parameter, see the BM25 literature.\n",
    "        \"\"\"\n",
    "        \n",
    "        self.K1 = K1\n",
    "        self.d_B = d_B\n",
    "        self.d_W = d_W\n",
    "        \n",
    "        self.K3 = K3\n",
    "        self.q_B = q_B\n",
    "        self.q_W = q_W\n",
    "        \n",
    "        self.fields = len(d_B)\n",
    "        \n",
    "        \n",
    "    def score(self, idf, avgfl, doc, query):\n",
    "        \n",
    "        doc = numpy.array(doc)\n",
    "        query = numpy.array(query)\n",
    "        \n",
    "        doc_n = numpy.zeros(doc[0].size)\n",
    "        query_n = numpy.zeros(query[0].size)\n",
    "        for i in xrange(self.fields):\n",
    "            doc_n += self.d_W[i]/(1-self.d_B[i]+self.d_B[i]*doc[i].sum()/avgfl[i])*doc[i]\n",
    "            query_n += self.q_W[i]/(1-self.q_B[i]+self.q_B[i]*query[i].sum()/avgfl[i])*query[i]\n",
    " \n",
    "        return (idf*(K1+1)*doc_n/(K1+doc_n)*(K3+1)*query_n/(K3+query_n)).sum()"
   ]
  },
  {
   "cell_type": "code",
   "execution_count": null,
   "metadata": {
    "collapsed": true
   },
   "outputs": [],
   "source": []
  }
 ],
 "metadata": {
  "kernelspec": {
   "display_name": "Python 2",
   "language": "python",
   "name": "python2"
  },
  "language_info": {
   "codemirror_mode": {
    "name": "ipython",
    "version": 2
   },
   "file_extension": ".py",
   "mimetype": "text/x-python",
   "name": "python",
   "nbconvert_exporter": "python",
   "pygments_lexer": "ipython2",
   "version": "2.7.8"
  }
 },
 "nbformat": 4,
 "nbformat_minor": 0
}
