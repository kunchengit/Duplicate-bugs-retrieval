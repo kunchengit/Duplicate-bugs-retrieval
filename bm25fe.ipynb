{
 "cells": [
  {
   "cell_type": "code",
   "execution_count": 2,
   "metadata": {
    "collapsed": true
   },
   "outputs": [],
   "source": [
    "# This file aims to create a function to measure the similarity of the text fields of two bugs. It's an extension of bm25fe measure. The derivative\n",
    "# is used to tune the parameters in the function. For the formulas, please refer to the techinical report.The final file used in Triage Robot is \n",
    "# 'bm25fe.py'\n",
    "\n",
    "import numpy as np\n",
    "\n",
    "class bm25fe():\n",
    "    \"\"\"Implements the BM25F scoring algorithm.\n",
    "    \"\"\"\n",
    " \n",
    "    def __init__(self, K1=1.2, d_B=(0.75, 0.75), d_W = (1, 1), K3=1.2, q_B=(0.75, 0.75), q_W=(1, 1)):\n",
    "        \"\"\"\n",
    "        \n",
    "        :param B: free parameter, see the BM25 literature. Keyword arguments of\n",
    "            the form ``fieldname_B`` (for example, ``body_B``) set field-\n",
    "            specific values for B.\n",
    "        :param K1: free parameter, see the BM25 literature.\n",
    "        \"\"\"\n",
    "        \n",
    "        self.K1 = K1\n",
    "        self.d_B = d_B\n",
    "        self.d_W = d_W\n",
    "        -\n",
    "        self.K3 = K3\n",
    "        self.q_B = q_B\n",
    "        self.q_W = q_W\n",
    "        \n",
    "        self.fields = len(d_B)\n",
    "        \n",
    "        \n",
    "    def score(self, idf, avgfl, doc, query):\n",
    "        \n",
    "        idf = numpy.array(idf)\n",
    "        avgfl = numpy.array(avgfl)\n",
    "        doc = numpy.array(doc)\n",
    "        query = numpy.array(query)\n",
    "        \n",
    "        doc_n = numpy.zeros(doc[0].size)\n",
    "        query_n = numpy.zeros(query[0].size)\n",
    "        for i in xrange(self.fields):\n",
    "            doc_n += self.d_W[i]/(1-self.d_B[i]+self.d_B[i]*doc[i].sum()/avgfl[i])*doc[i]\n",
    "            query_n += self.q_W[i]/(1-self.q_B[i]+self.q_B[i]*query[i].sum()/avgfl[i])*query[i]\n",
    "        \n",
    "        return (idf*(self.K1+1)*doc_n/(self.K1+doc_n)*(self.K3+1)*query_n/(self.K3+query_n)).sum()\n",
    "    \n",
    "    \n",
    "    def derivative(self, idf, avgfl, doc, query):\n",
    "        \n",
    "        idf = numpy.array(idf)\n",
    "        avgfl = numpy.array(avgfl)\n",
    "        doc = numpy.array(doc)\n",
    "        query = numpy.array(query)\n",
    "        \n",
    "        doc_n = numpy.zeros(doc[0].size)\n",
    "        query_n = numpy.zeros(query[0].size)\n",
    "        for i in xrange(self.fields):\n",
    "            doc_n += self.d_W[i]/(1-self.d_B[i]+self.d_B[i]*doc[i].sum()/avgfl[i])*doc[i]\n",
    "            query_n += self.q_W[i]/(1-self.q_B[i]+self.q_B[i]*query[i].sum()/avgfl[i])*query[i]\n",
    "        \n",
    "        der =[]\n",
    "        \n",
    "        der.append((idf*doc_n*(doc_n-1)/((self.K1+doc_n)**2)*(self.K3+1)*query_n/(self.K3+query_n)).sum())\n",
    "        \n",
    "        for i in xrange(self.fields):\n",
    "            der.append((idf*self.K1*(self.K1+1)/((self.K1+doc_n)**2)*self.d_W[i]*(1-doc[i].sum()/avgfl[i])/((1-self.d_B[i]+self.d_B[i]*doc[i].sum()/avgfl[i])**2)*doc[i]\n",
    "                        *(self.K3+1)*query_n/(self.K3+query_n)).sum())\n",
    "            \n",
    "        for i in xrange(self.fields):\n",
    "            der.append((idf*self.K1*(self.K1+1)/((self.K1+doc_n)**2)/(1-self.d_B[i]+self.d_B[i]*doc[i].sum()/avgfl[i])*doc[i]*(self.K3+1)*query_n/(self.K3+query_n)).sum())\n",
    "        \n",
    "        \n",
    "        der.append((idf*(self.K1+1)*doc_n/(self.K1+doc_n)*query_n*(query_n-1)/((self.K3+query_n)**2)).sum())\n",
    "        \n",
    "        for i in xrange(self.fields):\n",
    "            der.append((idf*(self.K1+1)*doc_n/(self.K1+doc_n)*self.K3*(self.K3+1)/((self.K3+query_n)**2)\n",
    "                        *self.q_W[i]*(1-query[i].sum()/avgfl[i])/((1-self.q_B[i]+self.q_B[i]*query[i].sum()/avgfl[i])**2)*query[i]).sum())\n",
    "            \n",
    "        for i in xrange(self.fields):\n",
    "            der.append((idf*(self.K1+1)*doc_n/(self.K1+doc_n)*self.K3*(self.K3+1)/((self.K3+query_n)**2)/(1-self.q_B[i]+self.q_B[i]*query[i].sum()/avgfl[i])*query[i]).sum())\n",
    "        \n",
    "        return np.array(der)\n",
    "        \n",
    "        "
   ]
  },
  {
   "cell_type": "code",
   "execution_count": 1,
   "metadata": {
    "collapsed": false
   },
   "outputs": [
    {
     "name": "stdout",
     "output_type": "stream",
     "text": [
      "8647\n"
     ]
    }
   ],
   "source": [
    "# test a bug in system_test.ipynb when use the data in the table bugs_cpdplatform_ff\n",
    "\n",
    "import MySQLdb\n",
    "import pandas\n",
    "import itertools\n",
    "import numpy as np\n",
    "# import bm25fe\n",
    "import pickle\n",
    "# import subprocess\n",
    "# import jsd\n",
    "\n",
    "conn = MySQLdb.connect(host='10.117.8.41', port=3306, user='root', passwd='vmware', db='bugfeature')\n",
    "cur = conn.cursor()\n",
    "\n",
    "sql = '''SELECT *\n",
    "FROM bugs_cpdplatform_ff'''\n",
    "\n",
    "bugs = pandas.io.sql.read_sql(sql, conn)\n",
    "\n",
    "from gensim import corpora\n",
    "from gensim import matutils\n",
    "\n",
    "# dictionary = corpora.Dictionary(list(bugs_train['text']))\n",
    "# dictionary.filter_extremes(no_below = 10, no_above = 0.9, keep_n = 100000)\n",
    "dictionary = corpora.Dictionary.load_from_text('dictionary.txt')\n",
    "num_terms = len(dictionary)\n",
    "print num_terms\n",
    "\n",
    "# bugs['summary'] = bugs['short_desc']\n",
    "bugs['text'] = (bugs['short_desc'] +' '+ bugs['long_desc']).map(lambda x: dictionary.doc2bow(x.split()))\n",
    "bugs.loc[:,'short_desc'] = bugs['short_desc'].map(lambda x: matutils.corpus2dense([dictionary.doc2bow(x.split())], num_terms, 1)[:,0])\n",
    "bugs.loc[:,'long_desc'] = bugs['long_desc'].map(lambda x: matutils.corpus2dense([dictionary.doc2bow(x.split())], num_terms, 1)[:,0])\n",
    "\n",
    "appearance = np.array(list(bugs['text'].map(lambda x: matutils.corpus2dense([x], num_terms, 1)[:,0]>0)))\n",
    "df = appearance.sum(0)\n",
    "idf = np.log(bugs.shape[0]/df)\n",
    "avgfl = np.array([np.array(list(bugs['short_desc'])).sum(1).mean(), np.array(list(bugs['long_desc'])).sum(1).mean()])\n",
    "\n",
    "bugs = bugs.set_index(['bug_id'])\n",
    "\n",
    "with open('test.txt', 'rb') as f:\n",
    "    test = pickle.load(f)\n",
    "\n",
    "doc = np.array([bugs.iloc[0,13], bugs.iloc[0,14]])"
   ]
  },
  {
   "cell_type": "code",
   "execution_count": 5,
   "metadata": {
    "collapsed": false
   },
   "outputs": [
    {
     "name": "stdout",
     "output_type": "stream",
     "text": [
      "[ 0.  0.  0. ...,  0.  0.  0.]\n",
      "9.39240860939\n",
      "[ 0.  0.  0. ...,  0.  0.  0.]\n",
      "8.55537128448\n",
      "[ 0.  0.  0. ...,  0.  0.  0.]\n",
      "1072.04653031\n",
      "[ 0.  0.  0. ...,  0.  0.  0.]\n",
      "54.7104203701\n",
      "nan\n"
     ]
    }
   ],
   "source": [
    "doc = np.array([bugs.iloc[0,13], bugs.iloc[0,14]])\n",
    "query = np.array([bugs.loc[test[0]['query'],'short_desc'], bugs.loc[test[0]['query'],'long_desc']])\n",
    "doc_n = np.zeros(doc[0].size)\n",
    "query_n = np.zeros(query[0].size)\n",
    "K1=1.2\n",
    "d_B=(0.75, 0.75)\n",
    "d_W = (1, 1)\n",
    "K3=1.2\n",
    "q_B=(0.75, 0.75)\n",
    "q_W=(1, 1)\n",
    "for i in xrange(2):\n",
    "    doc_n += d_W[i]/(1-d_B[i]+d_B[i]*doc[i].sum()/avgfl[i])*doc[i]\n",
    "    query_n += q_W[i]/(1-q_B[i]+q_B[i]*query[i].sum()/avgfl[i])*query[i]\n",
    "    print doc_n\n",
    "    print doc_n.sum()\n",
    "    print query_n\n",
    "    print query_n.sum()\n",
    "        \n",
    "score = (idf*(K1+1)*doc_n/(K1+doc_n)*(K3+1)*query_n/(K3+query_n)).sum()\n",
    "print score"
   ]
  },
  {
   "cell_type": "code",
   "execution_count": 25,
   "metadata": {
    "collapsed": false
   },
   "outputs": [
    {
     "name": "stdout",
     "output_type": "stream",
     "text": [
      "0\n",
      "-inf\n"
     ]
    }
   ],
   "source": [
    "# temp = idf*(K1+1)*doc_n/(K1+doc_n)*(K3+1)#*query_n/(K3+query_n)\n",
    "# print temp.sum()\n",
    "print df[7474]\n",
    "print idf[7474]\n",
    "# for idx,item in enumerate(temp):\n",
    "#     if item != 0:\n",
    "#         print idx, item"
   ]
  },
  {
   "cell_type": "code",
   "execution_count": null,
   "metadata": {
    "collapsed": true
   },
   "outputs": [],
   "source": []
  }
 ],
 "metadata": {
  "kernelspec": {
   "display_name": "Python 2",
   "language": "python",
   "name": "python2"
  },
  "language_info": {
   "codemirror_mode": {
    "name": "ipython",
    "version": 2
   },
   "file_extension": ".py",
   "mimetype": "text/x-python",
   "name": "python",
   "nbconvert_exporter": "python",
   "pygments_lexer": "ipython2",
   "version": "2.7.8"
  }
 },
 "nbformat": 4,
 "nbformat_minor": 0
}
