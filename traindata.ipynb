{
 "cells": [
  {
   "cell_type": "code",
   "execution_count": 18,
   "metadata": {
    "collapsed": false
   },
   "outputs": [],
   "source": [
    "import MySQLdb\n",
    "import pandas\n",
    "import itertools\n",
    "# import numpy as np\n",
    "# import bm25fe\n",
    "import pickle\n",
    "import random"
   ]
  },
  {
   "cell_type": "code",
   "execution_count": 19,
   "metadata": {
    "collapsed": false
   },
   "outputs": [],
   "source": [
    "conn = MySQLdb.connect(host='10.117.8.41', port=3306, user='root', passwd='vmware', db='bugfeature')\n",
    "cur = conn.cursor()\n",
    "\n",
    "sql = '''SELECT dup_of, dup\n",
    "FROM dups_cpdplatform left join bugs_cpdplatform as b1 on dups_cpdplatform.dup=b1.bug_id left join bugs_cpdplatform as b2 on dups_cpdplatform.dup_of=b2.bug_id where b1.long_desc != '' and b2.long_desc != '' '''\n",
    "\n",
    "cur.execute(sql)\n",
    "dups = cur.fetchall()\n",
    "# dugs = pandas.io.sql.read_sql(sql, conn)\n",
    "\n",
    "shuffled_dups = random.sample(dups, len(dups))\n",
    "dups_train = shuffled_dups[:100]\n",
    "dups_test = shuffled_dups[100:]\n",
    "# print len(dups_train)\n",
    "\n",
    "dupset = set(itertools.chain(*dups))"
   ]
  },
  {
   "cell_type": "code",
   "execution_count": 20,
   "metadata": {
    "collapsed": false
   },
   "outputs": [],
   "source": [
    "# print len(dups)"
   ]
  },
  {
   "cell_type": "code",
   "execution_count": 21,
   "metadata": {
    "collapsed": false
   },
   "outputs": [],
   "source": [
    "conn = MySQLdb.connect(host='10.117.8.41', port=3306, user='root', passwd='vmware', db='bugfeature')\n",
    "cur = conn.cursor()\n",
    "\n",
    "sql = '''SELECT bug_id, short_desc, long_desc\n",
    "FROM bugs_cpdplatform'''\n",
    "\n",
    "# bugs = pandas.io.sql.read_sql(sql, conn).set_index(['bug_id'])\n",
    "bugs = pandas.io.sql.read_sql(sql, conn)\n",
    "\n",
    "# bugs_filtered = bugs[(not bugs['bug_id'] in dupset) & (len(bugs['long_desc'])>0)]\n",
    "criterion1 = bugs['bug_id'].map(lambda x:  not x in dupset)\n",
    "criterion2 = bugs['long_desc'].map(lambda x:  len(x)>0)\n",
    "bugs_filtered = bugs[ criterion1 & criterion2]"
   ]
  },
  {
   "cell_type": "code",
   "execution_count": 22,
   "metadata": {
    "collapsed": false
   },
   "outputs": [
    {
     "name": "stdout",
     "output_type": "stream",
     "text": [
      "100\n"
     ]
    }
   ],
   "source": [
    "train = []\n",
    "bugs_filtered.sample(random_state=0)\n",
    "for item in dups_train:\n",
    "    # train += list(bugs_filtered.sample(n=100)['bug_id'].map(lambda x: (item[0], item[1], x)))\n",
    "    train.append({'query':item[1], 'rel': item[0], 'irrel':list(bugs_filtered.sample(n=100)['bug_id'])})\n",
    "\n",
    "print len(train)\n",
    "\n",
    "with open('train100.txt', 'wb') as f:\n",
    "    pickle.dump(train, f)\n",
    "    f.close()"
   ]
  },
  {
   "cell_type": "code",
   "execution_count": 23,
   "metadata": {
    "collapsed": false
   },
   "outputs": [],
   "source": [
    "test = []\n",
    "for item in dups_test:\n",
    "    rel = [pair[0] for pair in dups if pair[1] == item[1]]\n",
    "    rel += [pair[1] for pair in dups if pair[0] == item[1]]\n",
    "    test.append({'query':item[1], 'rel':rel})\n",
    "    \n",
    "with open('test.txt', 'wb') as f:\n",
    "    pickle.dump(test, f)\n",
    "    f.close()"
   ]
  },
  {
   "cell_type": "code",
   "execution_count": 24,
   "metadata": {
    "collapsed": true
   },
   "outputs": [],
   "source": [
    "bugset = []\n",
    "for item in train:\n",
    "    bugset.append(item['query'])\n",
    "    bugset.append(item['rel'])\n",
    "    bugset += item['irrel']\n",
    "for item in test:\n",
    "    bugset.append(item['query'])\n",
    "    bugset += item['rel']\n",
    "\n",
    "bugset = set(bugset)\n",
    "\n",
    "with open('bugset.txt', 'wb') as f:\n",
    "    pickle.dump(bugset, f)\n",
    "    f.close()"
   ]
  },
  {
   "cell_type": "code",
   "execution_count": null,
   "metadata": {
    "collapsed": true
   },
   "outputs": [],
   "source": []
  }
 ],
 "metadata": {
  "kernelspec": {
   "display_name": "Python 2",
   "language": "python",
   "name": "python2"
  },
  "language_info": {
   "codemirror_mode": {
    "name": "ipython",
    "version": 2
   },
   "file_extension": ".py",
   "mimetype": "text/x-python",
   "name": "python",
   "nbconvert_exporter": "python",
   "pygments_lexer": "ipython2",
   "version": "2.7.8"
  }
 },
 "nbformat": 4,
 "nbformat_minor": 0
}
