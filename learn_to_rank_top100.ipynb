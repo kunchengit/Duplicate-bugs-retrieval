{
 "cells": [
  {
   "cell_type": "code",
   "execution_count": 2,
   "metadata": {
    "collapsed": false
   },
   "outputs": [],
   "source": [
    "# Train a learn-to-rank model using duplicate bugs assigned to CPD platform team, using  the LambdaMART algorithm (the trained \n",
    "# model is stored in 'LambdaMART_top100.txt'). The difference with 'learn_to_rank.ipynb' is that when generate the learn-to-rank train data \n",
    "# it uses the top 100 most similar (measured by bm25fe score) irrelevant bugs rather than randomly selected 100 irrelevant bugs\n",
    "\n",
    "import MySQLdb\n",
    "import pandas\n",
    "import itertools\n",
    "import numpy as np\n",
    "import bm25fe\n",
    "import pickle\n",
    "import subprocess\n",
    "import jsd"
   ]
  },
  {
   "cell_type": "code",
   "execution_count": 3,
   "metadata": {
    "collapsed": false
   },
   "outputs": [],
   "source": [
    "conn = MySQLdb.connect(host='10.117.8.41', port=3306, user='root', passwd='vmware', db='bugfeature')\n",
    "cur = conn.cursor()\n",
    "\n",
    "sql = '''SELECT *\n",
    "FROM bugs_cpdplatform'''\n",
    "\n",
    "# bugs = pandas.io.sql.read_sql(sql, conn).set_index(['bug_id'])\n",
    "bugs = pandas.io.sql.read_sql(sql, conn)"
   ]
  },
  {
   "cell_type": "code",
   "execution_count": 4,
   "metadata": {
    "collapsed": false
   },
   "outputs": [
    {
     "name": "stdout",
     "output_type": "stream",
     "text": [
      "8647\n"
     ]
    }
   ],
   "source": [
    "# change the text fields of bugs into bag-of-words vectors\n",
    "\n",
    "from gensim import corpora\n",
    "from gensim import matutils\n",
    "\n",
    "# dictionary = corpora.Dictionary(list(bugs_train['text']))\n",
    "# dictionary.filter_extremes(no_below = 10, no_above = 0.9, keep_n = 100000)\n",
    "dictionary = corpora.Dictionary.load_from_text('dictionary.txt')\n",
    "num_terms = len(dictionary)\n",
    "print num_terms\n",
    "\n",
    "bugs['text'] = (bugs['short_desc'] +' '+ bugs['long_desc']).map(lambda x: dictionary.doc2bow(x.split()))\n",
    "bugs.loc[:,'short_desc'] = bugs['short_desc'].map(lambda x: matutils.corpus2dense([dictionary.doc2bow(x.split())], num_terms, 1)[:,0])\n",
    "bugs.loc[:,'long_desc'] = bugs['long_desc'].map(lambda x: matutils.corpus2dense([dictionary.doc2bow(x.split())], num_terms, 1)[:,0])"
   ]
  },
  {
   "cell_type": "code",
   "execution_count": 5,
   "metadata": {
    "collapsed": true
   },
   "outputs": [],
   "source": [
    "conn = MySQLdb.connect(host='10.117.8.41', port=3306, user='root', passwd='vmware', db='bugfeature')\n",
    "cur = conn.cursor()\n",
    "\n",
    "sql = '''SELECT dup_of, dup\n",
    "FROM dups_cpdplatform left join bugs_cpdplatform as b1 on dups_cpdplatform.dup=b1.bug_id left join bugs_cpdplatform as b2 on dups_cpdplatform.dup_of=b2.bug_id where b1.long_desc != '' and b2.long_desc != '' '''\n",
    "\n",
    "cur.execute(sql)\n",
    "dups = cur.fetchall()\n",
    "\n",
    "dupset = set(itertools.chain(*dups))"
   ]
  },
  {
   "cell_type": "code",
   "execution_count": 6,
   "metadata": {
    "collapsed": true
   },
   "outputs": [],
   "source": [
    "criterion = bugs['bug_id'].map(lambda x:  not x in dupset)\n",
    "bugs_filtered = bugs[criterion]"
   ]
  },
  {
   "cell_type": "code",
   "execution_count": 7,
   "metadata": {
    "collapsed": false
   },
   "outputs": [],
   "source": [
    "# print bugs_train['short_desc'][0].sum()\n",
    "# print bugs_train['short_desc'].as_matrix()[4].sum()\n",
    "# print bugs_train['short_desc'].as_matrix().shape"
   ]
  },
  {
   "cell_type": "code",
   "execution_count": 8,
   "metadata": {
    "collapsed": false
   },
   "outputs": [],
   "source": [
    "appearance = np.array(list(bugs['text'].map(lambda x: matutils.corpus2dense([x], num_terms, 1)[:,0]>0)))\n",
    "df = appearance.sum(0)\n",
    "idf = np.log(bugs.shape[0]/df)\n",
    "avgfl = np.array([np.array(list(bugs['short_desc'])).sum(1).mean(), np.array(list(bugs['long_desc'])).sum(1).mean()])\n",
    "\n",
    "bugs = bugs.set_index(['bug_id'])\n",
    "bugs_filtered = bugs_filtered.set_index(['bug_id'])"
   ]
  },
  {
   "cell_type": "code",
   "execution_count": 9,
   "metadata": {
    "collapsed": false
   },
   "outputs": [],
   "source": [
    "# print appearance[1].sum()\n",
    "# bugs.columns\n",
    "# print bugs.index[0]"
   ]
  },
  {
   "cell_type": "code",
   "execution_count": 17,
   "metadata": {
    "collapsed": false
   },
   "outputs": [],
   "source": [
    "# generate the learn-to-rank train data, following the format of the Ranklib tool\n",
    "\n",
    "from gensim.models import hdpmodel\n",
    "hdp = hdpmodel.HdpModel.load('hdpmodel.txt')\n",
    "\n",
    "bm = bm25fe.bm25fe(K1=1.2, d_B=(0.75, 0.75), d_W = (2, 1), K3=1.2, q_B=(0.75, 0.75), q_W=(2, 1))\n",
    "\n",
    "with open('train100.txt', 'rb') as f:\n",
    "    train = pickle.load(f)\n",
    "\n",
    "# num_query = len(test)\n",
    "# num_hit = 0\n",
    "\n",
    "lines = []\n",
    "for item in train:\n",
    "    target = 3\n",
    "    sim_title = bugs.loc[item['rel'],'short_desc'][bugs.loc[item['query'],'short_desc']>0].sum()/max(bugs.loc[item['rel'],'short_desc'].sum(), 1)\n",
    "    score = bm.score(idf, avgfl, [bugs.loc[item['rel'],'short_desc'], bugs.loc[item['rel'],'long_desc']],[bugs.loc[item['query'],'short_desc'], bugs.loc[item['query'],'long_desc']])\n",
    "    cluster = hdp.inference([bugs.loc[item['rel'],'text'], bugs.loc[item['query'],'text']])\n",
    "    dis_topic = jsd.JSD(cluster[0], cluster[1])\n",
    "    sim_hos = False\n",
    "    if (bugs.loc[item['rel'],'host_op_sys'] == bugs.loc[item['query'],'host_op_sys']) and (bugs.loc[item['rel'],'host_op_sys'] != 'Unknown'):\n",
    "        sim_hos = True\n",
    "    sim_gos = False\n",
    "    if (bugs.loc[item['rel'],'guest_op_sys'] == bugs.loc[item['query'],'guest_op_sys']) and (bugs.loc[item['rel'],'guest_op_sys'] != 'Unknown'):\n",
    "        sim_gos = True\n",
    "    sim_pd = False\n",
    "    if (bugs.loc[item['rel'],'product_id'] == bugs.loc[item['query'],'product_id']):\n",
    "        sim_pd = True\n",
    "    sim_cg = False\n",
    "    if (bugs.loc[item['rel'],'category_id'] == bugs.loc[item['query'],'category_id']):\n",
    "        sim_cg = True\n",
    "    sim_cp = False\n",
    "    if (bugs.loc[item['rel'],'component_id'] == bugs.loc[item['query'],'component_id']):\n",
    "        sim_cp = True\n",
    "    lines.append(str(target)+' qid:'+str(item['query'])+' 1:'+str(sim_title)+' 2:'+str(score)+' 3:'+str(dis_topic)+' 4:'+str(int(sim_hos))+' 5:'+str(int(sim_gos))+' 6:'+str(int(sim_pd))+' 7:'+str(int(sim_cg))+' 8:'+str(int(sim_cp))+' # '+str(item['rel'])+'\\n')\n",
    "    \n",
    "    bugs_filtered['score'] = bugs_filtered.apply(lambda x: bm.score(idf, avgfl, [x[1], x[7]],[bugs.loc[item['query'],'short_desc'], bugs.loc[item['query'],'long_desc']]), axis = 1)\n",
    "    bugs_sorted = bugs_filtered.sort(['score'], ascending = False).iloc[:100]\n",
    "    idx = 0\n",
    "    for idx in xrange(100):\n",
    "        target = 0\n",
    "        sim_title = bugs_sorted.iloc[idx]['short_desc'][bugs.loc[item['query'],'short_desc']>0].sum()/max(bugs_sorted.iloc[idx]['short_desc'].sum(), 1)\n",
    "        score = bugs_sorted.iloc[idx]['score']\n",
    "        cluster = hdp.inference([bugs_sorted.iloc[idx]['text'], bugs.loc[item['query'],'text']])\n",
    "        dis_topic = jsd.JSD(cluster[0], cluster[1])\n",
    "        sim_hos = False\n",
    "        if (bugs_sorted.iloc[idx]['host_op_sys'] == bugs.loc[item['query'],'host_op_sys']) and (bugs_sorted.iloc[idx]['host_op_sys'] != 'Unknown'):\n",
    "            sim_hos = True\n",
    "        sim_gos = False\n",
    "        if (bugs_sorted.iloc[idx]['guest_op_sys'] == bugs.loc[item['query'],'guest_op_sys']) and (bugs_sorted.iloc[idx]['guest_op_sys'] != 'Unknown'):\n",
    "            sim_gos = True\n",
    "        sim_pd = False\n",
    "        if (bugs_sorted.iloc[idx]['product_id'] == bugs.loc[item['query'],'product_id']):\n",
    "            sim_pd = True\n",
    "        sim_cg = False\n",
    "        if (bugs_sorted.iloc[idx]['category_id'] == bugs.loc[item['query'],'category_id']):\n",
    "            sim_cg = True\n",
    "        sim_cp = False\n",
    "        if (bugs_sorted.iloc[idx]['component_id'] == bugs.loc[item['query'],'component_id']):\n",
    "            sim_cp = True\n",
    "        # if sim_pd and sim_cg and sim_cp:\n",
    "        #     target = 2\n",
    "        # elif sim_pd and sim_cg:\n",
    "        #     target = 1\n",
    "        lines.append(str(target)+' qid:'+str(item['query'])+' 1:'+str(sim_title)+' 2:'+str(score)+' 3:'+str(dis_topic)+' 4:'+str(int(sim_hos))+' 5:'+str(int(sim_gos))+' 6:'+str(int(sim_pd))+' 7:'+str(int(sim_cg))+' 8:'+str(int(sim_cp))+' # '+str(bugs.index[idx])+'\\n')"
   ]
  },
  {
   "cell_type": "code",
   "execution_count": 18,
   "metadata": {
    "collapsed": false
   },
   "outputs": [
    {
     "name": "stdout",
     "output_type": "stream",
     "text": [
      "10100\n"
     ]
    }
   ],
   "source": [
    "# print len(bugs)\n",
    "print len(lines)"
   ]
  },
  {
   "cell_type": "code",
   "execution_count": 21,
   "metadata": {
    "collapsed": true
   },
   "outputs": [],
   "source": [
    "f = open('train_top100.txt', 'wb')\n",
    "\n",
    "f.writelines(lines)"
   ]
  },
  {
   "cell_type": "code",
   "execution_count": 22,
   "metadata": {
    "collapsed": false
   },
   "outputs": [
    {
     "data": {
      "text/plain": [
       "0"
      ]
     },
     "execution_count": 22,
     "metadata": {},
     "output_type": "execute_result"
    }
   ],
   "source": [
    "# call the Ranklib tool to train a LambdaMART model\n",
    "\n",
    "subprocess.call(('java', '-jar', 'RankLib-2.1-patched.jar', '-train', 'train_top100.txt', '-ranker', '6', '-metric2t', 'NDCG@5', '-save', 'LambdaMART_top100.txt'))"
   ]
  },
  {
   "cell_type": "code",
   "execution_count": 73,
   "metadata": {
    "collapsed": false
   },
   "outputs": [],
   "source": [
    "# bugs_train"
   ]
  },
  {
   "cell_type": "code",
   "execution_count": 74,
   "metadata": {
    "collapsed": false
   },
   "outputs": [],
   "source": [
    "# print bugs_train['guest_op_sys']"
   ]
  },
  {
   "cell_type": "code",
   "execution_count": 100,
   "metadata": {
    "collapsed": false
   },
   "outputs": [
    {
     "name": "stdout",
     "output_type": "stream",
     "text": [
      "10100\n",
      "0 qid:1224296 1:0.142857 2:77.9385298109 3:0.0788403087743 4:1 5:0 6:1 7:0 8:0 # 1425012\n",
      "\n"
     ]
    }
   ],
   "source": [
    "print len(lines)\n",
    "print lines[10053]\n"
   ]
  },
  {
   "cell_type": "code",
   "execution_count": 87,
   "metadata": {
    "collapsed": false
   },
   "outputs": [
    {
     "name": "stdout",
     "output_type": "stream",
     "text": [
      "0.0\n"
     ]
    }
   ],
   "source": [
    "print bugs_train.loc[485186,'short_desc'].sum()"
   ]
  },
  {
   "cell_type": "code",
   "execution_count": null,
   "metadata": {
    "collapsed": true
   },
   "outputs": [],
   "source": []
  }
 ],
 "metadata": {
  "kernelspec": {
   "display_name": "Python 2",
   "language": "python",
   "name": "python2"
  },
  "language_info": {
   "codemirror_mode": {
    "name": "ipython",
    "version": 2
   },
   "file_extension": ".py",
   "mimetype": "text/x-python",
   "name": "python",
   "nbconvert_exporter": "python",
   "pygments_lexer": "ipython2",
   "version": "2.7.8"
  }
 },
 "nbformat": 4,
 "nbformat_minor": 0
}
