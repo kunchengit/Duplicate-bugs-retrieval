{
 "cells": [
  {
   "cell_type": "code",
   "execution_count": 11,
   "metadata": {
    "collapsed": false
   },
   "outputs": [],
   "source": [
    "import MySQLdb\n",
    "import pandas\n",
    "import itertools\n",
    "import numpy as np\n",
    "import bm25fe\n",
    "import pickle\n",
    "import subprocess\n",
    "import jsd"
   ]
  },
  {
   "cell_type": "code",
   "execution_count": 12,
   "metadata": {
    "collapsed": false
   },
   "outputs": [],
   "source": [
    "conn = MySQLdb.connect(host='10.117.8.41', port=3306, user='root', passwd='vmware', db='bugfeature')\n",
    "cur = conn.cursor()\n",
    "\n",
    "sql = '''SELECT *\n",
    "FROM bugs_cpdplatform_ff'''\n",
    "\n",
    "# bugs = pandas.io.sql.read_sql(sql, conn).set_index(['bug_id'])\n",
    "bugs = pandas.io.sql.read_sql(sql, conn)"
   ]
  },
  {
   "cell_type": "code",
   "execution_count": 13,
   "metadata": {
    "collapsed": false
   },
   "outputs": [
    {
     "name": "stdout",
     "output_type": "stream",
     "text": [
      "8647\n"
     ]
    }
   ],
   "source": [
    "from gensim import corpora\n",
    "from gensim import matutils\n",
    "\n",
    "# dictionary = corpora.Dictionary(list(bugs_train['text']))\n",
    "# dictionary.filter_extremes(no_below = 10, no_above = 0.9, keep_n = 100000)\n",
    "dictionary = corpora.Dictionary.load_from_text('dictionary.txt')\n",
    "num_terms = len(dictionary)\n",
    "print num_terms\n",
    "\n",
    "# bugs['summary'] = bugs['short_desc']\n",
    "bugs['text'] = (bugs['short_desc'] +' '+ bugs['long_desc']).map(lambda x: dictionary.doc2bow(x.split()))\n",
    "bugs.loc[:,'short_desc'] = bugs['short_desc'].map(lambda x: matutils.corpus2dense([dictionary.doc2bow(x.split())], num_terms, 1)[:,0])\n",
    "bugs.loc[:,'long_desc'] = bugs['long_desc'].map(lambda x: matutils.corpus2dense([dictionary.doc2bow(x.split())], num_terms, 1)[:,0])"
   ]
  },
  {
   "cell_type": "code",
   "execution_count": 14,
   "metadata": {
    "collapsed": false
   },
   "outputs": [],
   "source": [
    "# print bugs_train['short_desc'][0].sum()\n",
    "# print bugs_train['short_desc'].as_matrix()[4].sum()\n",
    "# print bugs_train['short_desc'].as_matrix().shape"
   ]
  },
  {
   "cell_type": "code",
   "execution_count": 15,
   "metadata": {
    "collapsed": false
   },
   "outputs": [],
   "source": [
    "appearance = np.array(list(bugs['text'].map(lambda x: matutils.corpus2dense([x], num_terms, 1)[:,0]>0)))\n",
    "df = appearance.sum(0)\n",
    "idf = np.log(bugs.shape[0]/df)\n",
    "avgfl = np.array([np.array(list(bugs['short_desc'])).sum(1).mean(), np.array(list(bugs['long_desc'])).sum(1).mean()])\n",
    "\n",
    "bugs = bugs.set_index(['bug_id'])"
   ]
  },
  {
   "cell_type": "code",
   "execution_count": 16,
   "metadata": {
    "collapsed": false
   },
   "outputs": [],
   "source": [
    "# print appearance[1].sum()\n",
    "# bugs.columns\n",
    "# print bugs.index[0]"
   ]
  },
  {
   "cell_type": "code",
   "execution_count": 32,
   "metadata": {
    "collapsed": false
   },
   "outputs": [
    {
     "name": "stdout",
     "output_type": "stream",
     "text": [
      "0.0\n"
     ]
    }
   ],
   "source": [
    "# from gensim.models import hdpmodel\n",
    "# topicmodel = hdpmodel.HdpModel.load('hdpmodel.txt')\n",
    "from gensim.models import ldamulticore\n",
    "topicmodel = ldamulticore.LdaMulticore.load('ldamodel.txt')\n",
    "\n",
    "# with open('params.txt', 'rb') as f:\n",
    "#     params = pickle.load(f)\n",
    "# bm = bm25fe.bm25fe(K1=params[0], d_B=(params[1], params[2]), d_W = (params[3], params[4]), K3=params[5], q_B=(params[6], params[7]), q_W=(params[8], params[9]))\n",
    "bm = bm25fe.bm25fe(K1=1.2, d_B=(0.75, 0.75), d_W = (2, 1), K3=1.2, q_B=(0.75, 0.75), q_W=(2, 1))\n",
    "\n",
    "with open('test.txt', 'rb') as f:\n",
    "    test = pickle.load(f)\n",
    "\n",
    "num_query = len(test)\n",
    "num_hit = 0\n",
    "\n",
    "results = []\n",
    "for item in test:\n",
    "    bugs['score'] = bugs.apply(lambda x: bm.score(idf, avgfl, [x[13], x[14]],[bugs.loc[item['query'],'short_desc'], bugs.loc[item['query'],'long_desc']]), axis = 1)\n",
    "    bugs_sorted = bugs.sort(['score'], ascending = False).iloc[:100]\n",
    "    idx = 0\n",
    "    lines = []\n",
    "    \n",
    "    for idx in xrange(100):\n",
    "        sim_title = bugs_sorted.iloc[idx]['short_desc'][bugs.loc[item['query'],'short_desc']>0].sum()/max(bugs_sorted.iloc[idx]['short_desc'].sum(), 1)\n",
    "        score = bugs_sorted.iloc[idx]['score']\n",
    "        # cluster = topicmodel.inference([bugs_sorted.iloc[idx]['text'], bugs.loc[item['query'],'text']])\n",
    "        cluster = topicmodel.inference([bugs_sorted.iloc[idx]['text'], bugs.loc[item['query'],'text']])[0]\n",
    "        dis_topic = jsd.JSD(cluster[0], cluster[1])\n",
    "        sim_hos = False\n",
    "        if (bugs_sorted.iloc[idx]['host_op_sys'] == bugs.loc[item['query'],'host_op_sys']) and (bugs_sorted.iloc[idx]['host_op_sys'] != 'Unknown'):\n",
    "            sim_hos = True\n",
    "        sim_gos = False\n",
    "        if (bugs_sorted.iloc[idx]['guest_op_sys'] == bugs.loc[item['query'],'guest_op_sys']) and (bugs_sorted.iloc[idx]['guest_op_sys'] != 'Unknown'):\n",
    "            sim_gos = True\n",
    "        sim_pd = False\n",
    "        if (bugs_sorted.iloc[idx]['product_id'] == bugs.loc[item['query'],'product_id']):\n",
    "            sim_pd = True\n",
    "        sim_cg = False\n",
    "        if (bugs_sorted.iloc[idx]['category_id'] == bugs.loc[item['query'],'category_id']):\n",
    "            sim_cg = True\n",
    "        sim_cp = False\n",
    "        if (bugs_sorted.iloc[idx]['component_id'] == bugs.loc[item['query'],'component_id']):\n",
    "            sim_cp = True\n",
    "        lines.append(str(0)+' qid:'+str(item['query'])+' 1:'+str(sim_title)+' 2:'+str(score)+' 3:'+str(dis_topic)+' 4:'+str(int(sim_hos))+' 5:'+str(int(sim_gos))+' 6:'+str(int(sim_pd))+' 7:'+str(int(sim_cg))+' 8:'+str(int(sim_cp))+' # '+str(bugs.index[idx])+'\\n')\n",
    "\n",
    "    f = open('query.txt', 'wb')\n",
    "    f.writelines(lines)\n",
    "    f.close()\n",
    "            \n",
    "    subprocess.call(('java', '-jar', 'RankLib-2.1-patched.jar', '-load', 'LambdaMART.txt', '-rank', 'query.txt', '-score', 'score.txt'))\n",
    "    # subprocess.call(('java', '-jar', 'RankLib-2.1-patched.jar', '-load', 'AdaRank.txt', '-rank', 'query.txt', '-score', 'score.txt'))\n",
    "    # subprocess.call(('java', '-jar', 'RankLib-2.1-patched.jar', '-load', 'RankNet.txt', '-rank', 'query.txt', '-score', 'score.txt'))\n",
    "    \n",
    "    score_rank = []\n",
    "    f = open('score.txt', 'rb')\n",
    "    for line in f:\n",
    "        score_rank.append(float(line.split()[2]))\n",
    "    f.close()\n",
    "    \n",
    "    bugs_sorted['score_rank'] = score_rank\n",
    "    bugs_ranked = bugs_sorted.sort(['score_rank'], ascending = False)\n",
    "    \n",
    "    ranklist = []\n",
    "    i = 0\n",
    "    # while len(ranklist) < 5:\n",
    "    #     if bugs_ranked.index[i] == item['query']:\n",
    "    #         i += 1\n",
    "    #     else:\n",
    "    #         ranklist.append(bugs_ranked.index[i])\n",
    "    #         i += 1\n",
    "    while len(ranklist) < 5:\n",
    "        if bugs_ranked.index[i] != item['query']:\n",
    "            # child = False\n",
    "            # for j in xrange(len(ranklist)):\n",
    "            #     if bugs_ranked.iloc[i]['summary'] == bugs_ranked.loc[ranklist[j],'summary']:\n",
    "            #         child = True\n",
    "            #         break\n",
    "            # if not child:\n",
    "            #     ranklist.append(bugs_ranked.index[i])\n",
    "            ranklist.append(bugs_ranked.index[i])\n",
    "        i += 1\n",
    "    if len(set(ranklist) & set(item['rel'])) > 0:\n",
    "        num_hit +=1\n",
    "    \n",
    "    results.append('query:'+str(item['query'])+'    '+'dups:'+','.join([str(bug) for bug in item['rel']])+'    '+'ranklist:'+','.join([str(bug) for bug in ranklist])+'\\n')\n",
    "    \n",
    "print float(num_hit)/num_query\n",
    "f = open('results.txt', 'wb')\n",
    "f.writelines(results)\n",
    "f.close()\n",
    "        "
   ]
  },
  {
   "cell_type": "code",
   "execution_count": 58,
   "metadata": {
    "collapsed": false
   },
   "outputs": [
    {
     "name": "stdout",
     "output_type": "stream",
     "text": [
      "[ 0.  0.  0. ...,  0.  0.  0.]\n",
      "{'query': 1214704, 'rel': [1149327]}\n",
      "{'query': 290423, 'rel': [289577]}\n",
      "{'query': 1312084, 'rel': [1298794, 1359716]}\n",
      "{'query': 350697, 'rel': [350655]}\n",
      "{'query': 624350, 'rel': [704605]}\n",
      "{'query': 1134225, 'rel': [1133897]}\n",
      "{'query': 1134480, 'rel': [1133897]}\n",
      "{'query': 355000, 'rel': [354998]}\n",
      "{'query': 1310271, 'rel': [1298794]}\n",
      "{'query': 1421209, 'rel': [1245375]}\n",
      "{'query': 1337397, 'rel': [1312931]}\n",
      "{'query': 1030982, 'rel': [1028935]}\n",
      "{'query': 1158677, 'rel': [1071227]}\n",
      "{'query': 1255705, 'rel': [1232621]}\n",
      "{'query': 824880, 'rel': [1074199]}\n",
      "{'query': 714889, 'rel': [654800]}\n",
      "{'query': 1396488, 'rel': [1297619]}\n",
      "{'query': 787325, 'rel': [714814]}\n",
      "{'query': 1134192, 'rel': [1133865]}\n",
      "{'query': 1051529, 'rel': [1055948]}\n",
      "{'query': 1392674, 'rel': [1261456]}\n",
      "{'query': 299452, 'rel': [296424]}\n",
      "{'query': 1134126, 'rel': [1133962]}\n",
      "{'query': 661557, 'rel': [636113]}\n",
      "{'query': 158781, 'rel': [158787]}\n",
      "{'query': 601323, 'rel': [604024]}\n",
      "{'query': 692089, 'rel': [721980]}\n",
      "{'query': 158789, 'rel': [158787]}\n",
      "{'query': 379729, 'rel': [354710]}\n",
      "{'query': 1143565, 'rel': [1079558]}\n",
      "{'query': 971811, 'rel': [903191]}\n",
      "{'query': 821121, 'rel': [794510]}\n",
      "{'query': 1076673, 'rel': [1076672]}\n",
      "{'query': 704440, 'rel': [691280]}\n",
      "{'query': 1296906, 'rel': [1274146]}\n",
      "{'query': 1265495, 'rel': [1270079]}\n",
      "{'query': 1080534, 'rel': [1078871]}\n",
      "{'query': 872185, 'rel': [871514]}\n",
      "{'query': 753985, 'rel': [746941]}\n",
      "{'query': 1149485, 'rel': [1086116]}\n",
      "{'query': 1234757, 'rel': [1358338]}\n",
      "{'query': 720525, 'rel': [721980]}\n",
      "720525\n",
      "assigned_to                                                         9850\n",
      "summary                [SR] quiesce snapshot fails for exchange VM wi...\n",
      "host_op_sys                                                      Unknown\n",
      "guest_op_sys                                                     Unknown\n",
      "priority                                                              P2\n",
      "product_id                                                             3\n",
      "category_id                                                          788\n",
      "component_id                                                       10071\n",
      "found_in_product_id                                                    3\n",
      "found_in_version_id                                                    0\n",
      "found_in_phase_id                                                      0\n",
      "cf_security                                                            0\n",
      "needinfo                                                                \n",
      "short_desc             [0.0, 0.0, 0.0, 0.0, 0.0, 0.0, 0.0, 0.0, 0.0, ...\n",
      "long_desc              [0.0, 0.0, 0.0, 0.0, 0.0, 0.0, 0.0, 0.0, 0.0, ...\n",
      "text                   [(23, 1), (72, 1), (74, 1), (92, 2), (98, 1), ...\n",
      "score                                                                NaN\n",
      "Name: 720525, dtype: object\n",
      "nan\n"
     ]
    }
   ],
   "source": [
    "# print item\n",
    "# print test\n",
    "# print i\n",
    "# print bugs_ranked\n",
    "# print bugs['score']\n",
    "print bugs.iloc[0,13]\n",
    "for item in test:\n",
    "    print item\n",
    "print item['query']\n",
    "print bugs.loc[item['query']]\n",
    "print bm.score(idf, avgfl, [bugs.iloc[0,13], bugs.iloc[0,14]], [bugs.loc[item['query'],'short_desc'], bugs.loc[item['query'],'long_desc']])\n",
    "# print bugs.iloc[0,13].sum()\n",
    "# print bugs.iloc[0,14].sum()\n",
    "# for item in idf:\n",
    "#     print item\n",
    "# print idf, avgfl\n",
    "# print bm.fields\n",
    "# print bm.K1, bm.d_B, bm.d_W, bm.K3, bm.q_B, bm.q_W"
   ]
  },
  {
   "cell_type": "code",
   "execution_count": 21,
   "metadata": {
    "collapsed": false
   },
   "outputs": [
    {
     "name": "stdout",
     "output_type": "stream",
     "text": [
      "0 42\n"
     ]
    }
   ],
   "source": [
    "print num_hit,num_query\n",
    "# ranklist = []\n",
    "# print len(ranklist)\n",
    "# print bugs_sorted['score']\n",
    "# print bugs_ranked['score_rank']"
   ]
  },
  {
   "cell_type": "code",
   "execution_count": 13,
   "metadata": {
    "collapsed": false
   },
   "outputs": [
    {
     "name": "stdout",
     "output_type": "stream",
     "text": [
      "0.595238095238\n",
      "0.690476190476\n"
     ]
    }
   ],
   "source": [
    "# with open('params.txt', 'rb') as f:\n",
    "#     params = pickle.load(f)\n",
    "# bm = bm25fe.bm25fe(K1=params[0], d_B=(params[1], params[2]), d_W = (params[3], params[4]), K3=params[5], q_B=(params[6], params[7]), q_W=(params[8], params[9]))\n",
    "bm = bm25fe.bm25fe(K1=1.2, d_B=(0.75, 0.75), d_W = (2, 1), K3=1.2, q_B=(0.75, 0.75), q_W=(2, 1))\n",
    "hit5 = 0\n",
    "hit10 = 0\n",
    "for item in test:\n",
    "    bugs['score'] = bugs.apply(lambda x: bm.score(idf, avgfl, [x[1], x[7]],[bugs.loc[item['query'],'short_desc'], bugs.loc[item['query'],'long_desc']]), axis = 1)\n",
    "    bugs_sorted = bugs.sort(['score'], ascending = False).iloc[:100]\n",
    "    lst5 = []\n",
    "    i = 0\n",
    "    while len(lst5) < 5:\n",
    "        if bugs_sorted.index[i] == item['query']:\n",
    "            i += 1\n",
    "        else:\n",
    "            lst5.append(bugs_sorted.index[i])\n",
    "            i += 1\n",
    "    if len(set(lst5) & set(item['rel'])) > 0:\n",
    "        hit5 +=1\n",
    "    lst10 = []\n",
    "    i = 0\n",
    "    while len(lst10) < 10:\n",
    "        if bugs_sorted.index[i] == item['query']:\n",
    "            i += 1\n",
    "        else:\n",
    "            lst10.append(bugs_sorted.index[i])\n",
    "            i += 1\n",
    "    if len(set(lst10) & set(item['rel'])) > 0:\n",
    "        hit10 +=1\n",
    "\n",
    "print float(hit5)/num_query\n",
    "print float(hit10)/num_query"
   ]
  },
  {
   "cell_type": "code",
   "execution_count": 43,
   "metadata": {
    "collapsed": false
   },
   "outputs": [
    {
     "name": "stdout",
     "output_type": "stream",
     "text": [
      "[1149327]\n"
     ]
    }
   ],
   "source": [
    "# print bugs_sorted.iloc[0]\n",
    "\n",
    "print test[0]['rel']"
   ]
  },
  {
   "cell_type": "code",
   "execution_count": 73,
   "metadata": {
    "collapsed": false
   },
   "outputs": [],
   "source": [
    "# bugs_train"
   ]
  },
  {
   "cell_type": "code",
   "execution_count": 74,
   "metadata": {
    "collapsed": false
   },
   "outputs": [],
   "source": [
    "# print bugs_train['guest_op_sys']"
   ]
  },
  {
   "cell_type": "code",
   "execution_count": 100,
   "metadata": {
    "collapsed": false
   },
   "outputs": [
    {
     "name": "stdout",
     "output_type": "stream",
     "text": [
      "10100\n",
      "0 qid:1224296 1:0.142857 2:77.9385298109 3:0.0788403087743 4:1 5:0 6:1 7:0 8:0 # 1425012\n",
      "\n"
     ]
    }
   ],
   "source": [
    "print len(lines)\n",
    "print lines[10053]\n"
   ]
  },
  {
   "cell_type": "code",
   "execution_count": 87,
   "metadata": {
    "collapsed": false
   },
   "outputs": [
    {
     "name": "stdout",
     "output_type": "stream",
     "text": [
      "0.0\n"
     ]
    }
   ],
   "source": [
    "print bugs_train.loc[485186,'short_desc'].sum()"
   ]
  },
  {
   "cell_type": "code",
   "execution_count": null,
   "metadata": {
    "collapsed": true
   },
   "outputs": [],
   "source": []
  }
 ],
 "metadata": {
  "kernelspec": {
   "display_name": "Python 2",
   "language": "python",
   "name": "python2"
  },
  "language_info": {
   "codemirror_mode": {
    "name": "ipython",
    "version": 2
   },
   "file_extension": ".py",
   "mimetype": "text/x-python",
   "name": "python",
   "nbconvert_exporter": "python",
   "pygments_lexer": "ipython2",
   "version": "2.7.8"
  }
 },
 "nbformat": 4,
 "nbformat_minor": 0
}
