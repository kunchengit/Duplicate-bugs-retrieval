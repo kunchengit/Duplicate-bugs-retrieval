{
 "cells": [
  {
   "cell_type": "code",
   "execution_count": 1,
   "metadata": {
    "collapsed": false
   },
   "outputs": [],
   "source": [
    "import MySQLdb\n",
    "import pandas\n",
    "import re\n",
    "import itertools\n",
    "import nltk\n",
    "# from bs4 import BeautifulSoup"
   ]
  },
  {
   "cell_type": "code",
   "execution_count": 44,
   "metadata": {
    "collapsed": false
   },
   "outputs": [],
   "source": [
    "# conn = MySQLdb.connect(host='10.117.8.41', port=3306, user='root', passwd='vmware', db='bugdata')\n",
    "# cur =conn.cursor()\n",
    "# sql = '''SELECT bug_id, thetext\n",
    "# FROM longdescs\n",
    "# WHERE bug_id = 943195'''\n",
    "# cur.execute(sql)\n",
    "# temp = cur.fetchall()\n",
    "# for item in temp:\n",
    "#     print len(item[1])\n",
    "# print temp[4]"
   ]
  },
  {
   "cell_type": "code",
   "execution_count": 45,
   "metadata": {
    "collapsed": true
   },
   "outputs": [],
   "source": [
    "def rm_cite(raw_text):\n",
    "    lst = []\n",
    "    iscite = False\n",
    "    lines = raw_text.splitlines()\n",
    "    for idx,line in enumerate(lines):\n",
    "        if line.startswith(\"(In reply to comment\"):\n",
    "            iscite = True\n",
    "            lst.append(idx)\n",
    "        elif line.startswith(\">\"):\n",
    "            if iscite == True:\n",
    "                lst.append(idx)\n",
    "        else:\n",
    "            iscite = False\n",
    "        \n",
    "    return '\\n'.join([item[1] for item in filter(lambda x: x[0] not in lst, enumerate(lines))])"
   ]
  },
  {
   "cell_type": "code",
   "execution_count": 66,
   "metadata": {
    "collapsed": true
   },
   "outputs": [],
   "source": [
    "from nltk.stem.snowball import SnowballStemmer\n",
    "# from bs4 import BeautifulSoup\n",
    "\n",
    "def preprocess_strict( raw_description, output):\n",
    "    # Function to convert a raw bug description to a list of words or a cleared string, it's \"strict\" in the sense that it removes all non-letters \n",
    "    # Remove markers\n",
    "    # text = BeautifulSoup(raw_description).get_text() \n",
    "    \n",
    "    # Remove cites\n",
    "    description = rm_cite(raw_description)\n",
    "    \n",
    "    # Remove urls\n",
    "    text = re.sub(\"((mailto\\:|(news|(ht|f)tp(s?))\\://){1}\\S+)\", \" \", description)\n",
    "    \n",
    "    # Remove non-letters        \n",
    "    # letters_only = re.sub(\"[^a-zA-Z_/\\-\\.]\", \" \", description_text)\n",
    "    letters_only = re.sub(\"[^a-zA-Z\\.]\", \" \", text)\n",
    "    letters_only = re.sub(\"\\.(?!((c|h|cpp|py)\\s+$))\", \" \", letters_only)\n",
    "    \n",
    "    # Convert to lower case, tokenize\n",
    "    words = [word for sent in nltk.sent_tokenize(letters_only.lower()) for word in nltk.word_tokenize(sent)]\n",
    "    \n",
    "    # Remove stop words\n",
    "    stopwords = set(nltk.corpus.stopwords.words('english'))\n",
    "    meaningful_words = [w for w in words if not w in stopwords]\n",
    "    \n",
    "    # Stemming\n",
    "    snowball = SnowballStemmer(\"english\")\n",
    "    stems = [snowball.stem(w) for w in meaningful_words]\n",
    "    \n",
    "    if output == \"list\":\n",
    "        return stems\n",
    "    else:\n",
    "        return \" \".join(stems)"
   ]
  },
  {
   "cell_type": "code",
   "execution_count": 74,
   "metadata": {
    "collapsed": true
   },
   "outputs": [],
   "source": [
    "def preprocess_mild( raw_description, output):\n",
    "    # Function to convert a raw bug description to a list of words or a cleared string, it's \"mild\" in the sense that it removes words that don't contain letters\n",
    "    # Remove markers\n",
    "    # text = BeautifulSoup(raw_description).get_text() \n",
    "    \n",
    "    # Remove cites\n",
    "    description = rm_cite(raw_description)\n",
    "    \n",
    "    # Remove urls\n",
    "    text = re.sub(\"((mailto\\:|(news|(ht|f)tp(s?))\\://){1}\\S+)\", \" \", description)\n",
    "    text = re.sub(\"[^\\x00-\\x7f]\", \" \", text)\n",
    "    \n",
    "    # Convert to lower case, tokenize\n",
    "    tokens = [word for sent in nltk.sent_tokenize(text) for word in nltk.word_tokenize(sent)]\n",
    "    \n",
    "    # filter out any tokens not containing letters (e.g., numeric tokens, raw punctuation)\n",
    "    filtered_tokens = []\n",
    "    for token in tokens:\n",
    "        if re.search('[a-zA-Z]', token):\n",
    "            filtered_tokens.append(token)\n",
    "    \n",
    "    # Remove stop words\n",
    "    stopwords = set(nltk.corpus.stopwords.words('english'))\n",
    "    meaningful_tokens = [token for token in filtered_tokens if not token in stopwords]\n",
    "    \n",
    "    # Stemming\n",
    "    snowball = SnowballStemmer(\"english\")\n",
    "    stems = [snowball.stem(t) for t in meaningful_tokens]\n",
    "    \n",
    "    if output == \"list\":\n",
    "        return stems\n",
    "    else:\n",
    "        return \" \".join(stems)"
   ]
  },
  {
   "cell_type": "code",
   "execution_count": 49,
   "metadata": {
    "collapsed": true
   },
   "outputs": [],
   "source": [
    "conn_data = MySQLdb.connect(host='10.117.8.41', port=3306, user='root', passwd='vmware', db='bugdata')\n",
    "cur_data =conn_data.cursor()\n",
    "\n",
    "sql = '''SELECT bug_id, bug_severity, short_desc, host_op_sys, guest_op_sys, product_id, category_id, component_id\n",
    "FROM bugs,profiles \n",
    "WHERE bugs.assigned_to=profiles.userid and profiles.login_name in ('hfu','letian','vbhakta','weili','nmukuri','zhoum','hxie','shiyaoy','shanpeic','souravk','vaibhavk','fangchiw','gengshengl')'''\n",
    "\n",
    "cur_data.execute(sql)\n",
    "bugs_cpdplatf = cur_data.fetchall()"
   ]
  },
  {
   "cell_type": "code",
   "execution_count": 75,
   "metadata": {
    "collapsed": false
   },
   "outputs": [],
   "source": [
    "import itertools\n",
    "\n",
    "bugdata = []\n",
    "\n",
    "conn_data = MySQLdb.connect(host='10.117.8.41', port=3306, user='root', passwd='vmware', db='bugdata')\n",
    "cur_data =conn_data.cursor()\n",
    "\n",
    "for item in bugs_cpdplatf:\n",
    "    sql_ld = '''SELECT bug_id, thetext\n",
    "    FROM longdescs\n",
    "    WHERE bug_id = (%s)''' % str(item[0])\n",
    "    \n",
    "    df = pandas.io.sql.read_sql(sql_ld, conn_data)\n",
    "    \n",
    "    keywords = preprocess_strict(item[2])\n",
    "    \n",
    "    text = list(df['thetext'].map(lambda x: preprocess_mild(x,\"list\")))\n",
    "    \n",
    "    def judge(wordlist):       \n",
    "        if (len(wordlist) > 10 and len(set(keywords) & set(wordlist)) > 0 ) or len(wordlist) > 30:\n",
    "            return True\n",
    "        else:\n",
    "            return False\n",
    "    \n",
    "    long_desc = list(itertools.chain(*filter(judge, text)))\n",
    "    \n",
    "    bugdata.append((str(item[0]), str(item[1]), \" \".join(keywords), str(item[3]), str(item[4]), str(item[5]), str(item[6]), str(item[7]), \" \".join(long_desc)))\n",
    "    \n"
   ]
  },
  {
   "cell_type": "code",
   "execution_count": 76,
   "metadata": {
    "collapsed": true
   },
   "outputs": [],
   "source": [
    "conn_feature = MySQLdb.connect(host='10.117.8.41', port=3306, user='root', passwd='vmware', db='bugfeature')\n",
    "cur_feature =conn_feature.cursor()\n",
    "\n",
    "sql_ins = '''INSERT into bugs_cpdplatform\n",
    "VAlUES (%s, %s, %s, %s, %s, %s, %s, %s, %s)'''\n",
    "    \n",
    "cur_feature.executemany(sql_ins,bugdata)\n",
    "conn_feature.commit()"
   ]
  },
  {
   "cell_type": "code",
   "execution_count": 60,
   "metadata": {
    "collapsed": false
   },
   "outputs": [
    {
     "name": "stdout",
     "output_type": "stream",
     "text": [
      "0 \n",
      "***** \n",
      "*** This child bug 1297787 has been created from base bug 1293636.  Please keep the conversation on the base bug when appropriate. ***\n",
      "1 \n",
      "***** \n",
      "Thanks fangchi for taking it.\n",
      "2 \n",
      "***** \n",
      "Per base bug, this issue should be handled in hosted products.\n",
      "3 \n",
      "***** \n",
      "remove keyword triage-accepted.\n",
      "11\n",
      "3\n",
      "7\n",
      "4\n"
     ]
    }
   ],
   "source": [
    "# conn_data = MySQLdb.connect(host='10.117.8.41', port=3306, user='root', passwd='vmware', db='bugdata')\n",
    "# cur_data =conn_data.cursor()\n",
    "\n",
    "# sql_ld = '''SELECT bug_id, thetext\n",
    "# FROM longdescs\n",
    "# WHERE bug_id = 1297787'''\n",
    "    \n",
    "# df = pandas.io.sql.read_sql(sql_ld, conn_data)\n",
    "\n",
    "# for idx, row in df.iterrows():\n",
    "#     print idx,'\\n', \"*****\", '\\n', row['thetext']\n",
    "\n",
    "# text = list(df['thetext'].map(lambda x: preprocess_strict(x,\"list\")))\n",
    "\n",
    "# for item in text:\n",
    "#     print len(item)"
   ]
  },
  {
   "cell_type": "code",
   "execution_count": 17,
   "metadata": {
    "collapsed": false
   },
   "outputs": [],
   "source": [
    "conn_feature = MySQLdb.connect(host='10.117.8.41', port=3306, user='root', passwd='vmware', db='bugfeature')\n",
    "cur_feature =conn_feature.cursor()\n",
    "\n",
    "sql = '''SELECT bug_id\n",
    "FROM bugs_cpdplatform'''\n",
    "cur_feature.execute(sql)\n",
    "bugid = cur_feature.fetchall()\n",
    "bugid = [str(item[0]) for item in bugid]"
   ]
  },
  {
   "cell_type": "code",
   "execution_count": 18,
   "metadata": {
    "collapsed": false
   },
   "outputs": [],
   "source": [
    "# bugid = [str(item) for item in bugid]\n",
    "# print bugid\n",
    "# print \",\".join(bugid)"
   ]
  },
  {
   "cell_type": "code",
   "execution_count": 23,
   "metadata": {
    "collapsed": false
   },
   "outputs": [
    {
     "name": "stdout",
     "output_type": "stream",
     "text": [
      "((140193, 140328), (158787, 158778), (158787, 158781), (158787, 158789), (164981, 171016), (199825, 183074), (156960, 240657), (252326, 256727), (251889, 256851), (274057, 274061), (289577, 290423), (259769, 290925), (296424, 299452), (310456, 313360), (350655, 350697), (504247, 353002), (354998, 355000), (360704, 360705), (372652, 375843), (354710, 379729), (415862, 412679), (530331, 425069), (448751, 447305), (482099, 450273), (424730, 453885), (425054, 453886), (505405, 538482), (542546, 560250), (604024, 601323), (601789, 601480), (601598, 601597), (600735, 604665), (609458, 609800), (614338, 614337), (704605, 624350), (628759, 629845), (636113, 661557), (721980, 692089), (701177, 701180), (701178, 701181), (691280, 704440), (654800, 714889), (721980, 720525), (714325, 720873), (704605, 720942), (907080, 750471), (753475, 753961), (746939, 753981), (746941, 753985), (753475, 783137), (714814, 787325), (815930, 816106), (815930, 816168), (794510, 821121), (1074199, 824880), (790790, 849402), (871514, 872185), (864225, 875585), (886363, 889219), (894914, 894915), (834128, 899648), (915614, 903236), (1088232, 920777), (903417, 922934), (937395, 937396), (924417, 945091), (956507, 956512), (956506, 956513), (903191, 971811), (983072, 983086), (901222, 1005717), (1010137, 1013650), (774818, 1020502), (1028935, 1030982), (1013986, 1049882), (1055948, 1051529), (1036423, 1053594), (1055327, 1055326), (1197384, 1068400), (1068400, 1068401), (1076672, 1076673), (1079836, 1079843), (1078871, 1080534), (1078870, 1080535), (1078867, 1080536), (1146102, 1087290), (1074251, 1088286), (1074253, 1088287), (1113477, 1096530), (1075523, 1110487), (1133114, 1133106), (1133114, 1133107), (1133114, 1133108), (1133114, 1133109), (1133114, 1133110), (1133114, 1133111), (1133114, 1133112), (1133865, 1134029), (1133866, 1134030), (1133867, 1134031), (1133868, 1134032), (1133869, 1134033), (1133870, 1134034), (1133871, 1134035), (1133872, 1134036), (1133897, 1134062), (1133905, 1134070), (1133906, 1134071), (1133907, 1134072), (1133908, 1134073), (1133909, 1134074), (1133910, 1134075), (1133911, 1134076), (1133912, 1134077), (1133962, 1134126), (1133963, 1134127), (1133964, 1134128), (1133965, 1134129), (1133966, 1134130), (1133967, 1134131), (1133968, 1134132), (1133969, 1134133), (1133865, 1134192), (1133866, 1134193), (1133867, 1134194), (1133868, 1134195), (1133869, 1134196), (1133870, 1134197), (1133871, 1134198), (1133872, 1134199), (1133897, 1134225), (1133905, 1134233), (1133906, 1134234), (1133907, 1134235), (1133908, 1134236), (1133909, 1134237), (1133910, 1134238), (1133911, 1134239), (1133912, 1134240), (1133962, 1134290), (1133963, 1134291), (1133964, 1134292), (1133965, 1134293), (1133966, 1134294), (1133967, 1134295), (1133968, 1134296), (1133969, 1134297), (1133865, 1134361), (1133866, 1134362), (1133867, 1134363), (1133868, 1134364), (1133869, 1134365), (1133870, 1134366), (1133871, 1134367), (1133872, 1134368), (1133897, 1134393), (1133865, 1134448), (1133866, 1134449), (1133867, 1134450), (1133868, 1134451), (1133869, 1134452), (1133870, 1134453), (1133871, 1134454), (1133872, 1134455), (1133897, 1134480), (1133905, 1134488), (1133906, 1134489), (1133907, 1134490), (1133908, 1134491), (1133909, 1134492), (1133910, 1134493), (1133911, 1134494), (1133912, 1134495), (1162026, 1136681), (1175342, 1137093), (1118780, 1139622), (1079558, 1143565), (1086116, 1149485), (1071227, 1158677), (1178834, 1159653), (1178834, 1168149), (1151290, 1175051), (1168684, 1175333), (1168685, 1175334), (1168686, 1175335), (1260478, 1197351), (1245375, 1203929), (1144589, 1205202), (1214632, 1207043), (1248860, 1207429), (1149327, 1214704), (1202489, 1218396), (1143788, 1224296), (1123765, 1226550), (1358338, 1234757), (1273300, 1240181), (1250508, 1250509), (1232621, 1255705), (1270079, 1265495), (1267531, 1265511), (1248880, 1268517), (1277178, 1269307), (1198236, 1269308), (1087838, 1286191), (1274146, 1296906), (1274146, 1299041), (1298531, 1299533), (1298794, 1310271), (1315416, 1311358), (1298794, 1312084), (1175342, 1323746), (1360554, 1327846), (1328699, 1333379), (1335165, 1337062), (1312931, 1337397), (1330567, 1337790), (714814, 1340550), (1343835, 1341204), (1363858, 1342338), (1319810, 1344673), (1334989, 1348146), (1196785, 1349689), (1334989, 1350557), (1334989, 1356276), (1312084, 1359716), (1365013, 1364041), (1178834, 1366676), (1334989, 1366694), (1290493, 1370919), (1245375, 1373118), (1261456, 1392674), (1290493, 1394350), (1297619, 1396488), (990784, 1398681), (1245375, 1400074), (1319810, 1406304), (1386405, 1408093), (1297619, 1411386), (1245375, 1421209))\n"
     ]
    }
   ],
   "source": [
    "conn_data = MySQLdb.connect(host='10.117.8.41', port=3306, user='root', passwd='vmware', db='bugdata')\n",
    "cur_data =conn_data.cursor()\n",
    "\n",
    "sql = '''SELECT *\n",
    "FROM duplicates\n",
    "WHERE dupe_of in (%s)\n",
    "and dupe in (%s)''' %(\",\".join(bugid),\",\".join(bugid))\n",
    "\n",
    "cur_data.execute(sql)\n",
    "dups = cur_data.fetchall() "
   ]
  },
  {
   "cell_type": "code",
   "execution_count": 24,
   "metadata": {
    "collapsed": true
   },
   "outputs": [],
   "source": [
    "conn_feature = MySQLdb.connect(host='10.117.8.41', port=3306, user='root', passwd='vmware', db='bugfeature')\n",
    "cur_feature =conn_feature.cursor()\n",
    "\n",
    "sql_ins = '''INSERT into dups_cpdplatform\n",
    "VAlUES (%s, %s)'''\n",
    "    \n",
    "cur_feature.executemany(sql_ins,dups)\n",
    "conn_feature.commit()"
   ]
  },
  {
   "cell_type": "code",
   "execution_count": 26,
   "metadata": {
    "collapsed": false
   },
   "outputs": [
    {
     "name": "stdout",
     "output_type": "stream",
     "text": [
      "4013 239\n"
     ]
    }
   ],
   "source": [
    "print len(bugid), len(dups)"
   ]
  },
  {
   "cell_type": "raw",
   "metadata": {},
   "source": []
  }
 ],
 "metadata": {
  "kernelspec": {
   "display_name": "Python 2",
   "language": "python",
   "name": "python2"
  },
  "language_info": {
   "codemirror_mode": {
    "name": "ipython",
    "version": 2
   },
   "file_extension": ".py",
   "mimetype": "text/x-python",
   "name": "python",
   "nbconvert_exporter": "python",
   "pygments_lexer": "ipython2",
   "version": "2.7.8"
  }
 },
 "nbformat": 4,
 "nbformat_minor": 0
}
