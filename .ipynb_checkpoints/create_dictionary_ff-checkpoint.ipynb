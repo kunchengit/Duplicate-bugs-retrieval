{
 "cells": [
  {
   "cell_type": "code",
   "execution_count": 1,
   "metadata": {
    "collapsed": false
   },
   "outputs": [],
   "source": [
    "# This file aims to create a dictionary (which is a gensim.corpora.Dictionary object). The difference with 'create_dictionary.ipynb'\n",
    "# is that it uses more fields of the bugs. The dictionary is stored in the file 'dictionary_ff.txt', with 'ff' meaning 'full fields'\n",
    "import MySQLdb\n",
    "import pandas\n",
    "import itertools\n",
    "import numpy as np\n",
    "# import bm25fe\n",
    "import pickle"
   ]
  },
  {
   "cell_type": "code",
   "execution_count": 2,
   "metadata": {
    "collapsed": false
   },
   "outputs": [],
   "source": [
    "conn = MySQLdb.connect(host='10.117.8.41', port=3306, user='root', passwd='vmware', db='bugfeature')\n",
    "cur = conn.cursor()\n",
    "\n",
    "sql = '''SELECT bug_id, short_desc, long_desc\n",
    "FROM bugs_cpdplatform_ff'''\n",
    "\n",
    "# bugs = pandas.io.sql.read_sql(sql, conn).set_index(['bug_id'])\n",
    "bugs = pandas.io.sql.read_sql(sql, conn)"
   ]
  },
  {
   "cell_type": "code",
   "execution_count": 3,
   "metadata": {
    "collapsed": true
   },
   "outputs": [],
   "source": [
    "with open('bugset.txt', 'rb') as f:\n",
    "    bugset = pickle.load(f)\n",
    "    \n",
    "criterion = bugs['bug_id'].map(lambda x: x in bugset)\n",
    "bugs_train = bugs[criterion]\n",
    "n = bugs_train.shape[0]\n",
    "\n",
    "texts = list((bugs_train['short_desc'] +' '+ bugs_train['long_desc']).map(lambda x: x.split()))"
   ]
  },
  {
   "cell_type": "code",
   "execution_count": 4,
   "metadata": {
    "collapsed": false
   },
   "outputs": [],
   "source": [
    "from gensim import corpora\n",
    "\n",
    "dictionary = corpora.Dictionary(list(bugs_train['long_desc'].map(lambda x: x.split())))\n",
    "dictionary.filter_extremes(no_below = 10, no_above = 0.9, keep_n = 100000)\n",
    "dictionary.add_documents(list(bugs_train['short_desc'].map(lambda x: x.split())))\n",
    "\n",
    "dictionary.save_as_text('dictionary_ff.txt')"
   ]
  },
  {
   "cell_type": "code",
   "execution_count": null,
   "metadata": {
    "collapsed": true
   },
   "outputs": [],
   "source": []
  }
 ],
 "metadata": {
  "kernelspec": {
   "display_name": "Python 2",
   "language": "python",
   "name": "python2"
  },
  "language_info": {
   "codemirror_mode": {
    "name": "ipython",
    "version": 2
   },
   "file_extension": ".py",
   "mimetype": "text/x-python",
   "name": "python",
   "nbconvert_exporter": "python",
   "pygments_lexer": "ipython2",
   "version": "2.7.8"
  }
 },
 "nbformat": 4,
 "nbformat_minor": 0
}
