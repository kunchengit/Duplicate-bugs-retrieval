{
 "cells": [
  {
   "cell_type": "code",
   "execution_count": 1,
   "metadata": {
    "collapsed": false
   },
   "outputs": [],
   "source": [
    "import MySQLdb\n",
    "import pandas\n",
    "import itertools\n",
    "import numpy as np\n",
    "import bm25fe\n",
    "import pickle\n",
    "import subprocess\n",
    "import jsd"
   ]
  },
  {
   "cell_type": "code",
   "execution_count": 2,
   "metadata": {
    "collapsed": false
   },
   "outputs": [],
   "source": [
    "conn = MySQLdb.connect(host='10.117.8.41', port=3306, user='root', passwd='vmware', db='bugfeature')\n",
    "cur = conn.cursor()\n",
    "\n",
    "sql = '''SELECT *\n",
    "FROM bugs_cpdplatform_ff'''\n",
    "\n",
    "# bugs = pandas.io.sql.read_sql(sql, conn).set_index(['bug_id'])\n",
    "bugs = pandas.io.sql.read_sql(sql, conn)"
   ]
  },
  {
   "cell_type": "code",
   "execution_count": 3,
   "metadata": {
    "collapsed": false
   },
   "outputs": [
    {
     "name": "stdout",
     "output_type": "stream",
     "text": [
      "8648\n"
     ]
    }
   ],
   "source": [
    "from gensim import corpora\n",
    "from gensim import matutils\n",
    "\n",
    "# dictionary = corpora.Dictionary(list(bugs_train['text']))\n",
    "# dictionary.filter_extremes(no_below = 10, no_above = 0.9, keep_n = 100000)\n",
    "dictionary = corpora.Dictionary.load_from_text('dictionary_ff.txt')\n",
    "num_terms = len(dictionary)\n",
    "print num_terms\n",
    "\n",
    "# bugs['summary'] = bugs['short_desc']\n",
    "bugs['text'] = (bugs['short_desc'] +' '+ bugs['long_desc']).map(lambda x: dictionary.doc2bow(x.split()))\n",
    "bugs['engineer'] = (bugs['assigned_to'].map(str)+' '+bugs['needinfo']).map(lambda x: x.split())\n",
    "bugs.loc[:,'short_desc'] = bugs['short_desc'].map(lambda x: matutils.corpus2dense([dictionary.doc2bow(x.split())], num_terms, 1)[:,0])\n",
    "bugs.loc[:,'long_desc'] = bugs['long_desc'].map(lambda x: matutils.corpus2dense([dictionary.doc2bow(x.split())], num_terms, 1)[:,0])"
   ]
  },
  {
   "cell_type": "code",
   "execution_count": 4,
   "metadata": {
    "collapsed": false
   },
   "outputs": [],
   "source": [
    "# print bugs_train['short_desc'][0].sum()\n",
    "# print bugs_train['short_desc'].as_matrix()[4].sum()\n",
    "# print bugs_train['short_desc'].as_matrix().shape"
   ]
  },
  {
   "cell_type": "code",
   "execution_count": 5,
   "metadata": {
    "collapsed": false
   },
   "outputs": [],
   "source": [
    "appearance = np.array(list(bugs['text'].map(lambda x: matutils.corpus2dense([x], num_terms, 1)[:,0]>0)))\n",
    "df = appearance.sum(0)\n",
    "idf = np.log(bugs.shape[0]/df)\n",
    "avgfl = np.array([np.array(list(bugs['short_desc'])).sum(1).mean(), np.array(list(bugs['long_desc'])).sum(1).mean()])\n",
    "\n",
    "bugs = bugs.set_index(['bug_id'])"
   ]
  },
  {
   "cell_type": "code",
   "execution_count": 7,
   "metadata": {
    "collapsed": false
   },
   "outputs": [
    {
     "name": "stdout",
     "output_type": "stream",
     "text": [
      "Int64Index([ 990809, 1058167, 1087289, 1088789, 1110666, 1118153, 1133148,\n",
      "            1133149, 1133150, 1133151, \n",
      "            ...\n",
      "            1413803, 1417411, 1419573, 1421159, 1423663, 1424583, 1424667,\n",
      "            1425012, 1426217, 1426823],\n",
      "           dtype='int64', name=u'bug_id', length=4013)\n"
     ]
    }
   ],
   "source": [
    "# print appearance[1].sum()\n",
    "# bugs.columns\n",
    "# print bugs.index[0]\n",
    "print bugs.index"
   ]
  },
  {
   "cell_type": "code",
   "execution_count": 55,
   "metadata": {
    "collapsed": false
   },
   "outputs": [
    {
     "name": "stdout",
     "output_type": "stream",
     "text": [
      "0.785714285714\n"
     ]
    }
   ],
   "source": [
    "# from gensim.models import hdpmodel\n",
    "# topicmodel = hdpmodel.HdpModel.load('hdpmodel.txt')\n",
    "from gensim.models import ldamulticore\n",
    "topicmodel = ldamulticore.LdaMulticore.load('ldamodel_ff.txt')\n",
    "\n",
    "# with open('params.txt', 'rb') as f:\n",
    "#     params = pickle.load(f)\n",
    "# bm = bm25fe.bm25fe(K1=params[0], d_B=(params[1], params[2]), d_W = (params[3], params[4]), K3=params[5], q_B=(params[6], params[7]), q_W=(params[8], params[9]))\n",
    "bm = bm25fe.bm25fe(K1=1.2, d_B=(0.75, 0.75), d_W = (2, 1), K3=1.2, q_B=(0.75, 0.75), q_W=(2, 1))\n",
    "\n",
    "with open('test.txt', 'rb') as f:\n",
    "    test = pickle.load(f)\n",
    "\n",
    "num_query = len(test)\n",
    "num_hit = 0\n",
    "\n",
    "# results = []\n",
    "for item in test:\n",
    "    bugs['score'] = bugs.apply(lambda x: bm.score(idf, avgfl, [x[13], x[14]],[bugs.loc[item['query'],'short_desc'], bugs.loc[item['query'],'long_desc']]), axis = 1)\n",
    "    bugs_sorted = bugs.sort(['score'], ascending = False).iloc[:100]\n",
    "    idx = 0\n",
    "    lines = []\n",
    "    \n",
    "    for idx in xrange(100):\n",
    "        sim_title = bugs_sorted.iloc[idx]['short_desc'][bugs.loc[item['query'],'short_desc']>0].sum()/max(bugs_sorted.iloc[idx]['short_desc'].sum(), 1)\n",
    "        score = bugs_sorted.iloc[idx]['score']\n",
    "        # cluster = topicmodel.inference([bugs_sorted.iloc[idx]['text'], bugs.loc[item['query'],'text']])\n",
    "        cluster = topicmodel.inference([bugs_sorted.iloc[idx]['text'], bugs.loc[item['query'],'text']])[0]\n",
    "        dis_topic = jsd.JSD(cluster[0], cluster[1])\n",
    "        sim_hos = False\n",
    "        if (bugs_sorted.iloc[idx]['host_op_sys'] == bugs.loc[item['query'],'host_op_sys']) and (bugs_sorted.iloc[idx]['host_op_sys'] != 'Unknown'):\n",
    "            sim_hos = True\n",
    "        sim_gos = False\n",
    "        if (bugs_sorted.iloc[idx]['guest_op_sys'] == bugs.loc[item['query'],'guest_op_sys']) and (bugs_sorted.iloc[idx]['guest_op_sys'] != 'Unknown'):\n",
    "            sim_gos = True\n",
    "        sim_pd = False\n",
    "        if (bugs_sorted.iloc[idx]['product_id'] == bugs.loc[item['query'],'product_id']):\n",
    "            sim_pd = True\n",
    "        sim_cg = False\n",
    "        if (bugs_sorted.iloc[idx]['category_id'] == bugs.loc[item['query'],'category_id']):\n",
    "            sim_cg = True\n",
    "        sim_cp = False\n",
    "        if (bugs_sorted.iloc[idx]['component_id'] == bugs.loc[item['query'],'component_id']):\n",
    "            sim_cp = True\n",
    "        sim_pr = False\n",
    "        if (bugs_sorted.iloc[idx]['priority'] == bugs.loc[item['query'],'priority']):\n",
    "            sim_pr = True\n",
    "        sim_fi_pd = False\n",
    "        if (bugs_sorted.iloc[idx]['found_in_product_id'] == bugs.loc[item['query'],'found_in_product_id']) and (bugs_sorted.iloc[idx]['found_in_product_id'] != 0):\n",
    "            sim_fi_pd = True\n",
    "        sim_fi_ver = False\n",
    "        if (bugs_sorted.iloc[idx]['found_in_version_id'] == bugs.loc[item['query'],'found_in_version_id']) and (bugs_sorted.iloc[idx]['found_in_version_id'] != 0):\n",
    "            sim_fi_ver = True\n",
    "        sim_fi_ph = False\n",
    "        if (bugs_sorted.iloc[idx]['found_in_phase_id'] == bugs.loc[item['query'],'found_in_phase_id']) and (bugs_sorted.iloc[idx]['found_in_phase_id'] != 0):\n",
    "            sim_fi_ph = True\n",
    "    \n",
    "        if (bugs_sorted.iloc[idx]['cf_security'] == bugs.loc[item['query'],'cf_security']) and (bugs_sorted.iloc[idx]['cf_security'] ==1):\n",
    "            sim_security = 2\n",
    "        elif (bugs_sorted.iloc[idx]['cf_security'] == bugs.loc[item['query'],'cf_security']) and (bugs_sorted.iloc[idx]['cf_security'] ==0):\n",
    "            sim_security = 1\n",
    "        else:\n",
    "            sim_security = 0\n",
    "        \n",
    "        sim_engineer = False\n",
    "        if (len(set(bugs_sorted.iloc[idx]['engineer']) & set(bugs.loc[item['query'],'engineer'])) >0):\n",
    "            sim_engineer = True\n",
    "        \n",
    "        lines.append(str(0)+' qid:'+str(item['query'])+' 1:'+str(sim_title)+' 2:'+str(score)+' 3:'+str(dis_topic)+' 4:'+str(int(sim_hos))+' 5:'+str(int(sim_gos))+' 6:'+str(int(sim_pd))+' 7:'+str(int(sim_cg))+\n",
    "                     ' 8:'+str(int(sim_cp))+' 9:'+str(int(sim_pr))+' 10:'+str(int(sim_fi_pd))+' 11:'+str(int(sim_fi_ver))+' 12:'+str(int(sim_fi_ph))+' 13:'+str(sim_security)+' 14:'+str(int(sim_engineer))+' # '+str(bugs.index[idx])+'\\n')\n",
    "\n",
    "    f = open('query.txt', 'wb')\n",
    "    f.writelines(lines)\n",
    "    f.close()\n",
    "            \n",
    "    subprocess.call(('java', '-jar', 'RankLib-2.1-patched.jar', '-load', 'LambdaMART_ff.txt', '-rank', 'query.txt', '-score', 'score.txt'))\n",
    "    # subprocess.call(('java', '-jar', 'RankLib-2.1-patched.jar', '-load', 'AdaRank.txt', '-rank', 'query.txt', '-score', 'score.txt'))\n",
    "    # subprocess.call(('java', '-jar', 'RankLib-2.1-patched.jar', '-load', 'RankNet.txt', '-rank', 'query.txt', '-score', 'score.txt'))\n",
    "    \n",
    "    score_rank = []\n",
    "    f = open('score.txt', 'rb')\n",
    "    for line in f:\n",
    "        score_rank.append(float(line.split()[2]))\n",
    "    f.close()\n",
    "    \n",
    "    bugs_sorted['score_rank'] = score_rank\n",
    "    bugs_ranked = bugs_sorted.sort(['score_rank'], ascending = False)\n",
    "    \n",
    "    ranklist = []\n",
    "    i = 0\n",
    "    # while len(ranklist) < 5:\n",
    "    #     if bugs_ranked.index[i] == item['query']:\n",
    "    #         i += 1\n",
    "    #     else:\n",
    "    #         ranklist.append(bugs_ranked.index[i])\n",
    "    #         i += 1\n",
    "    while len(ranklist) < 10:\n",
    "        if bugs_ranked.index[i] != item['query']:\n",
    "            child = False\n",
    "            for j in xrange(len(ranklist)):\n",
    "                if bugs_ranked.iloc[i]['summary'] == bugs_ranked.loc[ranklist[j],'summary']:\n",
    "                    if len(set([bugs_ranked.index[i]]) & set(item['rel'])) > 0:\n",
    "                        ranklist[j] = bugs_ranked.index[i]\n",
    "                    child = True\n",
    "                    break\n",
    "            if not child:\n",
    "                ranklist.append(bugs_ranked.index[i])\n",
    "            # ranklist.append(bugs_ranked.index[i])\n",
    "        i += 1\n",
    "    if len(set(ranklist) & set(item['rel'])) > 0:\n",
    "        num_hit +=1\n",
    "    \n",
    "    # print bugs_ranked[0:10]\n",
    "    \n",
    "    # results.append('query:'+str(item['query'])+'    '+'dups:'+','.join([str(bug) for bug in item['rel']])+'    '+'ranklist:'+','.join([str(bug) for bug in ranklist])+'\\n')\n",
    "    \n",
    "print float(num_hit)/num_query\n",
    "# f = open('results_ff.txt', 'wb')\n",
    "# f.writelines(results)\n",
    "# f.close()\n",
    "        "
   ]
  },
  {
   "cell_type": "code",
   "execution_count": null,
   "metadata": {
    "collapsed": false,
    "scrolled": false
   },
   "outputs": [],
   "source": [
    "# print item\n",
    "# print test\n",
    "# print i\n",
    "# print bugs_ranked\n",
    "# print bugs['score']\n",
    "# print bugs.iloc[0,13]\n",
    "# print item['query']\n",
    "# print bugs.loc[item['query']]\n",
    "# print bm.score(idf, avgfl, [bugs.iloc[0,13], bugs.iloc[0,14]], [bugs.loc[item['query'],'short_desc'], bugs.loc[item['query'],'long_desc']])\n",
    "# print bugs.iloc[0,13].sum()\n",
    "# print bugs.iloc[0,14].sum()\n",
    "# for item in idf:\n",
    "#     print item\n",
    "# print idf, avgfl\n",
    "# print bm.fields\n",
    "# print bm.K1, bm.d_B, bm.d_W, bm.K3, bm.q_B, bm.q_W\n",
    "# print ranklist\n",
    "# print bugs_ranked[0:20]\n",
    "# criterion = bugs['needinfo'].map(lambda x: x != '')\n",
    "# print bugs[criterion]['needinfo']\n",
    "# print bugs.loc[1388009]"
   ]
  },
  {
   "cell_type": "code",
   "execution_count": 53,
   "metadata": {
    "collapsed": false
   },
   "outputs": [
    {
     "name": "stdout",
     "output_type": "stream",
     "text": [
      "28 42\n"
     ]
    }
   ],
   "source": [
    "print num_hit,num_query\n",
    "# ranklist = []\n",
    "# print len(ranklist)\n",
    "# print bugs_sorted['score']\n",
    "# print bugs_ranked['score_rank']"
   ]
  },
  {
   "cell_type": "code",
   "execution_count": 13,
   "metadata": {
    "collapsed": false
   },
   "outputs": [
    {
     "name": "stdout",
     "output_type": "stream",
     "text": [
      "0.595238095238\n",
      "0.690476190476\n"
     ]
    }
   ],
   "source": [
    "# with open('params.txt', 'rb') as f:\n",
    "#     params = pickle.load(f)\n",
    "# bm = bm25fe.bm25fe(K1=params[0], d_B=(params[1], params[2]), d_W = (params[3], params[4]), K3=params[5], q_B=(params[6], params[7]), q_W=(params[8], params[9]))\n",
    "bm = bm25fe.bm25fe(K1=1.2, d_B=(0.75, 0.75), d_W = (2, 1), K3=1.2, q_B=(0.75, 0.75), q_W=(2, 1))\n",
    "hit5 = 0\n",
    "hit10 = 0\n",
    "for item in test:\n",
    "    bugs['score'] = bugs.apply(lambda x: bm.score(idf, avgfl, [x[1], x[7]],[bugs.loc[item['query'],'short_desc'], bugs.loc[item['query'],'long_desc']]), axis = 1)\n",
    "    bugs_sorted = bugs.sort(['score'], ascending = False).iloc[:100]\n",
    "    lst5 = []\n",
    "    i = 0\n",
    "    while len(lst5) < 5:\n",
    "        if bugs_sorted.index[i] == item['query']:\n",
    "            i += 1\n",
    "        else:\n",
    "            lst5.append(bugs_sorted.index[i])\n",
    "            i += 1\n",
    "    if len(set(lst5) & set(item['rel'])) > 0:\n",
    "        hit5 +=1\n",
    "    lst10 = []\n",
    "    i = 0\n",
    "    while len(lst10) < 10:\n",
    "        if bugs_sorted.index[i] == item['query']:\n",
    "            i += 1\n",
    "        else:\n",
    "            lst10.append(bugs_sorted.index[i])\n",
    "            i += 1\n",
    "    if len(set(lst10) & set(item['rel'])) > 0:\n",
    "        hit10 +=1\n",
    "\n",
    "print float(hit5)/num_query\n",
    "print float(hit10)/num_query"
   ]
  },
  {
   "cell_type": "code",
   "execution_count": 43,
   "metadata": {
    "collapsed": false
   },
   "outputs": [
    {
     "name": "stdout",
     "output_type": "stream",
     "text": [
      "[1149327]\n"
     ]
    }
   ],
   "source": [
    "# print bugs_sorted.iloc[0]\n",
    "\n",
    "print test[0]['rel']"
   ]
  },
  {
   "cell_type": "code",
   "execution_count": 73,
   "metadata": {
    "collapsed": false
   },
   "outputs": [],
   "source": [
    "# bugs_train"
   ]
  },
  {
   "cell_type": "code",
   "execution_count": 74,
   "metadata": {
    "collapsed": false
   },
   "outputs": [],
   "source": [
    "# print bugs_train['guest_op_sys']"
   ]
  },
  {
   "cell_type": "code",
   "execution_count": 100,
   "metadata": {
    "collapsed": false
   },
   "outputs": [
    {
     "name": "stdout",
     "output_type": "stream",
     "text": [
      "10100\n",
      "0 qid:1224296 1:0.142857 2:77.9385298109 3:0.0788403087743 4:1 5:0 6:1 7:0 8:0 # 1425012\n",
      "\n"
     ]
    }
   ],
   "source": [
    "print len(lines)\n",
    "print lines[10053]\n"
   ]
  },
  {
   "cell_type": "code",
   "execution_count": 87,
   "metadata": {
    "collapsed": false
   },
   "outputs": [
    {
     "name": "stdout",
     "output_type": "stream",
     "text": [
      "0.0\n"
     ]
    }
   ],
   "source": [
    "print bugs_train.loc[485186,'short_desc'].sum()"
   ]
  },
  {
   "cell_type": "code",
   "execution_count": null,
   "metadata": {
    "collapsed": true
   },
   "outputs": [],
   "source": []
  }
 ],
 "metadata": {
  "kernelspec": {
   "display_name": "Python 2",
   "language": "python",
   "name": "python2"
  },
  "language_info": {
   "codemirror_mode": {
    "name": "ipython",
    "version": 2
   },
   "file_extension": ".py",
   "mimetype": "text/x-python",
   "name": "python",
   "nbconvert_exporter": "python",
   "pygments_lexer": "ipython2",
   "version": "2.7.8"
  }
 },
 "nbformat": 4,
 "nbformat_minor": 0
}
