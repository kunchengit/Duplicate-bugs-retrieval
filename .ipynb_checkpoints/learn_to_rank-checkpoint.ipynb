{
 "cells": [
  {
   "cell_type": "code",
   "execution_count": 1,
   "metadata": {
    "collapsed": false
   },
   "outputs": [],
   "source": [
    "# Train a learn-to-rank model using duplicate bugs assigned to CPD platform team. I have tried the AdaRank algorithm (the trained model is \n",
    "# stored in 'AdaRank.txt'), the RankNet algorithm (the trained model is stored in 'RankNet.txt') and the LambdaMART algorithm (the trained \n",
    "# model is stored in 'LambdaMART.txt'). The best performance is achieved by LambdaMART, so I decide to use LambdaMART.\n",
    "import MySQLdb\n",
    "import pandas\n",
    "import itertools\n",
    "import numpy as np\n",
    "import bm25fe\n",
    "import pickle\n",
    "import subprocess\n",
    "import jsd"
   ]
  },
  {
   "cell_type": "code",
   "execution_count": 2,
   "metadata": {
    "collapsed": false
   },
   "outputs": [],
   "source": [
    "conn = MySQLdb.connect(host='10.117.8.41', port=3306, user='root', passwd='vmware', db='bugfeature')\n",
    "cur = conn.cursor()\n",
    "\n",
    "sql = '''SELECT *\n",
    "FROM bugs_cpdplatform'''\n",
    "\n",
    "# bugs = pandas.io.sql.read_sql(sql, conn).set_index(['bug_id'])\n",
    "bugs = pandas.io.sql.read_sql(sql, conn)"
   ]
  },
  {
   "cell_type": "code",
   "execution_count": 3,
   "metadata": {
    "collapsed": false
   },
   "outputs": [
    {
     "name": "stderr",
     "output_type": "stream",
     "text": [
      "/usr/local/lib/python2.7/site-packages/IPython/kernel/__main__.py:16: SettingWithCopyWarning: \n",
      "A value is trying to be set on a copy of a slice from a DataFrame.\n",
      "Try using .loc[row_indexer,col_indexer] = value instead\n",
      "\n",
      "See the the caveats in the documentation: http://pandas.pydata.org/pandas-docs/stable/indexing.html#indexing-view-versus-copy\n"
     ]
    }
   ],
   "source": [
    "with open('train100.txt', 'rb') as f:\n",
    "    train = pickle.load(f)\n",
    "\n",
    "bugset = []\n",
    "for item in train:\n",
    "    bugset.append(item['query'])\n",
    "    bugset.append(item['rel'])\n",
    "    bugset += item['irrel']\n",
    "\n",
    "bugset = set(bugset)\n",
    "# bugset = set(itertools.chain(*train))\n",
    "\n",
    "criterion = bugs['bug_id'].map(lambda x: x in bugset)\n",
    "bugs_train = bugs[criterion]\n",
    "# n = bugs_train.shape[0]\n",
    "bugs_train['text'] = (bugs_train['short_desc'] +' '+ bugs_train['long_desc']).map(lambda x: x.split())"
   ]
  },
  {
   "cell_type": "code",
   "execution_count": 4,
   "metadata": {
    "collapsed": false
   },
   "outputs": [],
   "source": [
    "# print n\n",
    "# print len(texts)\n",
    "# print len(bugset)\n",
    "# print train\n",
    "# print bugs_filtered.shape\n",
    "# print criterion\n",
    "# print bugset\n",
    "# print bugs.shape\n",
    "# print type(criterion1)"
   ]
  },
  {
   "cell_type": "code",
   "execution_count": 5,
   "metadata": {
    "collapsed": false
   },
   "outputs": [
    {
     "name": "stdout",
     "output_type": "stream",
     "text": [
      "8647\n"
     ]
    },
    {
     "name": "stderr",
     "output_type": "stream",
     "text": [
      "/root/.virtualenvs/dup_bug_retrieval/lib/python2.7/site-packages/pandas/core/indexing.py:415: SettingWithCopyWarning: \n",
      "A value is trying to be set on a copy of a slice from a DataFrame.\n",
      "Try using .loc[row_indexer,col_indexer] = value instead\n",
      "\n",
      "See the the caveats in the documentation: http://pandas.pydata.org/pandas-docs/stable/indexing.html#indexing-view-versus-copy\n",
      "  self.obj[item] = s\n"
     ]
    }
   ],
   "source": [
    "# change the text fields of bugs into bag-of-words vectors\n",
    "\n",
    "from gensim import corpora\n",
    "from gensim import matutils\n",
    "\n",
    "# dictionary = corpora.Dictionary(list(bugs_train['text']))\n",
    "# dictionary.filter_extremes(no_below = 10, no_above = 0.9, keep_n = 100000)\n",
    "dictionary = corpora.Dictionary.load_from_text('dictionary.txt')\n",
    "num_terms = len(dictionary)\n",
    "print num_terms\n",
    "bugs_train.loc[:,'short_desc'] = bugs_train['short_desc'].map(lambda x: matutils.corpus2dense([dictionary.doc2bow(x.split())], num_terms, 1)[:,0])\n",
    "bugs_train.loc[:,'long_desc'] = bugs_train['long_desc'].map(lambda x: matutils.corpus2dense([dictionary.doc2bow(x.split())], num_terms, 1)[:,0])\n",
    "bugs_train.loc[:,'text'] = bugs_train['text'].map(dictionary.doc2bow)"
   ]
  },
  {
   "cell_type": "code",
   "execution_count": 6,
   "metadata": {
    "collapsed": false
   },
   "outputs": [],
   "source": [
    "# print bugs_train['short_desc'][0].sum()\n",
    "# print bugs_train['short_desc'].as_matrix()[4].sum()\n",
    "# print bugs_train['short_desc'].as_matrix().shape"
   ]
  },
  {
   "cell_type": "code",
   "execution_count": 7,
   "metadata": {
    "collapsed": false
   },
   "outputs": [],
   "source": [
    "idf = np.log(bugs_train.shape[0]/np.array(dictionary.dfs.values()))\n",
    "avgfl = np.array([np.array(list(bugs_train['short_desc'])).sum(1).mean(), np.array(list(bugs_train['long_desc'])).sum(1).mean()])\n",
    "\n",
    "bugs_train = bugs_train.set_index(['bug_id'])"
   ]
  },
  {
   "cell_type": "code",
   "execution_count": 46,
   "metadata": {
    "collapsed": false
   },
   "outputs": [],
   "source": [
    "# generate the learn-to-rank train data, following the format of the Ranklib tool\n",
    "\n",
    "# from gensim.models import hdpmodel\n",
    "# topicmodel = hdpmodel.HdpModel.load('hdpmodel.txt')\n",
    "from gensim.models import ldamulticore\n",
    "topicmodel = ldamulticore.LdaMulticore.load('ldamodel.txt')\n",
    "\n",
    "# with open('params.txt', 'rb') as f:\n",
    "#     params = pickle.load(f)\n",
    "# bm = bm25fe.bm25fe(K1=params[0], d_B=(params[1], params[2]), d_W = (params[3], params[4]), K3=params[5], q_B=(params[6], params[7]), q_W=(params[8], params[9]))\n",
    "bm = bm25fe.bm25fe(K1=1.2, d_B=(0.75, 0.75), d_W = (2, 1), K3=1.2, q_B=(0.75, 0.75), q_W=(2, 1))\n",
    "\n",
    "lines = []\n",
    "for item in train:\n",
    "    target = 3\n",
    "    sim_title = bugs_train.loc[item['rel'],'short_desc'][bugs_train.loc[item['query'],'short_desc']>0].sum()/max(bugs_train.loc[item['rel'],'short_desc'].sum(), 1)\n",
    "    score = bm.score(idf, avgfl, [bugs_train.loc[item['rel'],'short_desc'], bugs_train.loc[item['rel'],'long_desc']],\n",
    "                         [bugs_train.loc[item['query'],'short_desc'], bugs_train.loc[item['query'],'long_desc']])\n",
    "    # cluster = topicmodel.inference([bugs_train.loc[item['rel'],'text'], bugs_train.loc[item['query'],'text']])\n",
    "    cluster = topicmodel.inference([bugs_train.loc[item['rel'],'text'], bugs_train.loc[item['query'],'text']])[0]\n",
    "    dis_topic = jsd.JSD(cluster[0], cluster[1])\n",
    "    sim_hos = False\n",
    "    if (bugs_train.loc[item['rel'],'host_op_sys'] == bugs_train.loc[item['query'],'host_op_sys']) and (bugs_train.loc[item['rel'],'host_op_sys'] != 'Unknown'):\n",
    "        sim_hos = True\n",
    "    sim_gos = False\n",
    "    if (bugs_train.loc[item['rel'],'guest_op_sys'] == bugs_train.loc[item['query'],'guest_op_sys']) and (bugs_train.loc[item['rel'],'guest_op_sys'] != 'Unknown'):\n",
    "        sim_gos = True\n",
    "    sim_pd = False\n",
    "    if (bugs_train.loc[item['rel'],'product_id'] == bugs_train.loc[item['query'],'product_id']):\n",
    "        sim_pd = True\n",
    "    sim_cg = False\n",
    "    if (bugs_train.loc[item['rel'],'category_id'] == bugs_train.loc[item['query'],'category_id']):\n",
    "        sim_cg = True\n",
    "    sim_cp = False\n",
    "    if (bugs_train.loc[item['rel'],'component_id'] == bugs_train.loc[item['query'],'component_id']):\n",
    "        sim_cp = True\n",
    "    lines.append(str(target)+' qid:'+str(item['query'])+' 1:'+str(sim_title)+' 2:'+str(score)+' 3:'+str(dis_topic)+' 4:'+str(int(sim_hos))+' 5:'+str(int(sim_gos))+' 6:'+str(int(sim_pd))+' 7:'+str(int(sim_cg))+' 8:'+str(int(sim_cp))+' # '+str(item['rel'])+'\\n')\n",
    "    for bug in item['irrel']:\n",
    "        target = 0\n",
    "        sim_title = bugs_train.loc[bug,'short_desc'][bugs_train.loc[item['query'],'short_desc']>0].sum()/max(bugs_train.loc[bug,'short_desc'].sum(), 1)\n",
    "        score = bm.score(idf, avgfl, [bugs_train.loc[bug,'short_desc'], bugs_train.loc[bug,'long_desc']],\n",
    "                             [bugs_train.loc[item['query'],'short_desc'], bugs_train.loc[item['query'],'long_desc']])\n",
    "        # cluster = topicmodel.inference([bugs_train.loc[bug,'text'], bugs_train.loc[item['query'],'text']])\n",
    "        cluster = topicmodel.inference([bugs_train.loc[bug,'text'], bugs_train.loc[item['query'],'text']])[0]\n",
    "        dis_topic = jsd.JSD(cluster[0], cluster[1])\n",
    "        sim_hos = False\n",
    "        if (bugs_train.loc[bug,'host_op_sys'] == bugs_train.loc[item['query'],'host_op_sys']) and (bugs_train.loc[item['rel'],'host_op_sys'] != 'Unknown'):\n",
    "            sim_hos = True\n",
    "        sim_gos = False\n",
    "        if (bugs_train.loc[bug,'guest_op_sys'] == bugs_train.loc[item['query'],'guest_op_sys']) and (bugs_train.loc[item['rel'],'guest_op_sys'] != 'Unknown'):\n",
    "            sim_gos = True\n",
    "        sim_pd = False\n",
    "        if (bugs_train.loc[bug,'product_id'] == bugs_train.loc[item['query'],'product_id']):\n",
    "            sim_pd = True\n",
    "        sim_cg = False\n",
    "        if (bugs_train.loc[bug,'category_id'] == bugs_train.loc[item['query'],'category_id']):\n",
    "            sim_cg = True\n",
    "        sim_cp = False\n",
    "        if (bugs_train.loc[bug,'component_id'] == bugs_train.loc[item['query'],'component_id']):\n",
    "            sim_cp = True\n",
    "        # if sim_pd and sim_cg and sim_cp:\n",
    "        #     target = 2\n",
    "        # elif sim_pd and sim_cg:\n",
    "        #     target = 1\n",
    "        lines.append(str(target)+' qid:'+str(item['query'])+' 1:'+str(sim_title)+' 2:'+str(score)+' 3:'+str(dis_topic)+' 4:'+str(int(sim_hos))+' 5:'+str(int(sim_gos))+' 6:'+str(int(sim_pd))+' 7:'+str(int(sim_cg))+' 8:'+str(int(sim_cp))+' # '+str(bug)+'\\n')\n",
    "        \n",
    "    "
   ]
  },
  {
   "cell_type": "code",
   "execution_count": 49,
   "metadata": {
    "collapsed": true
   },
   "outputs": [],
   "source": [
    "f = open('train.txt', 'wb')\n",
    "\n",
    "f.writelines(lines)"
   ]
  },
  {
   "cell_type": "code",
   "execution_count": 50,
   "metadata": {
    "collapsed": false
   },
   "outputs": [
    {
     "data": {
      "text/plain": [
       "0"
      ]
     },
     "execution_count": 50,
     "metadata": {},
     "output_type": "execute_result"
    }
   ],
   "source": [
    "# call the Ranklib tool to train a learn-to-rank model\n",
    "\n",
    "subprocess.call(('java', '-jar', 'RankLib-2.1-patched.jar', '-train', 'train.txt', '-ranker', '6', '-metric2t', 'NDCG@5', '-save', 'LambdaMART.txt'))\n",
    "# subprocess.call(('java', '-jar', 'RankLib-2.1-patched.jar', '-train', 'train.txt', '-ranker', '3', '-metric2t', 'NDCG@5', '-save', 'AdaRank.txt'))\n",
    "# subprocess.call(('java', '-jar', 'RankLib-2.1-patched.jar', '-train', 'train.txt', '-ranker', '1', '-metric2t', 'NDCG@5', '-save', 'RankNet.txt'))"
   ]
  },
  {
   "cell_type": "code",
   "execution_count": 73,
   "metadata": {
    "collapsed": false
   },
   "outputs": [],
   "source": [
    "# bugs_train"
   ]
  },
  {
   "cell_type": "code",
   "execution_count": 74,
   "metadata": {
    "collapsed": false
   },
   "outputs": [],
   "source": [
    "# print bugs_train['guest_op_sys']"
   ]
  },
  {
   "cell_type": "code",
   "execution_count": 100,
   "metadata": {
    "collapsed": false
   },
   "outputs": [
    {
     "name": "stdout",
     "output_type": "stream",
     "text": [
      "10100\n",
      "0 qid:1224296 1:0.142857 2:77.9385298109 3:0.0788403087743 4:1 5:0 6:1 7:0 8:0 # 1425012\n",
      "\n"
     ]
    }
   ],
   "source": [
    "print len(lines)\n",
    "print lines[10053]"
   ]
  },
  {
   "cell_type": "code",
   "execution_count": 87,
   "metadata": {
    "collapsed": false
   },
   "outputs": [
    {
     "name": "stdout",
     "output_type": "stream",
     "text": [
      "0.0\n"
     ]
    }
   ],
   "source": [
    "print bugs_train.loc[485186,'short_desc'].sum()"
   ]
  },
  {
   "cell_type": "code",
   "execution_count": null,
   "metadata": {
    "collapsed": true
   },
   "outputs": [],
   "source": []
  }
 ],
 "metadata": {
  "kernelspec": {
   "display_name": "Python 2",
   "language": "python",
   "name": "python2"
  },
  "language_info": {
   "codemirror_mode": {
    "name": "ipython",
    "version": 2
   },
   "file_extension": ".py",
   "mimetype": "text/x-python",
   "name": "python",
   "nbconvert_exporter": "python",
   "pygments_lexer": "ipython2",
   "version": "2.7.8"
  }
 },
 "nbformat": 4,
 "nbformat_minor": 0
}
