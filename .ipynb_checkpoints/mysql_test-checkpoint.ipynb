{
 "cells": [
  {
   "cell_type": "code",
   "execution_count": 1,
   "metadata": {
    "collapsed": false
   },
   "outputs": [],
   "source": [
    "import MySQLdb\n",
    "import pandas\n",
    "import itertools\n",
    "import numpy as np\n",
    "import bm25fe\n",
    "import pickle\n",
    "import subprocess\n",
    "import jsd"
   ]
  },
  {
   "cell_type": "code",
   "execution_count": 4,
   "metadata": {
    "collapsed": false
   },
   "outputs": [
    {
     "data": {
      "text/plain": [
       "4013L"
      ]
     },
     "execution_count": 4,
     "metadata": {},
     "output_type": "execute_result"
    }
   ],
   "source": [
    "conn = MySQLdb.connect(host='10.117.8.41', port=3306, user='root', passwd='vmware', db='bugfeature')\n",
    "cursor = conn.cursor()\n",
    "\n",
    "sql = '''SELECT *\n",
    "FROM bugs_cpdplatform_ff'''\n",
    "cursor.execute(sql)"
   ]
  },
  {
   "cell_type": "code",
   "execution_count": 6,
   "metadata": {
    "collapsed": false
   },
   "outputs": [
    {
     "name": "stdout",
     "output_type": "stream",
     "text": [
      "(('bug_id', 9, 7, 9, 9, 0, 0), ('assigned_to', 9, 5, 9, 9, 0, 0), ('summary', 253, 255, 255, 255, 0, 0), ('host_op_sys', 253, 43, 1024, 1024, 0, 1), ('guest_op_sys', 253, 82, 1024, 1024, 0, 1), ('priority', 253, 3, 64, 64, 0, 0), ('product_id', 2, 3, 6, 6, 0, 0), ('category_id', 2, 4, 6, 6, 0, 0), ('component_id', 2, 5, 6, 6, 0, 0), ('found_in_product_id', 2, 3, 6, 6, 0, 0), ('found_in_version_id', 9, 4, 9, 9, 0, 0), ('found_in_phase_id', 9, 5, 9, 9, 0, 0), ('cf_security', 1, 1, 1, 1, 0, 0), ('needinfo', 253, 61, 255, 255, 0, 0), ('short_desc', 253, 160, 255, 255, 0, 0), ('long_desc', 252, 270577, 16777215, 16777215, 0, 0))\n",
      "['bug_id', 'assigned_to', 'summary', 'host_op_sys', 'guest_op_sys', 'priority', 'product_id', 'category_id', 'component_id', 'found_in_product_id', 'found_in_version_id', 'found_in_phase_id', 'cf_security', 'needinfo', 'short_desc', 'long_desc']\n",
      "{'found_in_phase_id': 21926, 'priority': 'P1', 'component_id': 9975, 'product_id': 3, 'found_in_version_id': 1708, 'found_in_product_id': 157, 'host_op_sys': '', 'short_desc': 'sr issu deploy larg vapp vcloud netapp vaai plugin due file lock', 'long_desc': \"sr id sr tse/ee/rem owner fintan comyn custom t-system temp warm product version/build number vcenter/esx/vcloud regress previous releas n/a frequenc alway time failure/last occurr 2013-02-06t13:39 time skew various machin yes/no yes recent chang environ new instal date open support problem area vcloud vapp concurr clone netapp vaai plugin ani third parti product use cu environ netapp vaai plugin problem descript when custom deploy vapp vcloud involv clone vms master fail use netapp vaai plugin they deploy vmware link clone without issu the error get hostd follow exampl esx-mpmuc-v-sb01b1-07.vcloud.dsi.ts-ian.net-2013-02-06 2013-02-06t13:39:36.020z 2ddf3b90 info ha-eventmgr opid=activity=urn uuid:9cf31ff4-854d-4bcf-bc5b-d6b509830601-7d-19-93 event creat virtual machin win2008r2entsp1eng-72 9cf31ff4-854d-4bcf-bc5b-d6b509830601 mpmuc-v-sb01b1-07.vcloud.dsi.ts-ian.net ha-datacent 2013-02-06t13:39:36.021z 2ddf3b90 info taskmanag opid=activity=urn uuid:9cf31ff4-854d-4bcf-bc5b-d6b509830601-7d-19-93 task complet hatask-ha-folder-vm-vim.folder.createvm-521580794 status success 2013-02-06t13:39:36.026z 2dd71b90 info lib opid=activity=urn uuid:5c24c3c8-3a9d-499f-bdc7-ec5add0beb8c-3e-81-22 aiomgr aiomgr_openwithretri descriptor file /vmfs/volumes/26468310-d733daa3/shadow-win2008r2entsp1eng 88f9aa55-7db8-493c-ad3c-e0ad9cac1521 /shadow-win2008r2entsp1eng 88f9aa55-7db8-493c-ad3c-e0ad9cac1521 .vmdk lock tri 2013-02-06t13:39:36.032z 2e1c3b90 info ha-eventmgr opid=activity=urn uuid fcfcfbfa-e923-4c3e-8f29-5b14043e0220-44-19-79 event can creat virtual disk /vmfs/volumes/26468310-d733daa3/win2008r2entsp1eng-47 fcfcfbfa-e923-4c3e-8f29-5b14043e0220 /win2008r2entsp1eng-47 fcfcfbfa-e923-4c3e-8f29-5b14043e0220 .vmdk 2013-02-06t13:39:36.033z 2e1c3b90 info vm /vmfs/volumes/26468310-d733daa3/win2008r2entsp1eng-47 fcfcfbfa-e923-4c3e-8f29-5b14043e0220 /win2008r2entsp1eng-47 fcfcfbfa-e923-4c3e-8f29-5b14043e0220 .vmx opid=activity=urn uuid fcfcfbfa-e923-4c3e-8f29-5b14043e0220-44-19-79 reconfigur fail vim.fault.filelock vpxd show follow 2013-02-06t14:39:11.566+01:00 info commonvpxlro opid=activity=urn uuid fcfcfbfa-e923-4c3e-8f29-5b14043e0220-44-19 vpxlro finish task-internal-4 vmprovworkflow 2013-02-06t14:39:11.566+01:00 info default opid=activity=urn uuid fcfcfbfa-e923-4c3e-8f29-5b14043e0220-44-19 vpxlro error task-internal-494873 vmprovworkflow vim.fault.filelock result vim.fault.filelock dynamictyp unset faultcaus vmodl.methodfault null file mpmuc-ds-silver-sb01b1-02 shadow-win2008r2entsp1eng 88f9aa55-7db8-493c-ad3c-e0ad9cac1521 /shadow-win2008r2entsp1eng 88f9aa55-7db8-493c-ad3c-e0ad9cac1521 .vmdk msg unabl access file mpmuc-ds-silver-sb01b1-02 shadow-win2008r2entsp1eng 88f9aa55-7db8-493c-ad3c-e0ad9cac1521 /shadow-win2008r2entsp1eng 88f9aa55-7db8-493c-ad3c-e0ad9cac1521 .vmdk sinc lock arg 2013-02-06t14:39:11.566+01:00 error default opid=activity=urn uuid fcfcfbfa-e923-4c3e-8f29-5b14043e0220-44 log recurs level vim.fault.filelock this lead believ issu unabl creat concurr nas vaai link clone i ask socialcast whether option throttl concurr clone vcloud view answer can confirm fact issu pr pr assign vcloud team investig concurr provis oper vcloud throttl if reason failur impact issu deploy larg vapp vcloud from /mts/bugs/files/0/0/9/9/0/8/0/9/esx-mpmuc-v-sb01b1-07.vcloud.dsi.ts-ian.net-2013-02-06 15.35/commands/vmkernel.log 2013-02-06t12:12:05.299z cpu16:246982 nfslock fail get lock file shadow-win2008r2entsp1eng 88f9aa55-7db8-493c-ad3c-e0ad9cac15 .vmdk 0x41001d23a820 busi 2013-02-06t13:37:43.471z cpu2:9242 nfslock fail get lock file shadow-win2008r2entsp1eng 88f9aa55-7db8-493c-ad3c-e0ad9cac1521 .vmdk 0x41001c354070 busi 2013-02-06t13:38:38.570z cpu31:10736 nfslock fail get lock file shadow-win2008r2entsp1eng 88f9aa55-7db8-493c-ad3c-e0ad9cac152 .vmdk 0x41001d256ba0 busi 2013-02-06t13:38:50.791z cpu31:10736 nfslock fail get lock file shadow-win2008r2entsp1eng 88f9aa55-7db8-493c-ad3c-e0ad9cac152 .vmdk 0x41001d2340e0 busi 2013-02-06t13:39:01.109z cpu31:10736 nfslock fail get lock file shadow-win2008r2entsp1eng 88f9aa55-7db8-493c-ad3c-e0ad9cac152 .vmdk 0x41001c3514b0 busi 2013-02-06t13:39:23.375z cpu8:9207 nfslock fail get lock file shadow-win2008r2entsp1eng 88f9aa55-7db8-493c-ad3c-e0ad9cac1521 .vmdk 0x41001c34d930 busi so m/c mac address e0 ad:9c ac:15:21 hold lock nfs server i did't find host mac provid vm-support log sinc nfs side issu assign robin analysi fintan pl get vmsupport log host mac e0 ad:9c ac:15:21 ~storag guru also exclus lock messag indic host lock ./esx-mpmuc-v-sb01b1-01.vcloud.dsi.ts-ian.net-2013-02-06 15.12/var/run/log/vmkernel.log:2013-02-05t15:47:33.207z cpu6:9191 warn nfslock file lock consum host mpmuc-v-sb01b1-06.vcloud.dsi.t exclus lock ./esx-mpmuc-v-sb01b1-01.vcloud.dsi.ts-ian.net-2013-02-06 15.12/var/run/log/vmkernel.log:2013-02-05t15:47:33.207z cpu6:9191 nfslock fail get lock file inlatethicktest-1 9af99bc7-0057-4546-a9df-4d10eb82300 .vmdk 0x41001c34a4b0 busi ./esx-mpmuc-v-sb01b1-01.vcloud.dsi.ts-ian.net-2013-02-06 15.12/var/run/log/vmkernel.log:2013-02-06t11:55:44.547z cpu16:10552 warn nfslock file lock consum host mpmuc-v-sb01b1-02.vcloud.dsi.t exclus lock ./esx-mpmuc-v-sb01b1-01.vcloud.dsi.ts-ian.net-2013-02-06 15.12/var/run/log/vmkernel.log:2013-02-06t11:55:44.547z cpu16:10552 nfslock fail get lock file shadow-win2008r2entsp1eng 88f9aa55-7db8-493c-ad3c-e0ad9cac1521 .vmdk 0x41001c3440f0 busi ./esx-mpmuc-v-sb01b1-01.vcloud.dsi.ts-ian.net-2013-02-06 15.12/var/run/log/vmkernel.log:2013-02-06t12:11:20.452z cpu6:914321 warn nfslock file lock consum host mpmuc-v-sb01b1-06.vcloud.dsi.t exclus lock ./esx-mpmuc-v-sb01b1-01.vcloud.dsi.ts-ian.net-2013-02-06 15.12/var/run/log/vmkernel.log:2013-02-06t12:11:20.452z cpu6:914321 nfslock fail get lock file shadow-win2008r2entsp1eng 88f9aa55-7db8-493c-ad3c-e0ad9cac1521 .vmdk 0x41001d2546e0 busi ./esx-mpmuc-v-sb01b1-01.vcloud.dsi.ts-ian.net-2013-02-06 15.12/var/run/log/vmkernel.log:2013-02-06t13:37:31.562z cpu31:914982 warn nfslock file lock consum host mpmuc-v-sb01b1-04.vcloud.dsi.t exclus lock ./esx-mpmuc-v-sb01b1-01.vcloud.dsi.ts-ian.net-2013-02-06 15.12/var/run/log/vmkernel.log:2013-02-06t13:37:31.562z cpu31:914982 nfslock fail get lock file shadow-win2008r2entsp1eng 88f9aa55-7db8-493c-ad3c-e0ad9cac1521 .vmdk 0x41001c344d30 busi ./esx-mpmuc-v-sb01b1-01.vcloud.dsi.ts-ian.net-2013-02-06 15.12/var/run/log/vmkernel.log:2013-02-06t13:42:11.090z cpu31:9194 warn nfslock file lock consum host mpmuc-v-sb01b1-08.vcloud.dsi.t exclus lock ./esx-mpmuc-v-sb01b1-01.vcloud.dsi.ts-ian.net-2013-02-06 15.12/var/run/log/vmkernel.log:2013-02-06t13:42:11.090z cpu31:9194 nfslock fail get lock file shadow-win2008r2entsp1eng 88f9aa55-7db8-493c-ad3c-e0ad9cac1521 .vmdk 0x41001d2453a0 busi ./esx-mpmuc-v-sb01b1-01.vcloud.dsi.ts-ian.net-2013-02-06 15.12/var/run/log/vmkernel.log:2013-02-06t13:43:51.221z cpu6:10841 warn nfslock file lock consum host mpmuc-v-sb01b1-02.vcloud.dsi.t exclus lock ./esx-mpmuc-v-sb01b1-01.vcloud.dsi.ts-ian.net-2013-02-06 15.12/var/run/log/vmkernel.log:2013-02-06t13:43:51.221z cpu6:10841 nfslock fail get lock file shadow-win2008r2entsp1eng 88f9aa55-7db8-493c-ad3c-e0ad9cac1521 .vmdk 0x41001d2430a0 busi reason escal critic busi impact escal criteria larg refer custom t-system product defect sla within sr impact issu deploy larg vapp vcloud regard cian o'mahoni emea escal manag hi guy i submit request friday unabl get analysi today 's call we request brief netapp t-system find pr 2pm gmt tomorrow i realli need give feedback parti tomorrow situat becom quit heat can pa base engin review pr view provid explan vapp deploy failur recommend avoid failur fintan 's gss bcs tse specif ask can confirm fact issu pr pr assign vcloud team investig concurr provis oper vcloud throttl if reason failur this would much appreci would give us opportun get back on-track end custom tomorrow call thank cian the error thrown aiomgr_openwithretri immedi concern altogeth differ task uuid 5c24c3c8-3a9d-499f-bdc7-ec5add0beb8c-3e-81-22 perform but number retri fail eventu here 2013-02-06t13:39:36.330z 2dd71b90 info lib opid=activity=urn uuid:5c24c3c8-3a9d-499f-bdc7-ec5add0beb8c-3e-81-22 aiomgr aiomgr_openwithretri descriptor file /vmfs/volumes/26468310-d733daa3/shadow-win2008r2entsp1eng 88f9aa55-7db8-493c-ad3c-e0ad9cac1521 /shadow-win2008r2entsp1eng 88f9aa55-7db8-493c-ad3c-e0ad9cac1521 .vmdk lock tri but sinc error thrown i leav untouch let 's focus immedi caus failur this relat creation vm win2008r2entsp1eng-47 task uuid fcfcfbfa-e923-4c3e-8f29-5b14043e0220-44-19-79 this start 13:38:30.883z 2013-02-06t13:38:30.883z 2e1c3b90 info taskmanag opid=activity=urn uuid fcfcfbfa-e923-4c3e-8f29-5b14043e0220-44-19-79 task creat hatask-ha-folder-vm-vim.folder.createvm-521580796 clone oper succeed vm see log 2013-02-06t13:38:40.524z 2e1c3b90 info lib opid=activity=urn uuid fcfcfbfa-e923-4c3e-8f29-5b14043e0220-44-19-79 vaai-na netapp_nas_plugin /vmfs/volumes/26468310-d733daa3 clone /vmfs/volumes/26468310-d733daa3/win2008r2entsp1eng-47 fcfcfbfa-e923-4c3e-8f29-5b14043e0220 /win2008r2entsp1eng-47 fcfcfbfa-e923-4c3e-8f29-5b14043e0220 -flat.vmdk succeed 2013-02-06t13:38:40.533z 2e1c3b90 info lib opid=activity=urn uuid fcfcfbfa-e923-4c3e-8f29-5b14043e0220-44-19-79 vaai-na netapp_nas_plugin /vmfs/volumes/26468310-d733daa3 clone /vmfs/volumes/26468310-d733daa3/win2008r2entsp1eng-47 fcfcfbfa-e923-4c3e-8f29-5b14043e0220 /win2008r2entsp1eng-47 fcfcfbfa-e923-4c3e-8f29-5b14043e0220 .vmdk succeed onc clone succeed tri chang descriptor file parent vm shadow vm case it basic want set ddb_deletable_flag fals descriptor file sinc might multipl descriptor updat oper go concurr wonder descriptor file might lock host cluster this evid vmkernel log 2013-02-06t13:39:23.375z cpu8:9207 warn nfslock file lock consum host mpmuc-v-sb01b1-02.vcloud.dsi.t exclus lock 2013-02-06t13:39:23.375z cpu8:9207 nfslock fail get lock file shadow-win2008r2entsp1eng 88f9aa55-7db8-493c-ad3c-e0ad9cac1521 .vmdk 0x41001c34d930 busi in disklib code retri mechan situat descriptor file open tri disklibmiscoptions.openretri time delay sec retri but log i could n't find evid retri am i miss someth i put forth question disklib expert prajakta nirav base pa right issu n't look similar pr although caus might i.e concurr access descriptor file also netapp nas plugin n't seem like culprit link clone oper wo n't result issu concurr link clone oper henc custom might see issu link clone i wait analysi disklib side proceed ps the messag refer esx-mpmuc-v-sb01b1-07.vcloud.dsi.ts-ian.net-2013-02-06 15.35/var/run/log/hostd.0 forgot includ actual error messag lead failur 2013-02-06t13:39:33.765z 2e1c3b90 info disklib opid=activity=urn uuid fcfcfbfa-e923-4c3e-8f29-5b14043e0220-44-19-79 disklib-dscptr /vmfs/volumes/26468310-d733daa3/shadow-win2008r2entsp1eng 88f9aa55-7db8-493c-ad3c-e0ad9cac1521 /shadow-win2008r2entsp1eng 88f9aa55-7db8-493c-ad3c-e0ad9cac1521 .vmdk could n't open descriptor file write fail lock file 2013-02-06t13:39:33.765z 2e1c3b90 error default opid=activity=urn uuid fcfcfbfa-e923-4c3e-8f29-5b14043e0220-44-19-79 creat child fail mark parent /vmfs/volumes/26468310-d733daa3/shadow-win2008r2entsp1eng 88f9aa55-7db8-493c-ad3c-e0ad9cac1521 /shadow-win2008r2entsp1eng 88f9aa55-7db8-493c-ad3c-e0ad9cac1521 .vmdk readon fail lock file 2013-02-06t13:39:36.032z 2e1c3b90 info ha-eventmgr opid=activity=urn uuid fcfcfbfa-e923-4c3e-8f29-5b14043e0220-44-19-79 event can creat virtual disk /vmfs/volumes/26468310-d733daa3/win2008r2entsp1eng-47 fcfcfbfa-e923-4c3e-8f29-5b14043e0220 /win2008r2entsp1eng-47 fcfcfbfa-e923-4c3e-8f29-5b14043e0220 .vmdk ad lokesh back cc list descriptorwritefrombuff res fileio_open fd pathnam access action disklibmiscoptions.openretri res fileio_lock_fail i++ log lgpfx descriptor file lock tri u .\\\\n utf8 pathnam util_usleep desc_sleep_m res fileio_open fd pathnam access action fileio_issuccess res retval disklib_makeerrorfromfileio res log lgpfx could n't open descriptor file write d .\\\\n utf8 pathnam disklib_err2str retval retval goto errorremovefil disklibmiscopt initi /lib/disklib/disklib.c memcpi disklibmiscopt defaultdisklibmiscopt sizeof disklibmiscopt sizeof disklibmiscoptions.objparam defaultdisklibmiscopt defin lib/disklib/disklib.c const disklibmiscopt defaultdisklibmiscopt endif openretri retri open everi second lock unfortun hard answer global sens consid sever librari brought hostd that said i see code modifi openretri outsid disklib if end reproduc get livecor hostd would enabl us read inform that said within disklib i see one function modifi openretri disklibopt_updatemiscopt this function appear use set option abstract i ll drop talk see addit possibl hostd regard -cpd hostd guru when i scan unstrip binari /build/storage60/release/bora-914609/build/linux64/bora/build/esx/release/vmvisor/sys-unstrip i see follow binari .so file contain disklibopt_updatemiscopt vmx-debug disklibopt_updatemiscopt vmx disklibopt_updatemiscopt vmx-stat disklibopt_updatemiscopt there sever lib symbol none look possibl interest case this would mean unlik hostd chang default i n't see code -eric ps i search disklibmiscopt turn refer i expect see disklibwrapper.so b disklibmiscopt libvix.so u disklibmiscopt libvmsnapshot.so b disklibmiscopt libvmkctl.so b disklibmiscopt libvmsnapshot.so b disklibmiscopt vmx-debug b disklibmiscopt vmx b disklibmiscopt vmx-stat b disklibmiscopt vpxa b disklibmiscopt libvmfsnasplugin.so b disklibmiscopt libvmfsnasplugin.so b disklibmiscopt hostd u disklibmiscopt vmkfstool b disklibmiscopt thank eric analysi so nas plugin seem make refer disklibmiscopt access nas plugin directori i n't think tamper openretri valu there reason retri happen disklib get log from pr i see arvind mention situat updat retri messag get log but arvind 's sandbox build updat messag re-appear do suppress releas build if might reason i put needinfo arvind answer apart layer also look whether vcloud throttl view look fintan alreadi file pr track i mention avoid confus in pr track disklib and/or nfs relat issu come back problem hand link clone oper everi child vm creation lead set ddb_deletable_flag fals if i understand correct n't need lock descriptor file everytim set flag we simpli check whether set fals if yes n't need lock file confirm theori need come vcloud folk need set ddb_deletable_flag fals hostd actual set i put needinfo direct eric alreadi background arvind confirm whether see similar issu pr it unlik sinc seem fix part content descriptor file issu way back june vsphere5x branch fix avail p01 bug found but possibl may need take care scenario can pleas look bug give us analysi problem i could n't understand log come log file i still sure happen suspect someon chang openretri field sandbox build come pr concurr thread tri updat ddb_nativedelta field whose fix i fix reduc frequenc hope n't happen then anoth similar quit thing bug concurr thread tri set delet flag time lose this bug look i.e nishant fix bug solut fix issu lock content descriptor file concurr thread tri updat irrespect field tri updat solut appli pr well pr as i said i believ bug i would consid fix but tri thing releas bug found tri follow option /etc/vmware/config file restart hostd see help disklib.openretries= if work make disklib retri retri done gap pf 300ms keep retri min thank arvind analysi fintan/cian o'mahoni per arvind fix done pr may address issu we crossport fix befor cross port want confirm whether fix solv custom issu will custom will test give debug build hi all i spoke custom will test debug build approx 1200gmt tomorrow unrel nexus issu resolv environ thank help far await debug build regard cian o'mahoni emea escal manag in pr updat fix issu n't retri includ retri fix also small optim would remov needless call test first this fix n't need newer version under disklib call configur retri version optim present etc that said even make chang disagr optim would ever necessari regard -eric pr creat track debug patch creation effort onc branch creat i need least day unit test fix fyi debug patch cln prod-2013 this fix pr if fix work proper custom 's environ crossport mn mn.next receiv follow feedback custom configur disklib.openretries= /etc/vmware/config file work i test creat vapp vms public catalog imag fin what think keep configur till vmware releas offici patch wait patch if keep configur environ still support ani thought we could ask custom test debug patch i believ will after test success could use workaround rather get hot patch would workaround support fintan i believ configur openretri support set higher valu n't immedi side-effect although opinion larg valu custom vapp deploy limit i guess valu upper limit oper i sure valu openretri test qe arvind shed light well support aspect i put needinfo if custom happi workaround wo n't go hassl provid hot patch anyway fix crossport mn mn.next as far test disklib.openretri goe mean much qe test option i sure i n't think qe test differ config option as far support goe i believ environ would still support option sure let needinfo petr confirm disklib.openretri support config option suggest custom workaround onli gss tell support as far code concern realli care whether number retri left default set onli effect visibl custom case suppos fail take time longer so custom tri use small valu feel comfort like petr not quit almost right idea in hostd use retri disklib afaik n't happen if use set happen work enabl retri hostd may unknown consequ would wholli untest water in 4.1u3 fix specif link clone enabl limit retri well avoid repeat write lock base disk though might worth mention pr realli link clone i think link clone aspect pr read updat i 'm sure regard -eric hi all my custom face similar issu provis view linked-clon so i ask set disklib.openretri /etc/vmware/config reboot host howev work view connect server build-987719 view agent build-987719 view compos build-983460 virtual center update1a build-1123961 esxi update1 build-1117900 is paramet name disklib.openretri correct i see paramet name disklibmiscoptions.openretri bug includ also releas note to avoid storag vmotion failur storag array stress slow edit follow option /etc/vmware/config file increas number open disk retri disklibmiscoptions.openretri larg number best regard tadashi uchiyama gss japan ccing paul kohler snr patrner tehcnolog strategist rais concern ibm experi product late can get confirm fix issu releas esxi updat thank help best regard mike michael corkeri technic support manag end user comput mcorkeri vmware.com behan hous barrack squar ballincollig co. cork ireland offic at time code chang check esx u2 address issu there concern within engin code chang riski requir extens test take code chang late releas potenti put releas risk e.g delay we feel safer custom appli disklib.openretri paramet workaround per updat custom confirm workaround work has ibm explor use workaround option base updat code chang look riski and view also may impact due fix qe need triag bug understand impact fix accept henc remov triage-accept keyword ~satya david ibm said workaround work do public publish kb i see earlier draft kb creat look like recommend smaller number work also n't publish ibm need someth point refer architectur document thank kae-chi i believ fintan tell us state kb i agre publish i confus i see draft are say ibm satisfi workaround perman solut esx or ibm still expect perman code solut backport code esx5.1 tricki riski would great avoid i believ fintan tell us state kb i agre publish i confus i see draft are say ibm satisfi workaround perman solut esx or ibm still expect perman code solut backport code esx5.1 tricki riski would great avoid hi david the refer workaround updat the draft kb articl recommend should number recommend instead for short term ibm simpli want kb point ra do plan resolv later esx version can get kb publish asap sinc ibm want releas ra within next coupl week thank kae-chi to comment excerpt seem suggest tell custom start low retri count higher custom go higher choos the negat side effect high retri scenario need fail oper take much longer as far code concern realli care whether number retri left default set onli effect visibl custom case suppos fail take time longer so custom tri use small valu feel comfort like fintan publish kb for perman fix target esx u3 sinc hi-risk chang need time proper develop test work i chang fix-bi 5.1u3 david i n't think fintan around anymor i could n't find person directori is anoth person publish kb thank kae-chi gss charg develop publish kb for i cc evelyn phil gss storag person evelyn/phil redirect right person gss need hi i ve updat articl base comment current draft pleas review revis word resolut what stanc want take regard retri valu is note regard extrem case suffici or would like recommend higher valu right bat a final question feedback articl disklibmiscoptions.openretri paramet i assum incorrect do fix target onc confirm i final draft get tech writer team final review publish extern i suggest say depend amount virtual machin deploy custom read may request provid amount answer would requir us experi i also suggest elimin extrem case sentenc if custom tri recomend work i would prefer call tech support examin environ handl case-by-cas basi i believ recommend cover case a final question feedback articl disklibmiscoptions.openretri paramet i assum incorrect we mention disklib.openretri paramet do fix target we target perman fix updat pleas publish info extern onc confirm i final draft get tech writer team final review publish extern hi all the articl live custom alreadi contact us issu via twitter can add littl detail exact mani larg number nas vaai link clone per sr13279111902 custom encount issu vms per comment implic custom seen problem littl vms howev need fintan confirm unfortun longer work vmware i read srs attach pr i see follow info sr13369525509 vms sr13278307502 vms pleas continu review sr attach gather data base collect data-point abl repli back custom tell typic larg vms report encount issu base data i see far i believ fair say custom seen problem littl vms we need kb updat follow chang discuss sunil vajir farid pirani david lee chang summari titl creat larg number link clone singl vapp fail error unabl access file xxx.vmdk sinc lock add follow symptom view compos stop provis error messag view compos fault unexpect vc fault view compos unknown unknown fault xsi type= filelock xmlns= urn internalvim25 xmlns xsi= file v7000u_replica replica-322b997d-1a94-4ff2-8d23-60ef20efac01/replica-322b997d-1a94-4ff2-8d23-60ef20efac01.vmdk /file /fault vm win7c109 one minor chang we need make datastor name generic pleas chang v7000u_replica way depict generic replica datastor name follow part view compos stop provis error messag view compos fault unexpect vc fault view compos unknown unknown fault xsi type= filelock xmlns= urn internalvim25 xmlns xsi= file v7000u_replica replica-322b997d-1a94-4ff2-8d23-60ef20efac01/replica-322b997d-1a94-4ff2-8d 23-60ef20efac01.vmdk /file /fault vm vm_name thank kae-chi hi kae-chi the articl updat generic datastor name datastore1_replica the log line read file datastore1_replica replica-322b997d-1a94-4ff2-8d23-60ef20efac01/replica-322b997d-1a94-4ff2-8d23-60ef20efac01.vmdk /file thank time\", 'summary': '[SR] Issue deploying large VAPPS in vCLoud with Netapp Vaai Plugin due to file being locked', 'bug_id': 990809, 'cf_security': 0, 'guest_op_sys': '', 'assigned_to': 22652, 'needinfo': '', 'category_id': 783}\n"
     ]
    }
   ],
   "source": [
    "\n",
    "columns = [column[0] for column in cursor.description]\n",
    "print cursor.description\n",
    "print columns\n",
    "print dict(zip(columns, cursor.fetchone()))"
   ]
  },
  {
   "cell_type": "code",
   "execution_count": 3,
   "metadata": {
    "collapsed": false
   },
   "outputs": [
    {
     "name": "stdout",
     "output_type": "stream",
     "text": [
      "8648\n"
     ]
    }
   ],
   "source": [
    "from gensim import corpora\n",
    "from gensim import matutils\n",
    "\n",
    "# dictionary = corpora.Dictionary(list(bugs_train['text']))\n",
    "# dictionary.filter_extremes(no_below = 10, no_above = 0.9, keep_n = 100000)\n",
    "dictionary = corpora.Dictionary.load_from_text('dictionary_ff.txt')\n",
    "num_terms = len(dictionary)\n",
    "print num_terms\n",
    "\n",
    "# bugs['summary'] = bugs['short_desc']\n",
    "bugs['text'] = (bugs['short_desc'] +' '+ bugs['long_desc']).map(lambda x: dictionary.doc2bow(x.split()))\n",
    "bugs['engineer'] = (bugs['assigned_to'].map(str)+' '+bugs['needinfo']).map(lambda x: x.split())\n",
    "bugs.loc[:,'short_desc'] = bugs['short_desc'].map(lambda x: matutils.corpus2dense([dictionary.doc2bow(x.split())], num_terms, 1)[:,0])\n",
    "bugs.loc[:,'long_desc'] = bugs['long_desc'].map(lambda x: matutils.corpus2dense([dictionary.doc2bow(x.split())], num_terms, 1)[:,0])"
   ]
  },
  {
   "cell_type": "code",
   "execution_count": 4,
   "metadata": {
    "collapsed": false
   },
   "outputs": [],
   "source": [
    "# print bugs_train['short_desc'][0].sum()\n",
    "# print bugs_train['short_desc'].as_matrix()[4].sum()\n",
    "# print bugs_train['short_desc'].as_matrix().shape"
   ]
  },
  {
   "cell_type": "code",
   "execution_count": 5,
   "metadata": {
    "collapsed": false
   },
   "outputs": [],
   "source": [
    "appearance = np.array(list(bugs['text'].map(lambda x: matutils.corpus2dense([x], num_terms, 1)[:,0]>0)))\n",
    "df = appearance.sum(0)\n",
    "idf = np.log(bugs.shape[0]/df)\n",
    "avgfl = np.array([np.array(list(bugs['short_desc'])).sum(1).mean(), np.array(list(bugs['long_desc'])).sum(1).mean()])\n",
    "\n",
    "bugs = bugs.set_index(['bug_id'])"
   ]
  },
  {
   "cell_type": "code",
   "execution_count": 7,
   "metadata": {
    "collapsed": false
   },
   "outputs": [
    {
     "name": "stdout",
     "output_type": "stream",
     "text": [
      "Int64Index([ 990809, 1058167, 1087289, 1088789, 1110666, 1118153, 1133148,\n",
      "            1133149, 1133150, 1133151, \n",
      "            ...\n",
      "            1413803, 1417411, 1419573, 1421159, 1423663, 1424583, 1424667,\n",
      "            1425012, 1426217, 1426823],\n",
      "           dtype='int64', name=u'bug_id', length=4013)\n"
     ]
    }
   ],
   "source": [
    "# print appearance[1].sum()\n",
    "# bugs.columns\n",
    "# print bugs.index[0]\n",
    "print bugs.index"
   ]
  },
  {
   "cell_type": "code",
   "execution_count": 55,
   "metadata": {
    "collapsed": false
   },
   "outputs": [
    {
     "name": "stdout",
     "output_type": "stream",
     "text": [
      "0.785714285714\n"
     ]
    }
   ],
   "source": [
    "# from gensim.models import hdpmodel\n",
    "# topicmodel = hdpmodel.HdpModel.load('hdpmodel.txt')\n",
    "from gensim.models import ldamulticore\n",
    "topicmodel = ldamulticore.LdaMulticore.load('ldamodel_ff.txt')\n",
    "\n",
    "# with open('params.txt', 'rb') as f:\n",
    "#     params = pickle.load(f)\n",
    "# bm = bm25fe.bm25fe(K1=params[0], d_B=(params[1], params[2]), d_W = (params[3], params[4]), K3=params[5], q_B=(params[6], params[7]), q_W=(params[8], params[9]))\n",
    "bm = bm25fe.bm25fe(K1=1.2, d_B=(0.75, 0.75), d_W = (2, 1), K3=1.2, q_B=(0.75, 0.75), q_W=(2, 1))\n",
    "\n",
    "with open('test.txt', 'rb') as f:\n",
    "    test = pickle.load(f)\n",
    "\n",
    "num_query = len(test)\n",
    "num_hit = 0\n",
    "\n",
    "# results = []\n",
    "for item in test:\n",
    "    bugs['score'] = bugs.apply(lambda x: bm.score(idf, avgfl, [x[13], x[14]],[bugs.loc[item['query'],'short_desc'], bugs.loc[item['query'],'long_desc']]), axis = 1)\n",
    "    bugs_sorted = bugs.sort(['score'], ascending = False).iloc[:100]\n",
    "    idx = 0\n",
    "    lines = []\n",
    "    \n",
    "    for idx in xrange(100):\n",
    "        sim_title = bugs_sorted.iloc[idx]['short_desc'][bugs.loc[item['query'],'short_desc']>0].sum()/max(bugs_sorted.iloc[idx]['short_desc'].sum(), 1)\n",
    "        score = bugs_sorted.iloc[idx]['score']\n",
    "        # cluster = topicmodel.inference([bugs_sorted.iloc[idx]['text'], bugs.loc[item['query'],'text']])\n",
    "        cluster = topicmodel.inference([bugs_sorted.iloc[idx]['text'], bugs.loc[item['query'],'text']])[0]\n",
    "        dis_topic = jsd.JSD(cluster[0], cluster[1])\n",
    "        sim_hos = False\n",
    "        if (bugs_sorted.iloc[idx]['host_op_sys'] == bugs.loc[item['query'],'host_op_sys']) and (bugs_sorted.iloc[idx]['host_op_sys'] != 'Unknown'):\n",
    "            sim_hos = True\n",
    "        sim_gos = False\n",
    "        if (bugs_sorted.iloc[idx]['guest_op_sys'] == bugs.loc[item['query'],'guest_op_sys']) and (bugs_sorted.iloc[idx]['guest_op_sys'] != 'Unknown'):\n",
    "            sim_gos = True\n",
    "        sim_pd = False\n",
    "        if (bugs_sorted.iloc[idx]['product_id'] == bugs.loc[item['query'],'product_id']):\n",
    "            sim_pd = True\n",
    "        sim_cg = False\n",
    "        if (bugs_sorted.iloc[idx]['category_id'] == bugs.loc[item['query'],'category_id']):\n",
    "            sim_cg = True\n",
    "        sim_cp = False\n",
    "        if (bugs_sorted.iloc[idx]['component_id'] == bugs.loc[item['query'],'component_id']):\n",
    "            sim_cp = True\n",
    "        sim_pr = False\n",
    "        if (bugs_sorted.iloc[idx]['priority'] == bugs.loc[item['query'],'priority']):\n",
    "            sim_pr = True\n",
    "        sim_fi_pd = False\n",
    "        if (bugs_sorted.iloc[idx]['found_in_product_id'] == bugs.loc[item['query'],'found_in_product_id']) and (bugs_sorted.iloc[idx]['found_in_product_id'] != 0):\n",
    "            sim_fi_pd = True\n",
    "        sim_fi_ver = False\n",
    "        if (bugs_sorted.iloc[idx]['found_in_version_id'] == bugs.loc[item['query'],'found_in_version_id']) and (bugs_sorted.iloc[idx]['found_in_version_id'] != 0):\n",
    "            sim_fi_ver = True\n",
    "        sim_fi_ph = False\n",
    "        if (bugs_sorted.iloc[idx]['found_in_phase_id'] == bugs.loc[item['query'],'found_in_phase_id']) and (bugs_sorted.iloc[idx]['found_in_phase_id'] != 0):\n",
    "            sim_fi_ph = True\n",
    "    \n",
    "        if (bugs_sorted.iloc[idx]['cf_security'] == bugs.loc[item['query'],'cf_security']) and (bugs_sorted.iloc[idx]['cf_security'] ==1):\n",
    "            sim_security = 2\n",
    "        elif (bugs_sorted.iloc[idx]['cf_security'] == bugs.loc[item['query'],'cf_security']) and (bugs_sorted.iloc[idx]['cf_security'] ==0):\n",
    "            sim_security = 1\n",
    "        else:\n",
    "            sim_security = 0\n",
    "        \n",
    "        sim_engineer = False\n",
    "        if (len(set(bugs_sorted.iloc[idx]['engineer']) & set(bugs.loc[item['query'],'engineer'])) >0):\n",
    "            sim_engineer = True\n",
    "        \n",
    "        lines.append(str(0)+' qid:'+str(item['query'])+' 1:'+str(sim_title)+' 2:'+str(score)+' 3:'+str(dis_topic)+' 4:'+str(int(sim_hos))+' 5:'+str(int(sim_gos))+' 6:'+str(int(sim_pd))+' 7:'+str(int(sim_cg))+\n",
    "                     ' 8:'+str(int(sim_cp))+' 9:'+str(int(sim_pr))+' 10:'+str(int(sim_fi_pd))+' 11:'+str(int(sim_fi_ver))+' 12:'+str(int(sim_fi_ph))+' 13:'+str(sim_security)+' 14:'+str(int(sim_engineer))+' # '+str(bugs.index[idx])+'\\n')\n",
    "\n",
    "    f = open('query.txt', 'wb')\n",
    "    f.writelines(lines)\n",
    "    f.close()\n",
    "            \n",
    "    subprocess.call(('java', '-jar', 'RankLib-2.1-patched.jar', '-load', 'LambdaMART_ff.txt', '-rank', 'query.txt', '-score', 'score.txt'))\n",
    "    # subprocess.call(('java', '-jar', 'RankLib-2.1-patched.jar', '-load', 'AdaRank.txt', '-rank', 'query.txt', '-score', 'score.txt'))\n",
    "    # subprocess.call(('java', '-jar', 'RankLib-2.1-patched.jar', '-load', 'RankNet.txt', '-rank', 'query.txt', '-score', 'score.txt'))\n",
    "    \n",
    "    score_rank = []\n",
    "    f = open('score.txt', 'rb')\n",
    "    for line in f:\n",
    "        score_rank.append(float(line.split()[2]))\n",
    "    f.close()\n",
    "    \n",
    "    bugs_sorted['score_rank'] = score_rank\n",
    "    bugs_ranked = bugs_sorted.sort(['score_rank'], ascending = False)\n",
    "    \n",
    "    ranklist = []\n",
    "    i = 0\n",
    "    # while len(ranklist) < 5:\n",
    "    #     if bugs_ranked.index[i] == item['query']:\n",
    "    #         i += 1\n",
    "    #     else:\n",
    "    #         ranklist.append(bugs_ranked.index[i])\n",
    "    #         i += 1\n",
    "    while len(ranklist) < 10:\n",
    "        if bugs_ranked.index[i] != item['query']:\n",
    "            child = False\n",
    "            for j in xrange(len(ranklist)):\n",
    "                if bugs_ranked.iloc[i]['summary'] == bugs_ranked.loc[ranklist[j],'summary']:\n",
    "                    if len(set([bugs_ranked.index[i]]) & set(item['rel'])) > 0:\n",
    "                        ranklist[j] = bugs_ranked.index[i]\n",
    "                    child = True\n",
    "                    break\n",
    "            if not child:\n",
    "                ranklist.append(bugs_ranked.index[i])\n",
    "            # ranklist.append(bugs_ranked.index[i])\n",
    "        i += 1\n",
    "    if len(set(ranklist) & set(item['rel'])) > 0:\n",
    "        num_hit +=1\n",
    "    \n",
    "    # print bugs_ranked[0:10]\n",
    "    \n",
    "    # results.append('query:'+str(item['query'])+'    '+'dups:'+','.join([str(bug) for bug in item['rel']])+'    '+'ranklist:'+','.join([str(bug) for bug in ranklist])+'\\n')\n",
    "    \n",
    "print float(num_hit)/num_query\n",
    "# f = open('results_ff.txt', 'wb')\n",
    "# f.writelines(results)\n",
    "# f.close()\n",
    "        "
   ]
  },
  {
   "cell_type": "code",
   "execution_count": null,
   "metadata": {
    "collapsed": false,
    "scrolled": false
   },
   "outputs": [],
   "source": [
    "# print item\n",
    "# print test\n",
    "# print i\n",
    "# print bugs_ranked\n",
    "# print bugs['score']\n",
    "# print bugs.iloc[0,13]\n",
    "# print item['query']\n",
    "# print bugs.loc[item['query']]\n",
    "# print bm.score(idf, avgfl, [bugs.iloc[0,13], bugs.iloc[0,14]], [bugs.loc[item['query'],'short_desc'], bugs.loc[item['query'],'long_desc']])\n",
    "# print bugs.iloc[0,13].sum()\n",
    "# print bugs.iloc[0,14].sum()\n",
    "# for item in idf:\n",
    "#     print item\n",
    "# print idf, avgfl\n",
    "# print bm.fields\n",
    "# print bm.K1, bm.d_B, bm.d_W, bm.K3, bm.q_B, bm.q_W\n",
    "# print ranklist\n",
    "# print bugs_ranked[0:20]\n",
    "# criterion = bugs['needinfo'].map(lambda x: x != '')\n",
    "# print bugs[criterion]['needinfo']\n",
    "# print bugs.loc[1388009]"
   ]
  },
  {
   "cell_type": "code",
   "execution_count": 53,
   "metadata": {
    "collapsed": false
   },
   "outputs": [
    {
     "name": "stdout",
     "output_type": "stream",
     "text": [
      "28 42\n"
     ]
    }
   ],
   "source": [
    "print num_hit,num_query\n",
    "# ranklist = []\n",
    "# print len(ranklist)\n",
    "# print bugs_sorted['score']\n",
    "# print bugs_ranked['score_rank']"
   ]
  },
  {
   "cell_type": "code",
   "execution_count": 13,
   "metadata": {
    "collapsed": false
   },
   "outputs": [
    {
     "name": "stdout",
     "output_type": "stream",
     "text": [
      "0.595238095238\n",
      "0.690476190476\n"
     ]
    }
   ],
   "source": [
    "# with open('params.txt', 'rb') as f:\n",
    "#     params = pickle.load(f)\n",
    "# bm = bm25fe.bm25fe(K1=params[0], d_B=(params[1], params[2]), d_W = (params[3], params[4]), K3=params[5], q_B=(params[6], params[7]), q_W=(params[8], params[9]))\n",
    "bm = bm25fe.bm25fe(K1=1.2, d_B=(0.75, 0.75), d_W = (2, 1), K3=1.2, q_B=(0.75, 0.75), q_W=(2, 1))\n",
    "hit5 = 0\n",
    "hit10 = 0\n",
    "for item in test:\n",
    "    bugs['score'] = bugs.apply(lambda x: bm.score(idf, avgfl, [x[1], x[7]],[bugs.loc[item['query'],'short_desc'], bugs.loc[item['query'],'long_desc']]), axis = 1)\n",
    "    bugs_sorted = bugs.sort(['score'], ascending = False).iloc[:100]\n",
    "    lst5 = []\n",
    "    i = 0\n",
    "    while len(lst5) < 5:\n",
    "        if bugs_sorted.index[i] == item['query']:\n",
    "            i += 1\n",
    "        else:\n",
    "            lst5.append(bugs_sorted.index[i])\n",
    "            i += 1\n",
    "    if len(set(lst5) & set(item['rel'])) > 0:\n",
    "        hit5 +=1\n",
    "    lst10 = []\n",
    "    i = 0\n",
    "    while len(lst10) < 10:\n",
    "        if bugs_sorted.index[i] == item['query']:\n",
    "            i += 1\n",
    "        else:\n",
    "            lst10.append(bugs_sorted.index[i])\n",
    "            i += 1\n",
    "    if len(set(lst10) & set(item['rel'])) > 0:\n",
    "        hit10 +=1\n",
    "\n",
    "print float(hit5)/num_query\n",
    "print float(hit10)/num_query"
   ]
  },
  {
   "cell_type": "code",
   "execution_count": 43,
   "metadata": {
    "collapsed": false
   },
   "outputs": [
    {
     "name": "stdout",
     "output_type": "stream",
     "text": [
      "[1149327]\n"
     ]
    }
   ],
   "source": [
    "# print bugs_sorted.iloc[0]\n",
    "\n",
    "print test[0]['rel']"
   ]
  },
  {
   "cell_type": "code",
   "execution_count": 73,
   "metadata": {
    "collapsed": false
   },
   "outputs": [],
   "source": [
    "# bugs_train"
   ]
  },
  {
   "cell_type": "code",
   "execution_count": 74,
   "metadata": {
    "collapsed": false
   },
   "outputs": [],
   "source": [
    "# print bugs_train['guest_op_sys']"
   ]
  },
  {
   "cell_type": "code",
   "execution_count": 100,
   "metadata": {
    "collapsed": false
   },
   "outputs": [
    {
     "name": "stdout",
     "output_type": "stream",
     "text": [
      "10100\n",
      "0 qid:1224296 1:0.142857 2:77.9385298109 3:0.0788403087743 4:1 5:0 6:1 7:0 8:0 # 1425012\n",
      "\n"
     ]
    }
   ],
   "source": [
    "print len(lines)\n",
    "print lines[10053]\n"
   ]
  },
  {
   "cell_type": "code",
   "execution_count": 87,
   "metadata": {
    "collapsed": false
   },
   "outputs": [
    {
     "name": "stdout",
     "output_type": "stream",
     "text": [
      "0.0\n"
     ]
    }
   ],
   "source": [
    "print bugs_train.loc[485186,'short_desc'].sum()"
   ]
  },
  {
   "cell_type": "code",
   "execution_count": null,
   "metadata": {
    "collapsed": true
   },
   "outputs": [],
   "source": []
  }
 ],
 "metadata": {
  "kernelspec": {
   "display_name": "Python 2",
   "language": "python",
   "name": "python2"
  },
  "language_info": {
   "codemirror_mode": {
    "name": "ipython",
    "version": 2
   },
   "file_extension": ".py",
   "mimetype": "text/x-python",
   "name": "python",
   "nbconvert_exporter": "python",
   "pygments_lexer": "ipython2",
   "version": "2.7.8"
  }
 },
 "nbformat": 4,
 "nbformat_minor": 0
}
