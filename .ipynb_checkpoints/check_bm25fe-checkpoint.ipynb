{
 "cells": [
  {
   "cell_type": "code",
   "execution_count": 6,
   "metadata": {
    "collapsed": false
   },
   "outputs": [],
   "source": [
    "import MySQLdb\n",
    "import pandas\n",
    "import itertools\n",
    "import numpy as np\n",
    "import bm25fe\n",
    "import pickle"
   ]
  },
  {
   "cell_type": "code",
   "execution_count": 7,
   "metadata": {
    "collapsed": false
   },
   "outputs": [],
   "source": [
    "conn = MySQLdb.connect(host='10.117.8.41', port=3306, user='root', passwd='vmware', db='bugfeature')\n",
    "cur = conn.cursor()\n",
    "\n",
    "sql = '''SELECT bug_id, short_desc, long_desc\n",
    "FROM bugs_cpdplatform'''\n",
    "\n",
    "# bugs = pandas.io.sql.read_sql(sql, conn).set_index(['bug_id'])\n",
    "bugs = pandas.io.sql.read_sql(sql, conn)"
   ]
  },
  {
   "cell_type": "code",
   "execution_count": 8,
   "metadata": {
    "collapsed": false
   },
   "outputs": [],
   "source": [
    "with open('train100.txt', 'rb') as f:\n",
    "    train = pickle.load(f)\n",
    "\n",
    "examples = []\n",
    "for item in train:\n",
    "    examples.append((item['query'], item['rel'], item['irrel'][np.random.randint(len(item['irrel']))]))"
   ]
  },
  {
   "cell_type": "code",
   "execution_count": 9,
   "metadata": {
    "collapsed": false
   },
   "outputs": [
    {
     "name": "stdout",
     "output_type": "stream",
     "text": [
      "8647\n"
     ]
    }
   ],
   "source": [
    "from gensim import corpora\n",
    "from gensim import matutils\n",
    "\n",
    "# dictionary = corpora.Dictionary(list(bugs_train['text']))\n",
    "# dictionary.filter_extremes(no_below = 10, no_above = 0.9, keep_n = 100000)\n",
    "dictionary = corpora.Dictionary.load_from_text('dictionary.txt')\n",
    "num_terms = len(dictionary)\n",
    "print num_terms\n",
    "\n",
    "bugs['text'] = (bugs['short_desc'] +' '+ bugs['long_desc']).map(lambda x: dictionary.doc2bow(x.split()))\n",
    "bugs.loc[:,'short_desc'] = bugs['short_desc'].map(lambda x: matutils.corpus2dense([dictionary.doc2bow(x.split())], num_terms, 1)[:,0])\n",
    "bugs.loc[:,'long_desc'] = bugs['long_desc'].map(lambda x: matutils.corpus2dense([dictionary.doc2bow(x.split())], num_terms, 1)[:,0])"
   ]
  },
  {
   "cell_type": "code",
   "execution_count": 10,
   "metadata": {
    "collapsed": true
   },
   "outputs": [],
   "source": [
    "appearance = np.array(list(bugs['text'].map(lambda x: matutils.corpus2dense([x], num_terms, 1)[:,0]>0)))\n",
    "df = appearance.sum(0)\n",
    "idf = np.log(bugs.shape[0]/df)\n",
    "avgfl = np.array([np.array(list(bugs['short_desc'])).sum(1).mean(), np.array(list(bugs['long_desc'])).sum(1).mean()])\n",
    "\n",
    "bugs = bugs.set_index(['bug_id'])"
   ]
  },
  {
   "cell_type": "code",
   "execution_count": null,
   "metadata": {
    "collapsed": false
   },
   "outputs": [],
   "source": [
    "params = np.concatenate((np.random.rand(20,10),np.random.rand(30,10)*5,np.random.rand(50,10)*10), axis = 0)\n",
    "\n",
    "for item in examples:\n",
    "    for row in params:\n",
    "        bm = bm25fe.bm25fe(K1=row[0], d_B=(row[1], row[2]), d_W = (row[3], row[4]), K3=row[5], q_B=(row[6], row[7]), q_W=(row[8], row[9]))\n",
    "        differ = (bm.score(idf, avgfl, [bugs.loc[item[2],'short_desc'], bugs.loc[item[2],'long_desc']], [bugs.loc[item[0],'short_desc'], bugs.loc[item[0],'long_desc']])-\n",
    "                  bm.score(idf, avgfl, [bugs.loc[item[1],'short_desc'], bugs.loc[item[1],'long_desc']], [bugs.loc[item[0],'short_desc'], bugs.loc[item[0],'long_desc']]))\n",
    "        der = np.exp(differ)/(1+np.exp(differ))*(bm.derivative(idf, avgfl, [bugs.loc[item[2],'short_desc'], bugs.loc[item[2],'long_desc']],[bugs.loc[item[0],'short_desc'], bugs.loc[item[0],'long_desc']])-\n",
    "                                                  bm.derivative(idf, avgfl, [bugs.loc[item[1],'short_desc'], bugs.loc[item[1],'long_desc']],[bugs.loc[item[0],'short_desc'], bugs.loc[item[0],'long_desc']]))\n",
    "        cost = np.log(1+np.exp(differ))\n",
    "        \n",
    "        shift = np.ones(10)*1e-6\n",
    "        row_shift = row+shift\n",
    "        bm_shift = bm25fe.bm25fe(K1=row_shift[0], d_B=(row_shift[1], row_shift[2]), d_W = (row_shift[3], row_shift[4]), K3=row_shift[5], q_B=(row_shift[6], row_shift[7]), q_W=(row_shift[8], row_shift[9]))\n",
    "        differ_shift = (bm_shift.score(idf, avgfl, [bugs.loc[item[2],'short_desc'], bugs.loc[item[2],'long_desc']], [bugs.loc[item[0],'short_desc'], bugs.loc[item[0],'long_desc']])-\n",
    "                        bm_shift.score(idf, avgfl, [bugs.loc[item[1],'short_desc'], bugs.loc[item[1],'long_desc']], [bugs.loc[item[0],'short_desc'], bugs.loc[item[0],'long_desc']]))\n",
    "        cost_shift = np.log(1+np.exp(differ_shift))\n",
    "        \n",
    "        error = cost+np.dot(der, shift)-cost_shift\n",
    "        if abs(error) > 1e-3:\n",
    "            print item, row, der, error\n"
   ]
  },
  {
   "cell_type": "code",
   "execution_count": 2,
   "metadata": {
    "collapsed": false
   },
   "outputs": [
    {
     "name": "stdout",
     "output_type": "stream",
     "text": [
      "2\n"
     ]
    }
   ],
   "source": [
    "print abs(-2)"
   ]
  },
  {
   "cell_type": "code",
   "execution_count": 116,
   "metadata": {
    "collapsed": false
   },
   "outputs": [],
   "source": [
    "# print n\n",
    "# print len(texts)\n",
    "# print len(bugset)\n",
    "# print train\n",
    "# print bugs_filtered.shape\n",
    "# print criterion\n",
    "# print bugset\n",
    "# print bugs.shape\n",
    "# print type(criterion1)"
   ]
  },
  {
   "cell_type": "code",
   "execution_count": 118,
   "metadata": {
    "collapsed": false
   },
   "outputs": [],
   "source": [
    "# print type(vectors[:n])\n",
    "# print vectors[0]\n",
    "# print len(vectorizer.vocabulary_)\n",
    "# print bug_feature.iloc[0,1]\n",
    "# print list(vectors_sd)[0]\n",
    "# print vectors_sd.sum(1).mean()"
   ]
  },
  {
   "cell_type": "code",
   "execution_count": 121,
   "metadata": {
    "collapsed": false
   },
   "outputs": [],
   "source": [
    "# bm25fe = reload(bm25fe)"
   ]
  },
  {
   "cell_type": "code",
   "execution_count": null,
   "metadata": {
    "collapsed": true
   },
   "outputs": [],
   "source": []
  }
 ],
 "metadata": {
  "kernelspec": {
   "display_name": "Python 2",
   "language": "python",
   "name": "python2"
  },
  "language_info": {
   "codemirror_mode": {
    "name": "ipython",
    "version": 2
   },
   "file_extension": ".py",
   "mimetype": "text/x-python",
   "name": "python",
   "nbconvert_exporter": "python",
   "pygments_lexer": "ipython2",
   "version": "2.7.8"
  }
 },
 "nbformat": 4,
 "nbformat_minor": 0
}
