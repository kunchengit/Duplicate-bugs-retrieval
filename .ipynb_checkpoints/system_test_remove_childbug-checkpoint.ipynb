{
 "cells": [
  {
   "cell_type": "code",
   "execution_count": 1,
   "metadata": {
    "collapsed": false
   },
   "outputs": [],
   "source": [
    "# test the performance of the system (which is measured by the recall-rate)  The difference with 'system_test.ipynb' is that when generate \n",
    "# similar-bug-list, it removes the child bugs in the list.\n",
    "\n",
    "import MySQLdb\n",
    "import pandas\n",
    "import itertools\n",
    "import numpy as np\n",
    "import bm25fe\n",
    "import pickle\n",
    "import subprocess\n",
    "import jsd"
   ]
  },
  {
   "cell_type": "code",
   "execution_count": 2,
   "metadata": {
    "collapsed": false
   },
   "outputs": [],
   "source": [
    "conn = MySQLdb.connect(host='10.117.8.41', port=3306, user='root', passwd='vmware', db='bugfeature')\n",
    "cur = conn.cursor()\n",
    "\n",
    "sql = '''SELECT *\n",
    "FROM bugs_cpdplatform_ff'''\n",
    "\n",
    "# bugs = pandas.io.sql.read_sql(sql, conn).set_index(['bug_id'])\n",
    "bugs = pandas.io.sql.read_sql(sql, conn)"
   ]
  },
  {
   "cell_type": "code",
   "execution_count": 3,
   "metadata": {
    "collapsed": false
   },
   "outputs": [
    {
     "name": "stdout",
     "output_type": "stream",
     "text": [
      "8648\n"
     ]
    }
   ],
   "source": [
    "from gensim import corpora\n",
    "from gensim import matutils\n",
    "\n",
    "# dictionary = corpora.Dictionary(list(bugs_train['text']))\n",
    "# dictionary.filter_extremes(no_below = 10, no_above = 0.9, keep_n = 100000)\n",
    "dictionary = corpora.Dictionary.load_from_text('dictionary_ff.txt')\n",
    "num_terms = len(dictionary)\n",
    "print num_terms\n",
    "\n",
    "# bugs['summary'] = bugs['short_desc']\n",
    "bugs['text'] = (bugs['short_desc'] +' '+ bugs['long_desc']).map(lambda x: dictionary.doc2bow(x.split()))\n",
    "bugs.loc[:,'short_desc'] = bugs['short_desc'].map(lambda x: matutils.corpus2dense([dictionary.doc2bow(x.split())], num_terms, 1)[:,0])\n",
    "bugs.loc[:,'long_desc'] = bugs['long_desc'].map(lambda x: matutils.corpus2dense([dictionary.doc2bow(x.split())], num_terms, 1)[:,0])"
   ]
  },
  {
   "cell_type": "code",
   "execution_count": 4,
   "metadata": {
    "collapsed": false
   },
   "outputs": [],
   "source": [
    "# print bugs_train['short_desc'][0].sum()\n",
    "# print bugs_train['short_desc'].as_matrix()[4].sum()\n",
    "# print bugs_train['short_desc'].as_matrix().shape"
   ]
  },
  {
   "cell_type": "code",
   "execution_count": 5,
   "metadata": {
    "collapsed": false
   },
   "outputs": [],
   "source": [
    "appearance = np.array(list(bugs['text'].map(lambda x: matutils.corpus2dense([x], num_terms, 1)[:,0]>0)))\n",
    "df = appearance.sum(0)\n",
    "idf = np.log(bugs.shape[0]/df)\n",
    "avgfl = np.array([np.array(list(bugs['short_desc'])).sum(1).mean(), np.array(list(bugs['long_desc'])).sum(1).mean()])\n",
    "\n",
    "bugs = bugs.set_index(['bug_id'])"
   ]
  },
  {
   "cell_type": "code",
   "execution_count": 6,
   "metadata": {
    "collapsed": false
   },
   "outputs": [],
   "source": [
    "# print appearance[1].sum()\n",
    "# bugs.columns\n",
    "# print bugs.index[0]"
   ]
  },
  {
   "cell_type": "code",
   "execution_count": 28,
   "metadata": {
    "collapsed": false
   },
   "outputs": [
    {
     "name": "stdout",
     "output_type": "stream",
     "text": [
      "0.571428571429\n"
     ]
    }
   ],
   "source": [
    "# from gensim.models import hdpmodel\n",
    "# topicmodel = hdpmodel.HdpModel.load('hdpmodel.txt')\n",
    "from gensim.models import ldamulticore\n",
    "topicmodel = ldamulticore.LdaMulticore.load('ldamodel_ff.txt')\n",
    "\n",
    "# with open('params.txt', 'rb') as f:\n",
    "#     params = pickle.load(f)\n",
    "# bm = bm25fe.bm25fe(K1=params[0], d_B=(params[1], params[2]), d_W = (params[3], params[4]), K3=params[5], q_B=(params[6], params[7]), q_W=(params[8], params[9]))\n",
    "bm = bm25fe.bm25fe(K1=1.2, d_B=(0.75, 0.75), d_W = (2, 1), K3=1.2, q_B=(0.75, 0.75), q_W=(2, 1))\n",
    "\n",
    "with open('test.txt', 'rb') as f:\n",
    "    test = pickle.load(f)\n",
    "\n",
    "num_query = len(test)\n",
    "num_hit = 0\n",
    "\n",
    "results = []\n",
    "for item in test:\n",
    "    bugs['score'] = bugs.apply(lambda x: bm.score(idf, avgfl, [x[13], x[14]],[bugs.loc[item['query'],'short_desc'], bugs.loc[item['query'],'long_desc']]), axis = 1)\n",
    "    bugs_sorted = bugs.sort(['score'], ascending = False).iloc[:100]\n",
    "    idx = 0\n",
    "    lines = []\n",
    "    \n",
    "    for idx in xrange(100):\n",
    "        sim_title = bugs_sorted.iloc[idx]['short_desc'][bugs.loc[item['query'],'short_desc']>0].sum()/max(bugs_sorted.iloc[idx]['short_desc'].sum(), 1)\n",
    "        score = bugs_sorted.iloc[idx]['score']\n",
    "        # cluster = topicmodel.inference([bugs_sorted.iloc[idx]['text'], bugs.loc[item['query'],'text']])\n",
    "        cluster = topicmodel.inference([bugs_sorted.iloc[idx]['text'], bugs.loc[item['query'],'text']])[0]\n",
    "        dis_topic = jsd.JSD(cluster[0], cluster[1])\n",
    "        sim_hos = False\n",
    "        if (bugs_sorted.iloc[idx]['host_op_sys'] == bugs.loc[item['query'],'host_op_sys']) and (bugs_sorted.iloc[idx]['host_op_sys'] != 'Unknown'):\n",
    "            sim_hos = True\n",
    "        sim_gos = False\n",
    "        if (bugs_sorted.iloc[idx]['guest_op_sys'] == bugs.loc[item['query'],'guest_op_sys']) and (bugs_sorted.iloc[idx]['guest_op_sys'] != 'Unknown'):\n",
    "            sim_gos = True\n",
    "        sim_pd = False\n",
    "        if (bugs_sorted.iloc[idx]['product_id'] == bugs.loc[item['query'],'product_id']):\n",
    "            sim_pd = True\n",
    "        sim_cg = False\n",
    "        if (bugs_sorted.iloc[idx]['category_id'] == bugs.loc[item['query'],'category_id']):\n",
    "            sim_cg = True\n",
    "        sim_cp = False\n",
    "        if (bugs_sorted.iloc[idx]['component_id'] == bugs.loc[item['query'],'component_id']):\n",
    "            sim_cp = True\n",
    "        lines.append(str(0)+' qid:'+str(item['query'])+' 1:'+str(sim_title)+' 2:'+str(score)+' 3:'+str(dis_topic)+' 4:'+str(int(sim_hos))+' 5:'+str(int(sim_gos))+' 6:'+str(int(sim_pd))+' 7:'+str(int(sim_cg))+' 8:'+str(int(sim_cp))+' # '+str(bugs.index[idx])+'\\n')\n",
    "\n",
    "    f = open('query.txt', 'wb')\n",
    "    f.writelines(lines)\n",
    "    f.close()\n",
    "            \n",
    "    subprocess.call(('java', '-jar', 'RankLib-2.1-patched.jar', '-load', 'LambdaMART.txt', '-rank', 'query.txt', '-score', 'score.txt'))\n",
    "    # subprocess.call(('java', '-jar', 'RankLib-2.1-patched.jar', '-load', 'AdaRank.txt', '-rank', 'query.txt', '-score', 'score.txt'))\n",
    "    # subprocess.call(('java', '-jar', 'RankLib-2.1-patched.jar', '-load', 'RankNet.txt', '-rank', 'query.txt', '-score', 'score.txt'))\n",
    "    \n",
    "    score_rank = []\n",
    "    f = open('score.txt', 'rb')\n",
    "    for line in f:\n",
    "        score_rank.append(float(line.split()[2]))\n",
    "    f.close()\n",
    "    \n",
    "    bugs_sorted['score_rank'] = score_rank\n",
    "    bugs_ranked = bugs_sorted.sort(['score_rank'], ascending = False)\n",
    "    \n",
    "    ranklist = []\n",
    "    i = 0\n",
    "    # while len(ranklist) < 5:\n",
    "    #     if bugs_ranked.index[i] == item['query']:\n",
    "    #         i += 1\n",
    "    #     else:\n",
    "    #         ranklist.append(bugs_ranked.index[i])\n",
    "    #         i += 1\n",
    "    while len(ranklist) < 5:\n",
    "        if bugs_ranked.index[i] != item['query']:\n",
    "            child = False\n",
    "            for j in xrange(len(ranklist)):\n",
    "                if bugs_ranked.iloc[i]['summary'] == bugs_ranked.loc[ranklist[j],'summary']:\n",
    "                    if len(set([bugs_ranked.index[i]]) & set(item['rel'])) > 0:\n",
    "                        ranklist[j] = bugs_ranked.index[i]\n",
    "                    child = True\n",
    "                    break\n",
    "            if not child:\n",
    "                ranklist.append(bugs_ranked.index[i])\n",
    "            # ranklist.append(bugs_ranked.index[i])\n",
    "        i += 1\n",
    "    if len(set(ranklist) & set(item['rel'])) > 0:\n",
    "        num_hit +=1\n",
    "    \n",
    "    # print bugs_ranked[0:10]\n",
    "    \n",
    "    results.append('query:'+str(item['query'])+'    '+'dups:'+','.join([str(bug) for bug in item['rel']])+'    '+'ranklist:'+','.join([str(bug) for bug in ranklist])+'\\n')\n",
    "    \n",
    "print float(num_hit)/num_query\n",
    "f = open('results2.txt', 'wb')\n",
    "f.writelines(results)\n",
    "f.close()\n",
    "        "
   ]
  },
  {
   "cell_type": "code",
   "execution_count": 22,
   "metadata": {
    "collapsed": false
   },
   "outputs": [
    {
     "name": "stdout",
     "output_type": "stream",
     "text": [
      "         assigned_to                                            summary  \\\n",
      "bug_id                                                                    \n",
      "1214704        22512  [Base Bug] Write Information to /tmp as a non ...   \n",
      "1149324        22512       Write Information to /tmp as a non root user   \n",
      "1149326        22512       Write Information to /tmp as a non root user   \n",
      "1149328        22512       Write Information to /tmp as a non root user   \n",
      "1149327        22512       Write Information to /tmp as a non root user   \n",
      "1228323        22512       Write Information to /tmp as a non root user   \n",
      "1142939        22512       Write Information to /tmp as a non root user   \n",
      "1149325        22512       Write Information to /tmp as a non root user   \n",
      "1225701        22512       Write Information to /tmp as a non root user   \n",
      "1142941        22512       Write Information to /tmp as a non root user   \n",
      "1382894        25524  UI shouldn't allow users to create Windows 8 a...   \n",
      "1212691        20923  SVGA device multiple unsigned to signed conver...   \n",
      "400838          2024  ASSERT bora/devices/svga/svgaGMR.c:569 resumin...   \n",
      "373670          3963  Please remove vmdesched from the Windows insta...   \n",
      "370152          3963  Please remove vmdesched from the Windows insta...   \n",
      "1211453        20923  [Launchpad Bug 1293384] compiz high cpu-usage ...   \n",
      "584650          2024     Cannot mount newly created VM with VMDKMounter   \n",
      "544604          2024     Moderate: openldap security and bug fix update   \n",
      "1412400        22512  Create OSP Format tools for SLES 11 SP4 [Beta2...   \n",
      "1412394        22512  Create OSP Format tools for SLES 11 SP4 [Beta3...   \n",
      "\n",
      "            host_op_sys                           guest_op_sys priority  \\\n",
      "bug_id                                                                    \n",
      "1214704                                                              P1   \n",
      "1149324                                                              P1   \n",
      "1149326                                                              P1   \n",
      "1149328                                                              P1   \n",
      "1149327                                                              P1   \n",
      "1228323                                          linux, macosx       P1   \n",
      "1142939                                                              P1   \n",
      "1149325                                                              P1   \n",
      "1225701                                                              P1   \n",
      "1142941                                                  linux       P1   \n",
      "1382894    ubuntu-14.04  windows-2012-r2-update-1, windows-8.1       P2   \n",
      "1212691                                                              P1   \n",
      "400838   windows-xp-sp2                                    All       P1   \n",
      "373670          Unknown                                windows       P1   \n",
      "370152          Unknown                                  linux       P1   \n",
      "1211453                                           ubuntu-14.04       P1   \n",
      "584650    macosx-10.6.3                                    All      ---   \n",
      "544604          Unknown                                Unknown       P1   \n",
      "1412400                                             sle-11-sp4       P1   \n",
      "1412394                                             sle-11-sp4       P1   \n",
      "\n",
      "         product_id  category_id  component_id  found_in_product_id  \\\n",
      "bug_id                                                                \n",
      "1214704           7         1929         17306                    7   \n",
      "1149324           3          786         10030                    7   \n",
      "1149326           3          784          9996                    7   \n",
      "1149328           3          784          9996                    7   \n",
      "1149327           3          784          9996                    7   \n",
      "1228323          16          940         14053                    7   \n",
      "1142939           1          306          4793                    7   \n",
      "1149325           3          784          9996                    3   \n",
      "1225701          16          942         12345                   16   \n",
      "1142941          16          940         12311                    7   \n",
      "1382894           1          309          4895                    1   \n",
      "1212691           3         2342         19032                  157   \n",
      "400838           12            9           147                    0   \n",
      "373670           12           32           663                    0   \n",
      "370152           12           32           663                    0   \n",
      "1211453         115         1394         22106                  157   \n",
      "584650           16          969         12826                   16   \n",
      "544604           34           92          1464                    3   \n",
      "1412400         306         3492         24383                  157   \n",
      "1412394         306         3492         24383                  157   \n",
      "\n",
      "         found_in_version_id  found_in_phase_id  cf_security needinfo  \\\n",
      "bug_id                                                                  \n",
      "1214704                    0                  0            1            \n",
      "1149324                    0                  0            1    22512   \n",
      "1149326                    0                  0            1            \n",
      "1149328                    0                  0            1    22512   \n",
      "1149327                    0                  0            1            \n",
      "1228323                    0                  0            1            \n",
      "1142939                    0                  0            1            \n",
      "1149325                  277                  0            1            \n",
      "1225701                 2261              24579            1            \n",
      "1142941                    0                  0            1            \n",
      "1382894                 1996              24613            0            \n",
      "1212691                 1672              21543            1            \n",
      "400838                     0                  0            0            \n",
      "373670                     0                  0            0            \n",
      "370152                     0                  0            0            \n",
      "1211453                 1672              21543            0            \n",
      "584650                   548                  0            0            \n",
      "544604                     8                  0            1            \n",
      "1412400                 1672                  0            0            \n",
      "1412394                 1672                  0            0            \n",
      "\n",
      "                                                short_desc  \\\n",
      "bug_id                                                       \n",
      "1214704  [0.0, 0.0, 0.0, 0.0, 0.0, 0.0, 0.0, 0.0, 0.0, ...   \n",
      "1149324  [0.0, 0.0, 0.0, 0.0, 0.0, 0.0, 0.0, 0.0, 0.0, ...   \n",
      "1149326  [0.0, 0.0, 0.0, 0.0, 0.0, 0.0, 0.0, 0.0, 0.0, ...   \n",
      "1149328  [0.0, 0.0, 0.0, 0.0, 0.0, 0.0, 0.0, 0.0, 0.0, ...   \n",
      "1149327  [0.0, 0.0, 0.0, 0.0, 0.0, 0.0, 0.0, 0.0, 0.0, ...   \n",
      "1228323  [0.0, 0.0, 0.0, 0.0, 0.0, 0.0, 0.0, 0.0, 0.0, ...   \n",
      "1142939  [0.0, 0.0, 0.0, 0.0, 0.0, 0.0, 0.0, 0.0, 0.0, ...   \n",
      "1149325  [0.0, 0.0, 0.0, 0.0, 0.0, 0.0, 0.0, 0.0, 0.0, ...   \n",
      "1225701  [0.0, 0.0, 0.0, 0.0, 0.0, 0.0, 0.0, 0.0, 0.0, ...   \n",
      "1142941  [0.0, 0.0, 0.0, 0.0, 0.0, 0.0, 0.0, 0.0, 0.0, ...   \n",
      "1382894  [0.0, 0.0, 0.0, 0.0, 0.0, 0.0, 0.0, 0.0, 0.0, ...   \n",
      "1212691  [0.0, 0.0, 0.0, 0.0, 0.0, 0.0, 0.0, 0.0, 0.0, ...   \n",
      "400838   [0.0, 0.0, 0.0, 0.0, 0.0, 0.0, 0.0, 0.0, 0.0, ...   \n",
      "373670   [1.0, 0.0, 0.0, 0.0, 0.0, 0.0, 0.0, 0.0, 0.0, ...   \n",
      "370152   [1.0, 0.0, 0.0, 0.0, 0.0, 0.0, 0.0, 0.0, 0.0, ...   \n",
      "1211453  [0.0, 0.0, 0.0, 0.0, 0.0, 0.0, 0.0, 0.0, 0.0, ...   \n",
      "584650   [0.0, 0.0, 0.0, 0.0, 0.0, 0.0, 0.0, 0.0, 0.0, ...   \n",
      "544604   [0.0, 0.0, 0.0, 0.0, 0.0, 0.0, 0.0, 0.0, 0.0, ...   \n",
      "1412400  [0.0, 0.0, 0.0, 0.0, 0.0, 0.0, 0.0, 0.0, 0.0, ...   \n",
      "1412394  [0.0, 0.0, 0.0, 0.0, 0.0, 0.0, 0.0, 0.0, 0.0, ...   \n",
      "\n",
      "                                                 long_desc  \\\n",
      "bug_id                                                       \n",
      "1214704  [0.0, 0.0, 0.0, 0.0, 0.0, 0.0, 0.0, 0.0, 0.0, ...   \n",
      "1149324  [0.0, 0.0, 0.0, 0.0, 0.0, 0.0, 0.0, 0.0, 0.0, ...   \n",
      "1149326  [0.0, 0.0, 0.0, 0.0, 0.0, 0.0, 0.0, 0.0, 0.0, ...   \n",
      "1149328  [0.0, 0.0, 0.0, 0.0, 0.0, 0.0, 0.0, 0.0, 0.0, ...   \n",
      "1149327  [0.0, 0.0, 0.0, 0.0, 0.0, 0.0, 0.0, 0.0, 0.0, ...   \n",
      "1228323  [0.0, 0.0, 0.0, 0.0, 0.0, 0.0, 0.0, 0.0, 0.0, ...   \n",
      "1142939  [0.0, 0.0, 0.0, 0.0, 0.0, 0.0, 0.0, 0.0, 0.0, ...   \n",
      "1149325  [0.0, 0.0, 0.0, 0.0, 0.0, 0.0, 0.0, 0.0, 0.0, ...   \n",
      "1225701  [0.0, 0.0, 0.0, 0.0, 0.0, 0.0, 0.0, 0.0, 0.0, ...   \n",
      "1142941  [0.0, 0.0, 0.0, 0.0, 0.0, 0.0, 0.0, 0.0, 0.0, ...   \n",
      "1382894  [0.0, 0.0, 0.0, 0.0, 0.0, 0.0, 0.0, 0.0, 0.0, ...   \n",
      "1212691  [0.0, 0.0, 0.0, 0.0, 0.0, 0.0, 0.0, 0.0, 0.0, ...   \n",
      "400838   [0.0, 0.0, 0.0, 0.0, 0.0, 0.0, 0.0, 0.0, 0.0, ...   \n",
      "373670   [0.0, 0.0, 0.0, 0.0, 0.0, 0.0, 0.0, 0.0, 0.0, ...   \n",
      "370152   [0.0, 0.0, 0.0, 0.0, 0.0, 0.0, 0.0, 0.0, 0.0, ...   \n",
      "1211453  [0.0, 0.0, 0.0, 0.0, 0.0, 0.0, 0.0, 0.0, 0.0, ...   \n",
      "584650   [0.0, 0.0, 0.0, 0.0, 0.0, 0.0, 3.0, 0.0, 0.0, ...   \n",
      "544604   [0.0, 0.0, 0.0, 0.0, 0.0, 0.0, 0.0, 0.0, 0.0, ...   \n",
      "1412400  [0.0, 0.0, 0.0, 0.0, 0.0, 0.0, 0.0, 0.0, 0.0, ...   \n",
      "1412394  [0.0, 0.0, 0.0, 0.0, 0.0, 0.0, 0.0, 0.0, 0.0, ...   \n",
      "\n",
      "                                                      text      score  \\\n",
      "bug_id                                                                  \n",
      "1214704  [(313, 1), (1502, 1), (2422, 1), (2455, 1), (2...  56.428272   \n",
      "1149324  [(36, 1), (57, 2), (107, 2), (116, 5), (122, 1...  32.518689   \n",
      "1149326  [(57, 2), (64, 2), (79, 1), (116, 7), (122, 11...  33.161022   \n",
      "1149328  [(36, 4), (57, 4), (64, 5), (77, 4), (79, 1), ...  33.442165   \n",
      "1149327  [(57, 4), (64, 12), (79, 2), (88, 2), (92, 4),...  36.168950   \n",
      "1228323  [(36, 2), (64, 5), (77, 2), (92, 3), (107, 4),...  31.464681   \n",
      "1142939  [(64, 2), (107, 1), (116, 2), (122, 2), (382, ...  26.425733   \n",
      "1149325  [(57, 2), (72, 2), (98, 2), (107, 3), (116, 4)...  26.027082   \n",
      "1225701  [(116, 4), (131, 2), (152, 3), (406, 3), (426,...  26.352664   \n",
      "1142941  [(36, 2), (64, 4), (77, 2), (107, 1), (116, 4)...  26.352683   \n",
      "1382894  [(313, 1), (1374, 1), (1502, 1), (1534, 1), (1...  34.940635   \n",
      "1212691  [(57, 2), (92, 1), (116, 8), (122, 15), (139, ...  27.622729   \n",
      "400838   [(139, 1), (313, 1), (1237, 1), (1502, 1), (22...  32.851784   \n",
      "373670   [(0, 1), (313, 1), (515, 1), (1502, 1), (2454,...  32.756548   \n",
      "370152   [(0, 1), (313, 1), (515, 1), (1502, 1), (2454,...  32.756548   \n",
      "1211453  [(313, 1), (915, 1), (1471, 1), (1502, 1), (15...  32.732950   \n",
      "584650   [(6, 3), (32, 1), (64, 3), (116, 2), (122, 1),...  32.002735   \n",
      "544604   [(122, 3), (174, 1), (255, 1), (313, 1), (439,...  32.018244   \n",
      "1412400  [(255, 1), (313, 1), (328, 1), (454, 1), (981,...  32.631093   \n",
      "1412394  [(107, 1), (122, 2), (255, 2), (313, 1), (328,...  31.648067   \n",
      "\n",
      "         score_rank  \n",
      "bug_id               \n",
      "1214704   19.319283  \n",
      "1149324   13.764430  \n",
      "1149326    9.362872  \n",
      "1149328    8.601357  \n",
      "1149327    7.830733  \n",
      "1228323    7.610446  \n",
      "1142939    7.163296  \n",
      "1149325    6.663389  \n",
      "1225701    6.663389  \n",
      "1142941    6.428827  \n",
      "1382894   -4.821401  \n",
      "1212691   -7.499036  \n",
      "400838    -8.798559  \n",
      "373670    -8.798759  \n",
      "370152    -8.848639  \n",
      "1211453   -8.945724  \n",
      "584650    -9.220256  \n",
      "544604   -10.124207  \n",
      "1412400  -11.514856  \n",
      "1412394  -12.183101  \n"
     ]
    }
   ],
   "source": [
    "# print item\n",
    "# print test\n",
    "# print i\n",
    "# print bugs_ranked\n",
    "# print bugs['score']\n",
    "# print bugs.iloc[0,13]\n",
    "# print item['query']\n",
    "# print bugs.loc[item['query']]\n",
    "# print bm.score(idf, avgfl, [bugs.iloc[0,13], bugs.iloc[0,14]], [bugs.loc[item['query'],'short_desc'], bugs.loc[item['query'],'long_desc']])\n",
    "# print bugs.iloc[0,13].sum()\n",
    "# print bugs.iloc[0,14].sum()\n",
    "# for item in idf:\n",
    "#     print item\n",
    "# print idf, avgfl\n",
    "# print bm.fields\n",
    "# print bm.K1, bm.d_B, bm.d_W, bm.K3, bm.q_B, bm.q_W\n",
    "# print ranklist\n",
    "print bugs_ranked[0:20]"
   ]
  },
  {
   "cell_type": "code",
   "execution_count": 21,
   "metadata": {
    "collapsed": false
   },
   "outputs": [
    {
     "name": "stdout",
     "output_type": "stream",
     "text": [
      "0 42\n"
     ]
    }
   ],
   "source": [
    "print num_hit,num_query\n",
    "# ranklist = []\n",
    "# print len(ranklist)\n",
    "# print bugs_sorted['score']\n",
    "# print bugs_ranked['score_rank']"
   ]
  },
  {
   "cell_type": "code",
   "execution_count": 13,
   "metadata": {
    "collapsed": false
   },
   "outputs": [
    {
     "name": "stdout",
     "output_type": "stream",
     "text": [
      "0.595238095238\n",
      "0.690476190476\n"
     ]
    }
   ],
   "source": [
    "# with open('params.txt', 'rb') as f:\n",
    "#     params = pickle.load(f)\n",
    "# bm = bm25fe.bm25fe(K1=params[0], d_B=(params[1], params[2]), d_W = (params[3], params[4]), K3=params[5], q_B=(params[6], params[7]), q_W=(params[8], params[9]))\n",
    "bm = bm25fe.bm25fe(K1=1.2, d_B=(0.75, 0.75), d_W = (2, 1), K3=1.2, q_B=(0.75, 0.75), q_W=(2, 1))\n",
    "hit5 = 0\n",
    "hit10 = 0\n",
    "for item in test:\n",
    "    bugs['score'] = bugs.apply(lambda x: bm.score(idf, avgfl, [x[1], x[7]],[bugs.loc[item['query'],'short_desc'], bugs.loc[item['query'],'long_desc']]), axis = 1)\n",
    "    bugs_sorted = bugs.sort(['score'], ascending = False).iloc[:100]\n",
    "    lst5 = []\n",
    "    i = 0\n",
    "    while len(lst5) < 5:\n",
    "        if bugs_sorted.index[i] == item['query']:\n",
    "            i += 1\n",
    "        else:\n",
    "            lst5.append(bugs_sorted.index[i])\n",
    "            i += 1\n",
    "    if len(set(lst5) & set(item['rel'])) > 0:\n",
    "        hit5 +=1\n",
    "    lst10 = []\n",
    "    i = 0\n",
    "    while len(lst10) < 10:\n",
    "        if bugs_sorted.index[i] == item['query']:\n",
    "            i += 1\n",
    "        else:\n",
    "            lst10.append(bugs_sorted.index[i])\n",
    "            i += 1\n",
    "    if len(set(lst10) & set(item['rel'])) > 0:\n",
    "        hit10 +=1\n",
    "\n",
    "print float(hit5)/num_query\n",
    "print float(hit10)/num_query"
   ]
  },
  {
   "cell_type": "code",
   "execution_count": 43,
   "metadata": {
    "collapsed": false
   },
   "outputs": [
    {
     "name": "stdout",
     "output_type": "stream",
     "text": [
      "[1149327]\n"
     ]
    }
   ],
   "source": [
    "# print bugs_sorted.iloc[0]\n",
    "\n",
    "print test[0]['rel']"
   ]
  },
  {
   "cell_type": "code",
   "execution_count": 73,
   "metadata": {
    "collapsed": false
   },
   "outputs": [],
   "source": [
    "# bugs_train"
   ]
  },
  {
   "cell_type": "code",
   "execution_count": 74,
   "metadata": {
    "collapsed": false
   },
   "outputs": [],
   "source": [
    "# print bugs_train['guest_op_sys']"
   ]
  },
  {
   "cell_type": "code",
   "execution_count": 100,
   "metadata": {
    "collapsed": false
   },
   "outputs": [
    {
     "name": "stdout",
     "output_type": "stream",
     "text": [
      "10100\n",
      "0 qid:1224296 1:0.142857 2:77.9385298109 3:0.0788403087743 4:1 5:0 6:1 7:0 8:0 # 1425012\n",
      "\n"
     ]
    }
   ],
   "source": [
    "print len(lines)\n",
    "print lines[10053]\n"
   ]
  },
  {
   "cell_type": "code",
   "execution_count": 87,
   "metadata": {
    "collapsed": false
   },
   "outputs": [
    {
     "name": "stdout",
     "output_type": "stream",
     "text": [
      "0.0\n"
     ]
    }
   ],
   "source": [
    "print bugs_train.loc[485186,'short_desc'].sum()"
   ]
  },
  {
   "cell_type": "code",
   "execution_count": null,
   "metadata": {
    "collapsed": true
   },
   "outputs": [],
   "source": []
  }
 ],
 "metadata": {
  "kernelspec": {
   "display_name": "Python 2",
   "language": "python",
   "name": "python2"
  },
  "language_info": {
   "codemirror_mode": {
    "name": "ipython",
    "version": 2
   },
   "file_extension": ".py",
   "mimetype": "text/x-python",
   "name": "python",
   "nbconvert_exporter": "python",
   "pygments_lexer": "ipython2",
   "version": "2.7.8"
  }
 },
 "nbformat": 4,
 "nbformat_minor": 0
}
