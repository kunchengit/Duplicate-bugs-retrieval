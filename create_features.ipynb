{
 "cells": [
  {
   "cell_type": "code",
   "execution_count": 1,
   "metadata": {
    "collapsed": false
   },
   "outputs": [
    {
     "name": "stdout",
     "output_type": "stream",
     "text": [
      "comment_id                  int64\n",
      "bug_id                      int64\n",
      "who                         int64\n",
      "bug_when           datetime64[ns]\n",
      "work_time                 float64\n",
      "thetext                    object\n",
      "isprivate                   int64\n",
      "already_wrapped             int64\n",
      "type                        int64\n",
      "extra_data                 object\n",
      "dtype: object\n"
     ]
    }
   ],
   "source": [
    "import MySQLdb\n",
    "import pandas\n",
    "from nltk.corpus import stopwords\n",
    "from bs4 import BeautifulSoup\n",
    "#LCAL_DATABASE_HOST = \"10.117.8.41\"\n",
    "#LOCAL_DATABASE_PORT = 3306\n",
    "#LOCAL_DATABASE_USER = \"root\"\n",
    "#LOCAL_DATABASE_PW = \"vmware\"\n",
    "#LOCAL_DATABASE_DATABASE = \"bugdata\"\n",
    "conn = MySQLdb.connect(host='10.117.8.41', port=3306, user='root', passwd='vmware', db='bugdata')\n",
    "cur =conn.cursor()\n",
    "sql = '''select * from longdescs where bug_id=7'''\n",
    "df = pandas.io.sql.read_sql(sql, conn)\n",
    "print df.dtypes"
   ]
  },
  {
   "cell_type": "code",
   "execution_count": 2,
   "metadata": {
    "collapsed": false
   },
   "outputs": [
    {
     "name": "stdout",
     "output_type": "stream",
     "text": [
      "0    A panic at user-level causes non-obvious failu...\n",
      "1         bug fixed. does not seem to happen anymore\\n\n",
      "2                                          linux-hos\\n\n",
      "3    Gnats-Environment-Fields:\\nHost OS: \\nGuest OS...\n",
      "4    Gnats-Environment-Fields:\\nHost OS: \\nGuest OS...\n",
      "5    Due to the import of Siebel tickets into Sales...\n",
      "6    Server: perforce-releng.eng.vmware.com:1850\\n\\...\n",
      "Name: thetext, dtype: object\n"
     ]
    }
   ],
   "source": [
    "print df['thetext']"
   ]
  },
  {
   "cell_type": "code",
   "execution_count": 3,
   "metadata": {
    "collapsed": true
   },
   "outputs": [],
   "source": [
    "def discription_to_words( raw_description ):\n",
    "    # Function to convert a raw bug discription to a string of words\n",
    "    # 1. Remove markers\n",
    "    discription_text = BeautifulSoup(raw_description).get_text() \n",
    "    #\n",
    "    # 2. Remove non-letters        \n",
    "    #letters_only = re.sub(\"[^a-zA-Z]\", \" \", review_text) \n",
    "    #\n",
    "    # 3. Convert to lower case, split into individual words\n",
    "    words = discription_text.lower().split()                             \n",
    "    #\n",
    "    # 4. In Python, searching a set is much faster than searching\n",
    "    #   a list, so convert the stop words to a set\n",
    "    stops = set(stopwords.words(\"english\"))                  \n",
    "    # \n",
    "    # 5. Remove stop words\n",
    "    meaningful_words = [w for w in words if not w in stops]   \n",
    "    #\n",
    "    # 6. Join the words back into one string separated by space, \n",
    "    # and return the result.\n",
    "    return( \" \".join( meaningful_words ))"
   ]
  },
  {
   "cell_type": "code",
   "execution_count": 4,
   "metadata": {
    "collapsed": false
   },
   "outputs": [
    {
     "name": "stdout",
     "output_type": "stream",
     "text": [
      "0    panic user-level causes non-obvious failures m...\n",
      "1                       bug fixed. seem happen anymore\n",
      "2                                            linux-hos\n",
      "3    gnats-environment-fields: host os: guest os: p...\n",
      "4    gnats-environment-fields: host os: guest os: p...\n",
      "5    due import siebel tickets salesforce.com, srs ...\n",
      "6    server: perforce-releng.eng.vmware.com:1850 ch...\n",
      "Name: thetext, dtype: object\n"
     ]
    }
   ],
   "source": [
    "print df['thetext'].apply(discription_to_words)"
   ]
  },
  {
   "cell_type": "code",
   "execution_count": 6,
   "metadata": {
    "collapsed": false
   },
   "outputs": [
    {
     "name": "stdout",
     "output_type": "stream",
     "text": [
      "0    A panic at user-level causes non-obvious failu...\n",
      "Name: thetext, dtype: object\n"
     ]
    }
   ],
   "source": [
    "print df.head(1)[\"thetext\"]"
   ]
  },
  {
   "cell_type": "code",
   "execution_count": 11,
   "metadata": {
    "collapsed": false
   },
   "outputs": [
    {
     "name": "stdout",
     "output_type": "stream",
     "text": [
      "english\n"
     ]
    }
   ],
   "source": [
    "from sklearn.feature_extraction.text import CountVectorizer\n",
    "vectorizer = CountVectorizer(analyzer = \"word\", tokenizer = None, preprocessor = None, stop_words = 'english', max_features = 5000)\n",
    "print vectorizer.stop_words"
   ]
  },
  {
   "cell_type": "code",
   "execution_count": 12,
   "metadata": {
    "collapsed": false
   },
   "outputs": [
    {
     "name": "stdout",
     "output_type": "stream",
     "text": [
      "A panic at user-level causes non-obvious failures modes (e.g. core dumps)\n",
      "in different modules depending on the level of initialization\n",
      "\n",
      "ASSERT(0) in various places at user-leve\n",
      "\n"
     ]
    }
   ],
   "source": [
    "print df['thetext'][0]"
   ]
  },
  {
   "cell_type": "raw",
   "metadata": {},
   "source": []
  }
 ],
 "metadata": {
  "kernelspec": {
   "display_name": "Python 2",
   "language": "python",
   "name": "python2"
  },
  "language_info": {
   "codemirror_mode": {
    "name": "ipython",
    "version": 2
   },
   "file_extension": ".py",
   "mimetype": "text/x-python",
   "name": "python",
   "nbconvert_exporter": "python",
   "pygments_lexer": "ipython2",
   "version": "2.7.8"
  }
 },
 "nbformat": 4,
 "nbformat_minor": 0
}
